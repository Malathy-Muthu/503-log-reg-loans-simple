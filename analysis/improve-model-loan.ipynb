{
 "cells": [
  {
   "cell_type": "markdown",
   "id": "difficult-ordinance",
   "metadata": {},
   "source": [
    "## Mortgage Loans: Logistic Regression Example"
   ]
  },
  {
   "cell_type": "code",
   "execution_count": 74,
   "id": "knowing-entrepreneur",
   "metadata": {},
   "outputs": [],
   "source": [
    "import pandas as pd\n",
    "from sklearn.linear_model import LogisticRegression\n",
    "from sklearn.model_selection import train_test_split\n",
    "from sklearn import metrics\n",
    "import matplotlib.pyplot as plt\n",
    "import numpy as np\n",
    "from math import sqrt\n",
    "import pickle"
   ]
  },
  {
   "cell_type": "code",
   "execution_count": 2,
   "id": "354c271e-b45f-4c4c-bcad-de1359c49777",
   "metadata": {},
   "outputs": [
    {
     "name": "stdout",
     "output_type": "stream",
     "text": [
      "Collecting sklearn\n",
      "  Using cached sklearn-0.0-py2.py3-none-any.whl\n",
      "Collecting scikit-learn\n",
      "  Using cached scikit_learn-1.0.2-cp39-cp39-manylinux_2_17_x86_64.manylinux2014_x86_64.whl (26.4 MB)\n",
      "Requirement already satisfied: scipy>=1.1.0 in /home/studio-lab-user/.conda/envs/d2l/lib/python3.9/site-packages (from scikit-learn->sklearn) (1.8.0)\n",
      "Collecting threadpoolctl>=2.0.0\n",
      "  Using cached threadpoolctl-3.1.0-py3-none-any.whl (14 kB)\n",
      "Requirement already satisfied: numpy>=1.14.6 in /home/studio-lab-user/.conda/envs/d2l/lib/python3.9/site-packages (from scikit-learn->sklearn) (1.22.3)\n",
      "Collecting joblib>=0.11\n",
      "  Using cached joblib-1.1.0-py2.py3-none-any.whl (306 kB)\n",
      "Installing collected packages: threadpoolctl, joblib, scikit-learn, sklearn\n",
      "Successfully installed joblib-1.1.0 scikit-learn-1.0.2 sklearn-0.0 threadpoolctl-3.1.0\n"
     ]
    }
   ],
   "source": [
    "!pip install sklearn"
   ]
  },
  {
   "cell_type": "code",
   "execution_count": 4,
   "id": "classical-simulation",
   "metadata": {},
   "outputs": [
    {
     "data": {
      "text/plain": [
       "(614, 13)"
      ]
     },
     "execution_count": 4,
     "metadata": {},
     "output_type": "execute_result"
    }
   ],
   "source": [
    "df = pd.read_csv('../data/loan_data_set.csv')\n",
    "df.shape"
   ]
  },
  {
   "cell_type": "code",
   "execution_count": 5,
   "id": "7884b008-119d-4204-b4e3-48fbe784e2f7",
   "metadata": {},
   "outputs": [
    {
     "data": {
      "text/html": [
       "<div>\n",
       "<style scoped>\n",
       "    .dataframe tbody tr th:only-of-type {\n",
       "        vertical-align: middle;\n",
       "    }\n",
       "\n",
       "    .dataframe tbody tr th {\n",
       "        vertical-align: top;\n",
       "    }\n",
       "\n",
       "    .dataframe thead th {\n",
       "        text-align: right;\n",
       "    }\n",
       "</style>\n",
       "<table border=\"1\" class=\"dataframe\">\n",
       "  <thead>\n",
       "    <tr style=\"text-align: right;\">\n",
       "      <th></th>\n",
       "      <th>Loan_ID</th>\n",
       "      <th>Gender</th>\n",
       "      <th>Married</th>\n",
       "      <th>Dependents</th>\n",
       "      <th>Education</th>\n",
       "      <th>Self_Employed</th>\n",
       "      <th>ApplicantIncome</th>\n",
       "      <th>CoapplicantIncome</th>\n",
       "      <th>LoanAmount</th>\n",
       "      <th>Loan_Amount_Term</th>\n",
       "      <th>Credit_History</th>\n",
       "      <th>Property_Area</th>\n",
       "      <th>Loan_Status</th>\n",
       "    </tr>\n",
       "  </thead>\n",
       "  <tbody>\n",
       "    <tr>\n",
       "      <th>0</th>\n",
       "      <td>LP001002</td>\n",
       "      <td>Male</td>\n",
       "      <td>No</td>\n",
       "      <td>0</td>\n",
       "      <td>Graduate</td>\n",
       "      <td>No</td>\n",
       "      <td>5849</td>\n",
       "      <td>0.0</td>\n",
       "      <td>NaN</td>\n",
       "      <td>360.0</td>\n",
       "      <td>1.0</td>\n",
       "      <td>Urban</td>\n",
       "      <td>Y</td>\n",
       "    </tr>\n",
       "    <tr>\n",
       "      <th>1</th>\n",
       "      <td>LP001003</td>\n",
       "      <td>Male</td>\n",
       "      <td>Yes</td>\n",
       "      <td>1</td>\n",
       "      <td>Graduate</td>\n",
       "      <td>No</td>\n",
       "      <td>4583</td>\n",
       "      <td>1508.0</td>\n",
       "      <td>128.0</td>\n",
       "      <td>360.0</td>\n",
       "      <td>1.0</td>\n",
       "      <td>Rural</td>\n",
       "      <td>N</td>\n",
       "    </tr>\n",
       "    <tr>\n",
       "      <th>2</th>\n",
       "      <td>LP001005</td>\n",
       "      <td>Male</td>\n",
       "      <td>Yes</td>\n",
       "      <td>0</td>\n",
       "      <td>Graduate</td>\n",
       "      <td>Yes</td>\n",
       "      <td>3000</td>\n",
       "      <td>0.0</td>\n",
       "      <td>66.0</td>\n",
       "      <td>360.0</td>\n",
       "      <td>1.0</td>\n",
       "      <td>Urban</td>\n",
       "      <td>Y</td>\n",
       "    </tr>\n",
       "    <tr>\n",
       "      <th>3</th>\n",
       "      <td>LP001006</td>\n",
       "      <td>Male</td>\n",
       "      <td>Yes</td>\n",
       "      <td>0</td>\n",
       "      <td>Not Graduate</td>\n",
       "      <td>No</td>\n",
       "      <td>2583</td>\n",
       "      <td>2358.0</td>\n",
       "      <td>120.0</td>\n",
       "      <td>360.0</td>\n",
       "      <td>1.0</td>\n",
       "      <td>Urban</td>\n",
       "      <td>Y</td>\n",
       "    </tr>\n",
       "    <tr>\n",
       "      <th>4</th>\n",
       "      <td>LP001008</td>\n",
       "      <td>Male</td>\n",
       "      <td>No</td>\n",
       "      <td>0</td>\n",
       "      <td>Graduate</td>\n",
       "      <td>No</td>\n",
       "      <td>6000</td>\n",
       "      <td>0.0</td>\n",
       "      <td>141.0</td>\n",
       "      <td>360.0</td>\n",
       "      <td>1.0</td>\n",
       "      <td>Urban</td>\n",
       "      <td>Y</td>\n",
       "    </tr>\n",
       "  </tbody>\n",
       "</table>\n",
       "</div>"
      ],
      "text/plain": [
       "    Loan_ID Gender Married Dependents     Education Self_Employed  \\\n",
       "0  LP001002   Male      No          0      Graduate            No   \n",
       "1  LP001003   Male     Yes          1      Graduate            No   \n",
       "2  LP001005   Male     Yes          0      Graduate           Yes   \n",
       "3  LP001006   Male     Yes          0  Not Graduate            No   \n",
       "4  LP001008   Male      No          0      Graduate            No   \n",
       "\n",
       "   ApplicantIncome  CoapplicantIncome  LoanAmount  Loan_Amount_Term  \\\n",
       "0             5849                0.0         NaN             360.0   \n",
       "1             4583             1508.0       128.0             360.0   \n",
       "2             3000                0.0        66.0             360.0   \n",
       "3             2583             2358.0       120.0             360.0   \n",
       "4             6000                0.0       141.0             360.0   \n",
       "\n",
       "   Credit_History Property_Area Loan_Status  \n",
       "0             1.0         Urban           Y  \n",
       "1             1.0         Rural           N  \n",
       "2             1.0         Urban           Y  \n",
       "3             1.0         Urban           Y  \n",
       "4             1.0         Urban           Y  "
      ]
     },
     "execution_count": 5,
     "metadata": {},
     "output_type": "execute_result"
    }
   ],
   "source": [
    "df.head(5)"
   ]
  },
  {
   "cell_type": "code",
   "execution_count": 6,
   "id": "dbf11fc2-d008-4d26-8acc-6e2f349db3e5",
   "metadata": {},
   "outputs": [],
   "source": [
    "loan = df"
   ]
  },
  {
   "cell_type": "code",
   "execution_count": 25,
   "id": "2d685711-c448-46ba-86ed-f5e62837d55a",
   "metadata": {},
   "outputs": [
    {
     "name": "stderr",
     "output_type": "stream",
     "text": [
      "/tmp/ipykernel_148/2434148800.py:1: SettingWithCopyWarning: \n",
      "A value is trying to be set on a copy of a slice from a DataFrame\n",
      "\n",
      "See the caveats in the documentation: https://pandas.pydata.org/pandas-docs/stable/user_guide/indexing.html#returning-a-view-versus-a-copy\n",
      "  loan.drop(['Loan_ID'], axis=1, inplace=True)\n"
     ]
    }
   ],
   "source": [
    "loan.drop(['Loan_ID'], axis=1, inplace=True)"
   ]
  },
  {
   "cell_type": "code",
   "execution_count": 26,
   "id": "adf6ac02-ff2d-4f9b-b965-3b9004724bf8",
   "metadata": {},
   "outputs": [
    {
     "data": {
      "text/html": [
       "<div>\n",
       "<style scoped>\n",
       "    .dataframe tbody tr th:only-of-type {\n",
       "        vertical-align: middle;\n",
       "    }\n",
       "\n",
       "    .dataframe tbody tr th {\n",
       "        vertical-align: top;\n",
       "    }\n",
       "\n",
       "    .dataframe thead th {\n",
       "        text-align: right;\n",
       "    }\n",
       "</style>\n",
       "<table border=\"1\" class=\"dataframe\">\n",
       "  <thead>\n",
       "    <tr style=\"text-align: right;\">\n",
       "      <th></th>\n",
       "      <th>Gender</th>\n",
       "      <th>Married</th>\n",
       "      <th>Dependents</th>\n",
       "      <th>Education</th>\n",
       "      <th>Self_Employed</th>\n",
       "      <th>ApplicantIncome</th>\n",
       "      <th>CoapplicantIncome</th>\n",
       "      <th>LoanAmount</th>\n",
       "      <th>Loan_Amount_Term</th>\n",
       "      <th>Credit_History</th>\n",
       "      <th>Property_Area</th>\n",
       "      <th>Loan_Status</th>\n",
       "    </tr>\n",
       "  </thead>\n",
       "  <tbody>\n",
       "    <tr>\n",
       "      <th>1</th>\n",
       "      <td>Male</td>\n",
       "      <td>Yes</td>\n",
       "      <td>1</td>\n",
       "      <td>1</td>\n",
       "      <td>No</td>\n",
       "      <td>4583</td>\n",
       "      <td>1508.0</td>\n",
       "      <td>128.0</td>\n",
       "      <td>360.0</td>\n",
       "      <td>1.0</td>\n",
       "      <td>Rural</td>\n",
       "      <td>N</td>\n",
       "    </tr>\n",
       "    <tr>\n",
       "      <th>2</th>\n",
       "      <td>Male</td>\n",
       "      <td>Yes</td>\n",
       "      <td>0</td>\n",
       "      <td>1</td>\n",
       "      <td>Yes</td>\n",
       "      <td>3000</td>\n",
       "      <td>0.0</td>\n",
       "      <td>66.0</td>\n",
       "      <td>360.0</td>\n",
       "      <td>1.0</td>\n",
       "      <td>Urban</td>\n",
       "      <td>Y</td>\n",
       "    </tr>\n",
       "    <tr>\n",
       "      <th>3</th>\n",
       "      <td>Male</td>\n",
       "      <td>Yes</td>\n",
       "      <td>0</td>\n",
       "      <td>0</td>\n",
       "      <td>No</td>\n",
       "      <td>2583</td>\n",
       "      <td>2358.0</td>\n",
       "      <td>120.0</td>\n",
       "      <td>360.0</td>\n",
       "      <td>1.0</td>\n",
       "      <td>Urban</td>\n",
       "      <td>Y</td>\n",
       "    </tr>\n",
       "    <tr>\n",
       "      <th>4</th>\n",
       "      <td>Male</td>\n",
       "      <td>No</td>\n",
       "      <td>0</td>\n",
       "      <td>1</td>\n",
       "      <td>No</td>\n",
       "      <td>6000</td>\n",
       "      <td>0.0</td>\n",
       "      <td>141.0</td>\n",
       "      <td>360.0</td>\n",
       "      <td>1.0</td>\n",
       "      <td>Urban</td>\n",
       "      <td>Y</td>\n",
       "    </tr>\n",
       "    <tr>\n",
       "      <th>5</th>\n",
       "      <td>Male</td>\n",
       "      <td>Yes</td>\n",
       "      <td>2</td>\n",
       "      <td>1</td>\n",
       "      <td>Yes</td>\n",
       "      <td>5417</td>\n",
       "      <td>4196.0</td>\n",
       "      <td>267.0</td>\n",
       "      <td>360.0</td>\n",
       "      <td>1.0</td>\n",
       "      <td>Urban</td>\n",
       "      <td>Y</td>\n",
       "    </tr>\n",
       "  </tbody>\n",
       "</table>\n",
       "</div>"
      ],
      "text/plain": [
       "  Gender Married Dependents  Education Self_Employed  ApplicantIncome  \\\n",
       "1   Male     Yes          1          1            No             4583   \n",
       "2   Male     Yes          0          1           Yes             3000   \n",
       "3   Male     Yes          0          0            No             2583   \n",
       "4   Male      No          0          1            No             6000   \n",
       "5   Male     Yes          2          1           Yes             5417   \n",
       "\n",
       "   CoapplicantIncome  LoanAmount  Loan_Amount_Term  Credit_History  \\\n",
       "1             1508.0       128.0             360.0             1.0   \n",
       "2                0.0        66.0             360.0             1.0   \n",
       "3             2358.0       120.0             360.0             1.0   \n",
       "4                0.0       141.0             360.0             1.0   \n",
       "5             4196.0       267.0             360.0             1.0   \n",
       "\n",
       "  Property_Area Loan_Status  \n",
       "1         Rural           N  \n",
       "2         Urban           Y  \n",
       "3         Urban           Y  \n",
       "4         Urban           Y  \n",
       "5         Urban           Y  "
      ]
     },
     "execution_count": 26,
     "metadata": {},
     "output_type": "execute_result"
    }
   ],
   "source": [
    "loan.head(5)"
   ]
  },
  {
   "cell_type": "code",
   "execution_count": 27,
   "id": "79187668-91c7-4ab8-a092-ba8a0fa0f7dc",
   "metadata": {},
   "outputs": [
    {
     "name": "stderr",
     "output_type": "stream",
     "text": [
      "/tmp/ipykernel_148/3473061090.py:1: SettingWithCopyWarning: \n",
      "A value is trying to be set on a copy of a slice from a DataFrame\n",
      "\n",
      "See the caveats in the documentation: https://pandas.pydata.org/pandas-docs/stable/user_guide/indexing.html#returning-a-view-versus-a-copy\n",
      "  loan['Education'].replace(['Graduate', 'Not Graduate'],\n"
     ]
    }
   ],
   "source": [
    "loan['Education'].replace(['Graduate', 'Not Graduate'],\n",
    "                        [1, 0], inplace=True)"
   ]
  },
  {
   "cell_type": "code",
   "execution_count": 28,
   "id": "ea546db8-12ea-405a-b44d-7a7681aa088f",
   "metadata": {},
   "outputs": [
    {
     "name": "stderr",
     "output_type": "stream",
     "text": [
      "/tmp/ipykernel_148/4214267916.py:1: SettingWithCopyWarning: \n",
      "A value is trying to be set on a copy of a slice from a DataFrame\n",
      "\n",
      "See the caveats in the documentation: https://pandas.pydata.org/pandas-docs/stable/user_guide/indexing.html#returning-a-view-versus-a-copy\n",
      "  loan['Loan_Status'].replace(['Y', 'N'],\n"
     ]
    }
   ],
   "source": [
    "loan['Loan_Status'].replace(['Y', 'N'],\n",
    "                        [1, 0], inplace=True)"
   ]
  },
  {
   "cell_type": "code",
   "execution_count": 29,
   "id": "e54e3d60-9a4f-44e3-923c-9f8c357d3540",
   "metadata": {},
   "outputs": [
    {
     "data": {
      "text/plain": [
       "array(['Male', 'Female'], dtype=object)"
      ]
     },
     "execution_count": 29,
     "metadata": {},
     "output_type": "execute_result"
    }
   ],
   "source": [
    "loan.Gender.unique()"
   ]
  },
  {
   "cell_type": "code",
   "execution_count": 41,
   "id": "837eedfa-c8ec-45bd-8814-8bbadbf4999d",
   "metadata": {},
   "outputs": [
    {
     "data": {
      "text/plain": [
       "array(['1', '0', '2', '3+'], dtype=object)"
      ]
     },
     "execution_count": 41,
     "metadata": {},
     "output_type": "execute_result"
    }
   ],
   "source": [
    "loan.Dependents.unique()"
   ]
  },
  {
   "cell_type": "code",
   "execution_count": 30,
   "id": "f282bc38-15cd-464b-a914-9452148a3ea4",
   "metadata": {},
   "outputs": [
    {
     "data": {
      "text/plain": [
       "array(['Yes', 'No'], dtype=object)"
      ]
     },
     "execution_count": 30,
     "metadata": {},
     "output_type": "execute_result"
    }
   ],
   "source": [
    "loan.Married.unique()"
   ]
  },
  {
   "cell_type": "code",
   "execution_count": 31,
   "id": "8878647d-ab20-4e55-a852-cc015d7b34fe",
   "metadata": {},
   "outputs": [
    {
     "data": {
      "text/plain": [
       "array([1, 0])"
      ]
     },
     "execution_count": 31,
     "metadata": {},
     "output_type": "execute_result"
    }
   ],
   "source": [
    "loan.Education.unique()"
   ]
  },
  {
   "cell_type": "code",
   "execution_count": 32,
   "id": "ab47ed29-3bae-4950-8bac-55d533ea1bea",
   "metadata": {},
   "outputs": [],
   "source": [
    "loan=loan.dropna()"
   ]
  },
  {
   "cell_type": "code",
   "execution_count": 33,
   "id": "7143a473-bd4f-4170-94a8-c77e00b95b83",
   "metadata": {},
   "outputs": [
    {
     "data": {
      "text/plain": [
       "array(['No', 'Yes'], dtype=object)"
      ]
     },
     "execution_count": 33,
     "metadata": {},
     "output_type": "execute_result"
    }
   ],
   "source": [
    "loan.Self_Employed.unique()"
   ]
  },
  {
   "cell_type": "code",
   "execution_count": 34,
   "id": "b54ebea6-177b-4aca-9d7f-09c049785bcb",
   "metadata": {},
   "outputs": [
    {
     "data": {
      "text/plain": [
       "array(['Rural', 'Urban', 'Semiurban'], dtype=object)"
      ]
     },
     "execution_count": 34,
     "metadata": {},
     "output_type": "execute_result"
    }
   ],
   "source": [
    "loan.Property_Area.unique()"
   ]
  },
  {
   "cell_type": "code",
   "execution_count": 39,
   "id": "6123bdd4-f8c8-407b-a53d-289f24aa7ade",
   "metadata": {},
   "outputs": [],
   "source": [
    "dummies=pd.get_dummies(loan, prefix=None, prefix_sep='_', dummy_na=False, columns=None, sparse=False, drop_first=False, dtype=None)"
   ]
  },
  {
   "cell_type": "code",
   "execution_count": 49,
   "id": "59cb3e42-2998-41d9-8739-2d72ce5d8b04",
   "metadata": {},
   "outputs": [
    {
     "data": {
      "text/html": [
       "<div>\n",
       "<style scoped>\n",
       "    .dataframe tbody tr th:only-of-type {\n",
       "        vertical-align: middle;\n",
       "    }\n",
       "\n",
       "    .dataframe tbody tr th {\n",
       "        vertical-align: top;\n",
       "    }\n",
       "\n",
       "    .dataframe thead th {\n",
       "        text-align: right;\n",
       "    }\n",
       "</style>\n",
       "<table border=\"1\" class=\"dataframe\">\n",
       "  <thead>\n",
       "    <tr style=\"text-align: right;\">\n",
       "      <th></th>\n",
       "      <th>Education</th>\n",
       "      <th>ApplicantIncome</th>\n",
       "      <th>CoapplicantIncome</th>\n",
       "      <th>LoanAmount</th>\n",
       "      <th>Loan_Amount_Term</th>\n",
       "      <th>Credit_History</th>\n",
       "      <th>Loan_Status</th>\n",
       "      <th>Gender_Female</th>\n",
       "      <th>Gender_Male</th>\n",
       "      <th>Married_No</th>\n",
       "      <th>Married_Yes</th>\n",
       "      <th>Dependents_0</th>\n",
       "      <th>Dependents_1</th>\n",
       "      <th>Dependents_2</th>\n",
       "      <th>Dependents_3+</th>\n",
       "      <th>Self_Employed_No</th>\n",
       "      <th>Self_Employed_Yes</th>\n",
       "      <th>Property_Area_Rural</th>\n",
       "      <th>Property_Area_Semiurban</th>\n",
       "      <th>Property_Area_Urban</th>\n",
       "    </tr>\n",
       "  </thead>\n",
       "  <tbody>\n",
       "    <tr>\n",
       "      <th>1</th>\n",
       "      <td>1</td>\n",
       "      <td>4583</td>\n",
       "      <td>1508.0</td>\n",
       "      <td>128.0</td>\n",
       "      <td>360.0</td>\n",
       "      <td>1.0</td>\n",
       "      <td>0</td>\n",
       "      <td>0</td>\n",
       "      <td>1</td>\n",
       "      <td>0</td>\n",
       "      <td>1</td>\n",
       "      <td>0</td>\n",
       "      <td>1</td>\n",
       "      <td>0</td>\n",
       "      <td>0</td>\n",
       "      <td>1</td>\n",
       "      <td>0</td>\n",
       "      <td>1</td>\n",
       "      <td>0</td>\n",
       "      <td>0</td>\n",
       "    </tr>\n",
       "    <tr>\n",
       "      <th>2</th>\n",
       "      <td>1</td>\n",
       "      <td>3000</td>\n",
       "      <td>0.0</td>\n",
       "      <td>66.0</td>\n",
       "      <td>360.0</td>\n",
       "      <td>1.0</td>\n",
       "      <td>1</td>\n",
       "      <td>0</td>\n",
       "      <td>1</td>\n",
       "      <td>0</td>\n",
       "      <td>1</td>\n",
       "      <td>1</td>\n",
       "      <td>0</td>\n",
       "      <td>0</td>\n",
       "      <td>0</td>\n",
       "      <td>0</td>\n",
       "      <td>1</td>\n",
       "      <td>0</td>\n",
       "      <td>0</td>\n",
       "      <td>1</td>\n",
       "    </tr>\n",
       "    <tr>\n",
       "      <th>3</th>\n",
       "      <td>0</td>\n",
       "      <td>2583</td>\n",
       "      <td>2358.0</td>\n",
       "      <td>120.0</td>\n",
       "      <td>360.0</td>\n",
       "      <td>1.0</td>\n",
       "      <td>1</td>\n",
       "      <td>0</td>\n",
       "      <td>1</td>\n",
       "      <td>0</td>\n",
       "      <td>1</td>\n",
       "      <td>1</td>\n",
       "      <td>0</td>\n",
       "      <td>0</td>\n",
       "      <td>0</td>\n",
       "      <td>1</td>\n",
       "      <td>0</td>\n",
       "      <td>0</td>\n",
       "      <td>0</td>\n",
       "      <td>1</td>\n",
       "    </tr>\n",
       "    <tr>\n",
       "      <th>4</th>\n",
       "      <td>1</td>\n",
       "      <td>6000</td>\n",
       "      <td>0.0</td>\n",
       "      <td>141.0</td>\n",
       "      <td>360.0</td>\n",
       "      <td>1.0</td>\n",
       "      <td>1</td>\n",
       "      <td>0</td>\n",
       "      <td>1</td>\n",
       "      <td>1</td>\n",
       "      <td>0</td>\n",
       "      <td>1</td>\n",
       "      <td>0</td>\n",
       "      <td>0</td>\n",
       "      <td>0</td>\n",
       "      <td>1</td>\n",
       "      <td>0</td>\n",
       "      <td>0</td>\n",
       "      <td>0</td>\n",
       "      <td>1</td>\n",
       "    </tr>\n",
       "    <tr>\n",
       "      <th>5</th>\n",
       "      <td>1</td>\n",
       "      <td>5417</td>\n",
       "      <td>4196.0</td>\n",
       "      <td>267.0</td>\n",
       "      <td>360.0</td>\n",
       "      <td>1.0</td>\n",
       "      <td>1</td>\n",
       "      <td>0</td>\n",
       "      <td>1</td>\n",
       "      <td>0</td>\n",
       "      <td>1</td>\n",
       "      <td>0</td>\n",
       "      <td>0</td>\n",
       "      <td>1</td>\n",
       "      <td>0</td>\n",
       "      <td>0</td>\n",
       "      <td>1</td>\n",
       "      <td>0</td>\n",
       "      <td>0</td>\n",
       "      <td>1</td>\n",
       "    </tr>\n",
       "  </tbody>\n",
       "</table>\n",
       "</div>"
      ],
      "text/plain": [
       "   Education  ApplicantIncome  CoapplicantIncome  LoanAmount  \\\n",
       "1          1             4583             1508.0       128.0   \n",
       "2          1             3000                0.0        66.0   \n",
       "3          0             2583             2358.0       120.0   \n",
       "4          1             6000                0.0       141.0   \n",
       "5          1             5417             4196.0       267.0   \n",
       "\n",
       "   Loan_Amount_Term  Credit_History  Loan_Status  Gender_Female  Gender_Male  \\\n",
       "1             360.0             1.0            0              0            1   \n",
       "2             360.0             1.0            1              0            1   \n",
       "3             360.0             1.0            1              0            1   \n",
       "4             360.0             1.0            1              0            1   \n",
       "5             360.0             1.0            1              0            1   \n",
       "\n",
       "   Married_No  Married_Yes  Dependents_0  Dependents_1  Dependents_2  \\\n",
       "1           0            1             0             1             0   \n",
       "2           0            1             1             0             0   \n",
       "3           0            1             1             0             0   \n",
       "4           1            0             1             0             0   \n",
       "5           0            1             0             0             1   \n",
       "\n",
       "   Dependents_3+  Self_Employed_No  Self_Employed_Yes  Property_Area_Rural  \\\n",
       "1              0                 1                  0                    1   \n",
       "2              0                 0                  1                    0   \n",
       "3              0                 1                  0                    0   \n",
       "4              0                 1                  0                    0   \n",
       "5              0                 0                  1                    0   \n",
       "\n",
       "   Property_Area_Semiurban  Property_Area_Urban  \n",
       "1                        0                    0  \n",
       "2                        0                    1  \n",
       "3                        0                    1  \n",
       "4                        0                    1  \n",
       "5                        0                    1  "
      ]
     },
     "execution_count": 49,
     "metadata": {},
     "output_type": "execute_result"
    }
   ],
   "source": [
    "dummies.head(5)"
   ]
  },
  {
   "cell_type": "code",
   "execution_count": 50,
   "id": "7003e0e2-6bfd-44dc-955f-30435683e13f",
   "metadata": {},
   "outputs": [],
   "source": [
    "loan=dummies"
   ]
  },
  {
   "cell_type": "code",
   "execution_count": 40,
   "id": "4676c917-fef0-4a0f-8db2-9a1fa0ca7426",
   "metadata": {},
   "outputs": [],
   "source": [
    "merged = pd.concat([loan, dummies], axis='columns')"
   ]
  },
  {
   "cell_type": "code",
   "execution_count": 135,
   "id": "1bd19277-b56c-4ead-a61b-467aee9fe776",
   "metadata": {},
   "outputs": [
    {
     "data": {
      "text/html": [
       "<div>\n",
       "<style scoped>\n",
       "    .dataframe tbody tr th:only-of-type {\n",
       "        vertical-align: middle;\n",
       "    }\n",
       "\n",
       "    .dataframe tbody tr th {\n",
       "        vertical-align: top;\n",
       "    }\n",
       "\n",
       "    .dataframe thead th {\n",
       "        text-align: right;\n",
       "    }\n",
       "</style>\n",
       "<table border=\"1\" class=\"dataframe\">\n",
       "  <thead>\n",
       "    <tr style=\"text-align: right;\">\n",
       "      <th></th>\n",
       "      <th>Education</th>\n",
       "      <th>ApplicantIncome</th>\n",
       "      <th>CoapplicantIncome</th>\n",
       "      <th>LoanAmount</th>\n",
       "      <th>Loan_Amount_Term</th>\n",
       "      <th>Credit_History</th>\n",
       "      <th>Loan_Status</th>\n",
       "      <th>Gender_Female</th>\n",
       "      <th>Married_No</th>\n",
       "      <th>Dependents_0</th>\n",
       "      <th>Dependents_1</th>\n",
       "      <th>Dependents_2</th>\n",
       "      <th>Dependents_3+</th>\n",
       "      <th>Self_Employed_No</th>\n",
       "      <th>Property_Area_Rural</th>\n",
       "      <th>Property_Area_Semiurban</th>\n",
       "      <th>Property_Area_Urban</th>\n",
       "      <th>Loan_Approval</th>\n",
       "    </tr>\n",
       "  </thead>\n",
       "  <tbody>\n",
       "    <tr>\n",
       "      <th>1</th>\n",
       "      <td>1</td>\n",
       "      <td>4583</td>\n",
       "      <td>1508.0</td>\n",
       "      <td>128.0</td>\n",
       "      <td>360.0</td>\n",
       "      <td>1.0</td>\n",
       "      <td>0</td>\n",
       "      <td>0</td>\n",
       "      <td>0</td>\n",
       "      <td>0</td>\n",
       "      <td>1</td>\n",
       "      <td>0</td>\n",
       "      <td>0</td>\n",
       "      <td>1</td>\n",
       "      <td>1</td>\n",
       "      <td>0</td>\n",
       "      <td>0</td>\n",
       "      <td>0</td>\n",
       "    </tr>\n",
       "    <tr>\n",
       "      <th>2</th>\n",
       "      <td>1</td>\n",
       "      <td>3000</td>\n",
       "      <td>0.0</td>\n",
       "      <td>66.0</td>\n",
       "      <td>360.0</td>\n",
       "      <td>1.0</td>\n",
       "      <td>1</td>\n",
       "      <td>0</td>\n",
       "      <td>0</td>\n",
       "      <td>1</td>\n",
       "      <td>0</td>\n",
       "      <td>0</td>\n",
       "      <td>0</td>\n",
       "      <td>0</td>\n",
       "      <td>0</td>\n",
       "      <td>0</td>\n",
       "      <td>1</td>\n",
       "      <td>0</td>\n",
       "    </tr>\n",
       "    <tr>\n",
       "      <th>3</th>\n",
       "      <td>0</td>\n",
       "      <td>2583</td>\n",
       "      <td>2358.0</td>\n",
       "      <td>120.0</td>\n",
       "      <td>360.0</td>\n",
       "      <td>1.0</td>\n",
       "      <td>1</td>\n",
       "      <td>0</td>\n",
       "      <td>0</td>\n",
       "      <td>1</td>\n",
       "      <td>0</td>\n",
       "      <td>0</td>\n",
       "      <td>0</td>\n",
       "      <td>1</td>\n",
       "      <td>0</td>\n",
       "      <td>0</td>\n",
       "      <td>1</td>\n",
       "      <td>0</td>\n",
       "    </tr>\n",
       "    <tr>\n",
       "      <th>4</th>\n",
       "      <td>1</td>\n",
       "      <td>6000</td>\n",
       "      <td>0.0</td>\n",
       "      <td>141.0</td>\n",
       "      <td>360.0</td>\n",
       "      <td>1.0</td>\n",
       "      <td>1</td>\n",
       "      <td>0</td>\n",
       "      <td>1</td>\n",
       "      <td>1</td>\n",
       "      <td>0</td>\n",
       "      <td>0</td>\n",
       "      <td>0</td>\n",
       "      <td>1</td>\n",
       "      <td>0</td>\n",
       "      <td>0</td>\n",
       "      <td>1</td>\n",
       "      <td>0</td>\n",
       "    </tr>\n",
       "    <tr>\n",
       "      <th>5</th>\n",
       "      <td>1</td>\n",
       "      <td>5417</td>\n",
       "      <td>4196.0</td>\n",
       "      <td>267.0</td>\n",
       "      <td>360.0</td>\n",
       "      <td>1.0</td>\n",
       "      <td>1</td>\n",
       "      <td>0</td>\n",
       "      <td>0</td>\n",
       "      <td>0</td>\n",
       "      <td>0</td>\n",
       "      <td>1</td>\n",
       "      <td>0</td>\n",
       "      <td>0</td>\n",
       "      <td>0</td>\n",
       "      <td>0</td>\n",
       "      <td>1</td>\n",
       "      <td>0</td>\n",
       "    </tr>\n",
       "  </tbody>\n",
       "</table>\n",
       "</div>"
      ],
      "text/plain": [
       "   Education  ApplicantIncome  CoapplicantIncome  LoanAmount  \\\n",
       "1          1             4583             1508.0       128.0   \n",
       "2          1             3000                0.0        66.0   \n",
       "3          0             2583             2358.0       120.0   \n",
       "4          1             6000                0.0       141.0   \n",
       "5          1             5417             4196.0       267.0   \n",
       "\n",
       "   Loan_Amount_Term  Credit_History  Loan_Status  Gender_Female  Married_No  \\\n",
       "1             360.0             1.0            0              0           0   \n",
       "2             360.0             1.0            1              0           0   \n",
       "3             360.0             1.0            1              0           0   \n",
       "4             360.0             1.0            1              0           1   \n",
       "5             360.0             1.0            1              0           0   \n",
       "\n",
       "   Dependents_0  Dependents_1  Dependents_2  Dependents_3+  Self_Employed_No  \\\n",
       "1             0             1             0              0                 1   \n",
       "2             1             0             0              0                 0   \n",
       "3             1             0             0              0                 1   \n",
       "4             1             0             0              0                 1   \n",
       "5             0             0             1              0                 0   \n",
       "\n",
       "   Property_Area_Rural  Property_Area_Semiurban  Property_Area_Urban  \\\n",
       "1                    1                        0                    0   \n",
       "2                    0                        0                    1   \n",
       "3                    0                        0                    1   \n",
       "4                    0                        0                    1   \n",
       "5                    0                        0                    1   \n",
       "\n",
       "   Loan_Approval  \n",
       "1              0  \n",
       "2              0  \n",
       "3              0  \n",
       "4              0  \n",
       "5              0  "
      ]
     },
     "execution_count": 135,
     "metadata": {},
     "output_type": "execute_result"
    }
   ],
   "source": [
    "loan.head(5)"
   ]
  },
  {
   "cell_type": "code",
   "execution_count": 42,
   "id": "da5f30d9-dc81-4298-99a3-2fff89a63476",
   "metadata": {},
   "outputs": [
    {
     "data": {
      "text/html": [
       "<div>\n",
       "<style scoped>\n",
       "    .dataframe tbody tr th:only-of-type {\n",
       "        vertical-align: middle;\n",
       "    }\n",
       "\n",
       "    .dataframe tbody tr th {\n",
       "        vertical-align: top;\n",
       "    }\n",
       "\n",
       "    .dataframe thead th {\n",
       "        text-align: right;\n",
       "    }\n",
       "</style>\n",
       "<table border=\"1\" class=\"dataframe\">\n",
       "  <thead>\n",
       "    <tr style=\"text-align: right;\">\n",
       "      <th></th>\n",
       "      <th>Education</th>\n",
       "      <th>ApplicantIncome</th>\n",
       "      <th>CoapplicantIncome</th>\n",
       "      <th>LoanAmount</th>\n",
       "      <th>Loan_Amount_Term</th>\n",
       "      <th>Credit_History</th>\n",
       "      <th>Loan_Status</th>\n",
       "      <th>Education</th>\n",
       "      <th>ApplicantIncome</th>\n",
       "      <th>CoapplicantIncome</th>\n",
       "      <th>...</th>\n",
       "      <th>Married_Yes</th>\n",
       "      <th>Dependents_0</th>\n",
       "      <th>Dependents_1</th>\n",
       "      <th>Dependents_2</th>\n",
       "      <th>Dependents_3+</th>\n",
       "      <th>Self_Employed_No</th>\n",
       "      <th>Self_Employed_Yes</th>\n",
       "      <th>Property_Area_Rural</th>\n",
       "      <th>Property_Area_Semiurban</th>\n",
       "      <th>Property_Area_Urban</th>\n",
       "    </tr>\n",
       "  </thead>\n",
       "  <tbody>\n",
       "    <tr>\n",
       "      <th>1</th>\n",
       "      <td>1</td>\n",
       "      <td>4583</td>\n",
       "      <td>1508.0</td>\n",
       "      <td>128.0</td>\n",
       "      <td>360.0</td>\n",
       "      <td>1.0</td>\n",
       "      <td>0</td>\n",
       "      <td>1</td>\n",
       "      <td>4583</td>\n",
       "      <td>1508.0</td>\n",
       "      <td>...</td>\n",
       "      <td>1</td>\n",
       "      <td>0</td>\n",
       "      <td>1</td>\n",
       "      <td>0</td>\n",
       "      <td>0</td>\n",
       "      <td>1</td>\n",
       "      <td>0</td>\n",
       "      <td>1</td>\n",
       "      <td>0</td>\n",
       "      <td>0</td>\n",
       "    </tr>\n",
       "    <tr>\n",
       "      <th>2</th>\n",
       "      <td>1</td>\n",
       "      <td>3000</td>\n",
       "      <td>0.0</td>\n",
       "      <td>66.0</td>\n",
       "      <td>360.0</td>\n",
       "      <td>1.0</td>\n",
       "      <td>1</td>\n",
       "      <td>1</td>\n",
       "      <td>3000</td>\n",
       "      <td>0.0</td>\n",
       "      <td>...</td>\n",
       "      <td>1</td>\n",
       "      <td>1</td>\n",
       "      <td>0</td>\n",
       "      <td>0</td>\n",
       "      <td>0</td>\n",
       "      <td>0</td>\n",
       "      <td>1</td>\n",
       "      <td>0</td>\n",
       "      <td>0</td>\n",
       "      <td>1</td>\n",
       "    </tr>\n",
       "    <tr>\n",
       "      <th>3</th>\n",
       "      <td>0</td>\n",
       "      <td>2583</td>\n",
       "      <td>2358.0</td>\n",
       "      <td>120.0</td>\n",
       "      <td>360.0</td>\n",
       "      <td>1.0</td>\n",
       "      <td>1</td>\n",
       "      <td>0</td>\n",
       "      <td>2583</td>\n",
       "      <td>2358.0</td>\n",
       "      <td>...</td>\n",
       "      <td>1</td>\n",
       "      <td>1</td>\n",
       "      <td>0</td>\n",
       "      <td>0</td>\n",
       "      <td>0</td>\n",
       "      <td>1</td>\n",
       "      <td>0</td>\n",
       "      <td>0</td>\n",
       "      <td>0</td>\n",
       "      <td>1</td>\n",
       "    </tr>\n",
       "    <tr>\n",
       "      <th>4</th>\n",
       "      <td>1</td>\n",
       "      <td>6000</td>\n",
       "      <td>0.0</td>\n",
       "      <td>141.0</td>\n",
       "      <td>360.0</td>\n",
       "      <td>1.0</td>\n",
       "      <td>1</td>\n",
       "      <td>1</td>\n",
       "      <td>6000</td>\n",
       "      <td>0.0</td>\n",
       "      <td>...</td>\n",
       "      <td>0</td>\n",
       "      <td>1</td>\n",
       "      <td>0</td>\n",
       "      <td>0</td>\n",
       "      <td>0</td>\n",
       "      <td>1</td>\n",
       "      <td>0</td>\n",
       "      <td>0</td>\n",
       "      <td>0</td>\n",
       "      <td>1</td>\n",
       "    </tr>\n",
       "    <tr>\n",
       "      <th>5</th>\n",
       "      <td>1</td>\n",
       "      <td>5417</td>\n",
       "      <td>4196.0</td>\n",
       "      <td>267.0</td>\n",
       "      <td>360.0</td>\n",
       "      <td>1.0</td>\n",
       "      <td>1</td>\n",
       "      <td>1</td>\n",
       "      <td>5417</td>\n",
       "      <td>4196.0</td>\n",
       "      <td>...</td>\n",
       "      <td>1</td>\n",
       "      <td>0</td>\n",
       "      <td>0</td>\n",
       "      <td>1</td>\n",
       "      <td>0</td>\n",
       "      <td>0</td>\n",
       "      <td>1</td>\n",
       "      <td>0</td>\n",
       "      <td>0</td>\n",
       "      <td>1</td>\n",
       "    </tr>\n",
       "    <tr>\n",
       "      <th>...</th>\n",
       "      <td>...</td>\n",
       "      <td>...</td>\n",
       "      <td>...</td>\n",
       "      <td>...</td>\n",
       "      <td>...</td>\n",
       "      <td>...</td>\n",
       "      <td>...</td>\n",
       "      <td>...</td>\n",
       "      <td>...</td>\n",
       "      <td>...</td>\n",
       "      <td>...</td>\n",
       "      <td>...</td>\n",
       "      <td>...</td>\n",
       "      <td>...</td>\n",
       "      <td>...</td>\n",
       "      <td>...</td>\n",
       "      <td>...</td>\n",
       "      <td>...</td>\n",
       "      <td>...</td>\n",
       "      <td>...</td>\n",
       "      <td>...</td>\n",
       "    </tr>\n",
       "    <tr>\n",
       "      <th>609</th>\n",
       "      <td>1</td>\n",
       "      <td>2900</td>\n",
       "      <td>0.0</td>\n",
       "      <td>71.0</td>\n",
       "      <td>360.0</td>\n",
       "      <td>1.0</td>\n",
       "      <td>1</td>\n",
       "      <td>1</td>\n",
       "      <td>2900</td>\n",
       "      <td>0.0</td>\n",
       "      <td>...</td>\n",
       "      <td>0</td>\n",
       "      <td>1</td>\n",
       "      <td>0</td>\n",
       "      <td>0</td>\n",
       "      <td>0</td>\n",
       "      <td>1</td>\n",
       "      <td>0</td>\n",
       "      <td>1</td>\n",
       "      <td>0</td>\n",
       "      <td>0</td>\n",
       "    </tr>\n",
       "    <tr>\n",
       "      <th>610</th>\n",
       "      <td>1</td>\n",
       "      <td>4106</td>\n",
       "      <td>0.0</td>\n",
       "      <td>40.0</td>\n",
       "      <td>180.0</td>\n",
       "      <td>1.0</td>\n",
       "      <td>1</td>\n",
       "      <td>1</td>\n",
       "      <td>4106</td>\n",
       "      <td>0.0</td>\n",
       "      <td>...</td>\n",
       "      <td>1</td>\n",
       "      <td>0</td>\n",
       "      <td>0</td>\n",
       "      <td>0</td>\n",
       "      <td>1</td>\n",
       "      <td>1</td>\n",
       "      <td>0</td>\n",
       "      <td>1</td>\n",
       "      <td>0</td>\n",
       "      <td>0</td>\n",
       "    </tr>\n",
       "    <tr>\n",
       "      <th>611</th>\n",
       "      <td>1</td>\n",
       "      <td>8072</td>\n",
       "      <td>240.0</td>\n",
       "      <td>253.0</td>\n",
       "      <td>360.0</td>\n",
       "      <td>1.0</td>\n",
       "      <td>1</td>\n",
       "      <td>1</td>\n",
       "      <td>8072</td>\n",
       "      <td>240.0</td>\n",
       "      <td>...</td>\n",
       "      <td>1</td>\n",
       "      <td>0</td>\n",
       "      <td>1</td>\n",
       "      <td>0</td>\n",
       "      <td>0</td>\n",
       "      <td>1</td>\n",
       "      <td>0</td>\n",
       "      <td>0</td>\n",
       "      <td>0</td>\n",
       "      <td>1</td>\n",
       "    </tr>\n",
       "    <tr>\n",
       "      <th>612</th>\n",
       "      <td>1</td>\n",
       "      <td>7583</td>\n",
       "      <td>0.0</td>\n",
       "      <td>187.0</td>\n",
       "      <td>360.0</td>\n",
       "      <td>1.0</td>\n",
       "      <td>1</td>\n",
       "      <td>1</td>\n",
       "      <td>7583</td>\n",
       "      <td>0.0</td>\n",
       "      <td>...</td>\n",
       "      <td>1</td>\n",
       "      <td>0</td>\n",
       "      <td>0</td>\n",
       "      <td>1</td>\n",
       "      <td>0</td>\n",
       "      <td>1</td>\n",
       "      <td>0</td>\n",
       "      <td>0</td>\n",
       "      <td>0</td>\n",
       "      <td>1</td>\n",
       "    </tr>\n",
       "    <tr>\n",
       "      <th>613</th>\n",
       "      <td>1</td>\n",
       "      <td>4583</td>\n",
       "      <td>0.0</td>\n",
       "      <td>133.0</td>\n",
       "      <td>360.0</td>\n",
       "      <td>0.0</td>\n",
       "      <td>0</td>\n",
       "      <td>1</td>\n",
       "      <td>4583</td>\n",
       "      <td>0.0</td>\n",
       "      <td>...</td>\n",
       "      <td>0</td>\n",
       "      <td>1</td>\n",
       "      <td>0</td>\n",
       "      <td>0</td>\n",
       "      <td>0</td>\n",
       "      <td>0</td>\n",
       "      <td>1</td>\n",
       "      <td>0</td>\n",
       "      <td>1</td>\n",
       "      <td>0</td>\n",
       "    </tr>\n",
       "  </tbody>\n",
       "</table>\n",
       "<p>480 rows × 27 columns</p>\n",
       "</div>"
      ],
      "text/plain": [
       "     Education  ApplicantIncome  CoapplicantIncome  LoanAmount  \\\n",
       "1            1             4583             1508.0       128.0   \n",
       "2            1             3000                0.0        66.0   \n",
       "3            0             2583             2358.0       120.0   \n",
       "4            1             6000                0.0       141.0   \n",
       "5            1             5417             4196.0       267.0   \n",
       "..         ...              ...                ...         ...   \n",
       "609          1             2900                0.0        71.0   \n",
       "610          1             4106                0.0        40.0   \n",
       "611          1             8072              240.0       253.0   \n",
       "612          1             7583                0.0       187.0   \n",
       "613          1             4583                0.0       133.0   \n",
       "\n",
       "     Loan_Amount_Term  Credit_History  Loan_Status  Education  \\\n",
       "1               360.0             1.0            0          1   \n",
       "2               360.0             1.0            1          1   \n",
       "3               360.0             1.0            1          0   \n",
       "4               360.0             1.0            1          1   \n",
       "5               360.0             1.0            1          1   \n",
       "..                ...             ...          ...        ...   \n",
       "609             360.0             1.0            1          1   \n",
       "610             180.0             1.0            1          1   \n",
       "611             360.0             1.0            1          1   \n",
       "612             360.0             1.0            1          1   \n",
       "613             360.0             0.0            0          1   \n",
       "\n",
       "     ApplicantIncome  CoapplicantIncome  ...  Married_Yes  Dependents_0  \\\n",
       "1               4583             1508.0  ...            1             0   \n",
       "2               3000                0.0  ...            1             1   \n",
       "3               2583             2358.0  ...            1             1   \n",
       "4               6000                0.0  ...            0             1   \n",
       "5               5417             4196.0  ...            1             0   \n",
       "..               ...                ...  ...          ...           ...   \n",
       "609             2900                0.0  ...            0             1   \n",
       "610             4106                0.0  ...            1             0   \n",
       "611             8072              240.0  ...            1             0   \n",
       "612             7583                0.0  ...            1             0   \n",
       "613             4583                0.0  ...            0             1   \n",
       "\n",
       "     Dependents_1  Dependents_2  Dependents_3+  Self_Employed_No  \\\n",
       "1               1             0              0                 1   \n",
       "2               0             0              0                 0   \n",
       "3               0             0              0                 1   \n",
       "4               0             0              0                 1   \n",
       "5               0             1              0                 0   \n",
       "..            ...           ...            ...               ...   \n",
       "609             0             0              0                 1   \n",
       "610             0             0              1                 1   \n",
       "611             1             0              0                 1   \n",
       "612             0             1              0                 1   \n",
       "613             0             0              0                 0   \n",
       "\n",
       "     Self_Employed_Yes  Property_Area_Rural  Property_Area_Semiurban  \\\n",
       "1                    0                    1                        0   \n",
       "2                    1                    0                        0   \n",
       "3                    0                    0                        0   \n",
       "4                    0                    0                        0   \n",
       "5                    1                    0                        0   \n",
       "..                 ...                  ...                      ...   \n",
       "609                  0                    1                        0   \n",
       "610                  0                    1                        0   \n",
       "611                  0                    0                        0   \n",
       "612                  0                    0                        0   \n",
       "613                  1                    0                        1   \n",
       "\n",
       "     Property_Area_Urban  \n",
       "1                      0  \n",
       "2                      1  \n",
       "3                      1  \n",
       "4                      1  \n",
       "5                      1  \n",
       "..                   ...  \n",
       "609                    0  \n",
       "610                    0  \n",
       "611                    1  \n",
       "612                    1  \n",
       "613                    0  \n",
       "\n",
       "[480 rows x 27 columns]"
      ]
     },
     "execution_count": 42,
     "metadata": {},
     "output_type": "execute_result"
    }
   ],
   "source": [
    "merged.drop(['Gender', 'Married','Self_Employed','Property_Area','Dependents','Loan_Approval'], axis='columns')"
   ]
  },
  {
   "cell_type": "code",
   "execution_count": 51,
   "id": "576a337a-967e-430c-b5bf-0823fc6fd3e3",
   "metadata": {},
   "outputs": [
    {
     "data": {
      "text/html": [
       "<div>\n",
       "<style scoped>\n",
       "    .dataframe tbody tr th:only-of-type {\n",
       "        vertical-align: middle;\n",
       "    }\n",
       "\n",
       "    .dataframe tbody tr th {\n",
       "        vertical-align: top;\n",
       "    }\n",
       "\n",
       "    .dataframe thead th {\n",
       "        text-align: right;\n",
       "    }\n",
       "</style>\n",
       "<table border=\"1\" class=\"dataframe\">\n",
       "  <thead>\n",
       "    <tr style=\"text-align: right;\">\n",
       "      <th></th>\n",
       "      <th>Education</th>\n",
       "      <th>ApplicantIncome</th>\n",
       "      <th>CoapplicantIncome</th>\n",
       "      <th>LoanAmount</th>\n",
       "      <th>Loan_Amount_Term</th>\n",
       "      <th>Credit_History</th>\n",
       "      <th>Loan_Status</th>\n",
       "      <th>Gender_Female</th>\n",
       "      <th>Gender_Male</th>\n",
       "      <th>Married_No</th>\n",
       "      <th>Married_Yes</th>\n",
       "      <th>Dependents_0</th>\n",
       "      <th>Dependents_1</th>\n",
       "      <th>Dependents_2</th>\n",
       "      <th>Dependents_3+</th>\n",
       "      <th>Self_Employed_No</th>\n",
       "      <th>Self_Employed_Yes</th>\n",
       "      <th>Property_Area_Rural</th>\n",
       "      <th>Property_Area_Semiurban</th>\n",
       "      <th>Property_Area_Urban</th>\n",
       "    </tr>\n",
       "  </thead>\n",
       "  <tbody>\n",
       "    <tr>\n",
       "      <th>Education</th>\n",
       "      <td>1.000000</td>\n",
       "      <td>0.131172</td>\n",
       "      <td>0.074499</td>\n",
       "      <td>0.172780</td>\n",
       "      <td>0.102168</td>\n",
       "      <td>0.056656</td>\n",
       "      <td>0.068437</td>\n",
       "      <td>0.059245</td>\n",
       "      <td>0.059245</td>\n",
       "      <td>0.001652</td>\n",
       "      <td>0.001652</td>\n",
       "      <td>0.014369</td>\n",
       "      <td>0.016242</td>\n",
       "      <td>0.011184</td>\n",
       "      <td>0.031827</td>\n",
       "      <td>0.005085</td>\n",
       "      <td>0.005085</td>\n",
       "      <td>0.067607</td>\n",
       "      <td>0.038137</td>\n",
       "      <td>0.025884</td>\n",
       "    </tr>\n",
       "    <tr>\n",
       "      <th>ApplicantIncome</th>\n",
       "      <td>0.131172</td>\n",
       "      <td>1.000000</td>\n",
       "      <td>0.112588</td>\n",
       "      <td>0.495310</td>\n",
       "      <td>0.010838</td>\n",
       "      <td>0.056152</td>\n",
       "      <td>0.043152</td>\n",
       "      <td>0.032644</td>\n",
       "      <td>0.032644</td>\n",
       "      <td>0.036717</td>\n",
       "      <td>0.036717</td>\n",
       "      <td>0.121405</td>\n",
       "      <td>0.071367</td>\n",
       "      <td>0.017426</td>\n",
       "      <td>0.143633</td>\n",
       "      <td>0.170785</td>\n",
       "      <td>0.170785</td>\n",
       "      <td>0.045154</td>\n",
       "      <td>0.000551</td>\n",
       "      <td>0.044767</td>\n",
       "    </tr>\n",
       "    <tr>\n",
       "      <th>CoapplicantIncome</th>\n",
       "      <td>0.074499</td>\n",
       "      <td>0.112588</td>\n",
       "      <td>1.000000</td>\n",
       "      <td>0.190740</td>\n",
       "      <td>0.005775</td>\n",
       "      <td>0.008692</td>\n",
       "      <td>0.049020</td>\n",
       "      <td>0.156171</td>\n",
       "      <td>0.156171</td>\n",
       "      <td>0.102950</td>\n",
       "      <td>0.102950</td>\n",
       "      <td>0.000991</td>\n",
       "      <td>0.016015</td>\n",
       "      <td>0.028266</td>\n",
       "      <td>0.019006</td>\n",
       "      <td>0.001509</td>\n",
       "      <td>0.001509</td>\n",
       "      <td>0.001101</td>\n",
       "      <td>0.008322</td>\n",
       "      <td>0.009866</td>\n",
       "    </tr>\n",
       "    <tr>\n",
       "      <th>LoanAmount</th>\n",
       "      <td>0.172780</td>\n",
       "      <td>0.495310</td>\n",
       "      <td>0.190740</td>\n",
       "      <td>1.000000</td>\n",
       "      <td>0.050867</td>\n",
       "      <td>0.040773</td>\n",
       "      <td>0.071753</td>\n",
       "      <td>0.098975</td>\n",
       "      <td>0.098975</td>\n",
       "      <td>0.183442</td>\n",
       "      <td>0.183442</td>\n",
       "      <td>0.178494</td>\n",
       "      <td>0.087870</td>\n",
       "      <td>0.061174</td>\n",
       "      <td>0.115373</td>\n",
       "      <td>0.120389</td>\n",
       "      <td>0.120389</td>\n",
       "      <td>0.086569</td>\n",
       "      <td>0.013365</td>\n",
       "      <td>0.098826</td>\n",
       "    </tr>\n",
       "    <tr>\n",
       "      <th>Loan_Amount_Term</th>\n",
       "      <td>0.102168</td>\n",
       "      <td>0.010838</td>\n",
       "      <td>0.005775</td>\n",
       "      <td>0.050867</td>\n",
       "      <td>1.000000</td>\n",
       "      <td>0.032937</td>\n",
       "      <td>0.007798</td>\n",
       "      <td>0.088704</td>\n",
       "      <td>0.088704</td>\n",
       "      <td>0.107504</td>\n",
       "      <td>0.107504</td>\n",
       "      <td>0.118518</td>\n",
       "      <td>0.101258</td>\n",
       "      <td>0.005885</td>\n",
       "      <td>0.066826</td>\n",
       "      <td>0.034852</td>\n",
       "      <td>0.034852</td>\n",
       "      <td>0.033777</td>\n",
       "      <td>0.030346</td>\n",
       "      <td>0.065097</td>\n",
       "    </tr>\n",
       "    <tr>\n",
       "      <th>Credit_History</th>\n",
       "      <td>0.056656</td>\n",
       "      <td>0.056152</td>\n",
       "      <td>0.008692</td>\n",
       "      <td>0.040773</td>\n",
       "      <td>0.032937</td>\n",
       "      <td>1.000000</td>\n",
       "      <td>0.529390</td>\n",
       "      <td>0.022447</td>\n",
       "      <td>0.022447</td>\n",
       "      <td>0.029095</td>\n",
       "      <td>0.029095</td>\n",
       "      <td>0.011429</td>\n",
       "      <td>0.005280</td>\n",
       "      <td>0.037047</td>\n",
       "      <td>0.063797</td>\n",
       "      <td>0.023568</td>\n",
       "      <td>0.023568</td>\n",
       "      <td>0.022504</td>\n",
       "      <td>0.046480</td>\n",
       "      <td>0.027062</td>\n",
       "    </tr>\n",
       "    <tr>\n",
       "      <th>Loan_Status</th>\n",
       "      <td>0.068437</td>\n",
       "      <td>0.043152</td>\n",
       "      <td>0.049020</td>\n",
       "      <td>0.071753</td>\n",
       "      <td>0.007798</td>\n",
       "      <td>0.529390</td>\n",
       "      <td>1.000000</td>\n",
       "      <td>0.064504</td>\n",
       "      <td>0.064504</td>\n",
       "      <td>0.112321</td>\n",
       "      <td>0.112321</td>\n",
       "      <td>0.022938</td>\n",
       "      <td>0.040350</td>\n",
       "      <td>0.073368</td>\n",
       "      <td>0.005784</td>\n",
       "      <td>0.034715</td>\n",
       "      <td>0.034715</td>\n",
       "      <td>0.110817</td>\n",
       "      <td>0.155686</td>\n",
       "      <td>0.055964</td>\n",
       "    </tr>\n",
       "    <tr>\n",
       "      <th>Gender_Female</th>\n",
       "      <td>0.059245</td>\n",
       "      <td>0.032644</td>\n",
       "      <td>0.156171</td>\n",
       "      <td>0.098975</td>\n",
       "      <td>0.088704</td>\n",
       "      <td>0.022447</td>\n",
       "      <td>0.064504</td>\n",
       "      <td>1.000000</td>\n",
       "      <td>1.000000</td>\n",
       "      <td>0.349424</td>\n",
       "      <td>0.349424</td>\n",
       "      <td>0.185582</td>\n",
       "      <td>0.009718</td>\n",
       "      <td>0.159802</td>\n",
       "      <td>0.123341</td>\n",
       "      <td>0.002761</td>\n",
       "      <td>0.002761</td>\n",
       "      <td>0.058739</td>\n",
       "      <td>0.108538</td>\n",
       "      <td>0.057137</td>\n",
       "    </tr>\n",
       "    <tr>\n",
       "      <th>Gender_Male</th>\n",
       "      <td>0.059245</td>\n",
       "      <td>0.032644</td>\n",
       "      <td>0.156171</td>\n",
       "      <td>0.098975</td>\n",
       "      <td>0.088704</td>\n",
       "      <td>0.022447</td>\n",
       "      <td>0.064504</td>\n",
       "      <td>1.000000</td>\n",
       "      <td>1.000000</td>\n",
       "      <td>0.349424</td>\n",
       "      <td>0.349424</td>\n",
       "      <td>0.185582</td>\n",
       "      <td>0.009718</td>\n",
       "      <td>0.159802</td>\n",
       "      <td>0.123341</td>\n",
       "      <td>0.002761</td>\n",
       "      <td>0.002761</td>\n",
       "      <td>0.058739</td>\n",
       "      <td>0.108538</td>\n",
       "      <td>0.057137</td>\n",
       "    </tr>\n",
       "    <tr>\n",
       "      <th>Married_No</th>\n",
       "      <td>0.001652</td>\n",
       "      <td>0.036717</td>\n",
       "      <td>0.102950</td>\n",
       "      <td>0.183442</td>\n",
       "      <td>0.107504</td>\n",
       "      <td>0.029095</td>\n",
       "      <td>0.112321</td>\n",
       "      <td>0.349424</td>\n",
       "      <td>0.349424</td>\n",
       "      <td>1.000000</td>\n",
       "      <td>1.000000</td>\n",
       "      <td>0.410047</td>\n",
       "      <td>0.154106</td>\n",
       "      <td>0.261974</td>\n",
       "      <td>0.162856</td>\n",
       "      <td>0.015674</td>\n",
       "      <td>0.015674</td>\n",
       "      <td>0.039048</td>\n",
       "      <td>0.011121</td>\n",
       "      <td>0.026467</td>\n",
       "    </tr>\n",
       "    <tr>\n",
       "      <th>Married_Yes</th>\n",
       "      <td>0.001652</td>\n",
       "      <td>0.036717</td>\n",
       "      <td>0.102950</td>\n",
       "      <td>0.183442</td>\n",
       "      <td>0.107504</td>\n",
       "      <td>0.029095</td>\n",
       "      <td>0.112321</td>\n",
       "      <td>0.349424</td>\n",
       "      <td>0.349424</td>\n",
       "      <td>1.000000</td>\n",
       "      <td>1.000000</td>\n",
       "      <td>0.410047</td>\n",
       "      <td>0.154106</td>\n",
       "      <td>0.261974</td>\n",
       "      <td>0.162856</td>\n",
       "      <td>0.015674</td>\n",
       "      <td>0.015674</td>\n",
       "      <td>0.039048</td>\n",
       "      <td>0.011121</td>\n",
       "      <td>0.026467</td>\n",
       "    </tr>\n",
       "    <tr>\n",
       "      <th>Dependents_0</th>\n",
       "      <td>0.014369</td>\n",
       "      <td>0.121405</td>\n",
       "      <td>0.000991</td>\n",
       "      <td>0.178494</td>\n",
       "      <td>0.118518</td>\n",
       "      <td>0.011429</td>\n",
       "      <td>0.022938</td>\n",
       "      <td>0.185582</td>\n",
       "      <td>0.185582</td>\n",
       "      <td>0.410047</td>\n",
       "      <td>0.410047</td>\n",
       "      <td>1.000000</td>\n",
       "      <td>0.515771</td>\n",
       "      <td>0.534999</td>\n",
       "      <td>0.352453</td>\n",
       "      <td>0.081585</td>\n",
       "      <td>0.081585</td>\n",
       "      <td>0.043191</td>\n",
       "      <td>0.034147</td>\n",
       "      <td>0.078323</td>\n",
       "    </tr>\n",
       "    <tr>\n",
       "      <th>Dependents_1</th>\n",
       "      <td>0.016242</td>\n",
       "      <td>0.071367</td>\n",
       "      <td>0.016015</td>\n",
       "      <td>0.087870</td>\n",
       "      <td>0.101258</td>\n",
       "      <td>0.005280</td>\n",
       "      <td>0.040350</td>\n",
       "      <td>0.009718</td>\n",
       "      <td>0.009718</td>\n",
       "      <td>0.154106</td>\n",
       "      <td>0.154106</td>\n",
       "      <td>0.515771</td>\n",
       "      <td>1.000000</td>\n",
       "      <td>0.207456</td>\n",
       "      <td>0.136670</td>\n",
       "      <td>0.081164</td>\n",
       "      <td>0.081164</td>\n",
       "      <td>0.100653</td>\n",
       "      <td>0.001903</td>\n",
       "      <td>0.096484</td>\n",
       "    </tr>\n",
       "    <tr>\n",
       "      <th>Dependents_2</th>\n",
       "      <td>0.011184</td>\n",
       "      <td>0.017426</td>\n",
       "      <td>0.028266</td>\n",
       "      <td>0.061174</td>\n",
       "      <td>0.005885</td>\n",
       "      <td>0.037047</td>\n",
       "      <td>0.073368</td>\n",
       "      <td>0.159802</td>\n",
       "      <td>0.159802</td>\n",
       "      <td>0.261974</td>\n",
       "      <td>0.261974</td>\n",
       "      <td>0.534999</td>\n",
       "      <td>0.207456</td>\n",
       "      <td>1.000000</td>\n",
       "      <td>0.141766</td>\n",
       "      <td>0.036647</td>\n",
       "      <td>0.036647</td>\n",
       "      <td>0.019427</td>\n",
       "      <td>0.042625</td>\n",
       "      <td>0.064022</td>\n",
       "    </tr>\n",
       "    <tr>\n",
       "      <th>Dependents_3+</th>\n",
       "      <td>0.031827</td>\n",
       "      <td>0.143633</td>\n",
       "      <td>0.019006</td>\n",
       "      <td>0.115373</td>\n",
       "      <td>0.066826</td>\n",
       "      <td>0.063797</td>\n",
       "      <td>0.005784</td>\n",
       "      <td>0.123341</td>\n",
       "      <td>0.123341</td>\n",
       "      <td>0.162856</td>\n",
       "      <td>0.162856</td>\n",
       "      <td>0.352453</td>\n",
       "      <td>0.136670</td>\n",
       "      <td>0.141766</td>\n",
       "      <td>1.000000</td>\n",
       "      <td>0.013798</td>\n",
       "      <td>0.013798</td>\n",
       "      <td>0.084256</td>\n",
       "      <td>0.004791</td>\n",
       "      <td>0.077390</td>\n",
       "    </tr>\n",
       "    <tr>\n",
       "      <th>Self_Employed_No</th>\n",
       "      <td>0.005085</td>\n",
       "      <td>0.170785</td>\n",
       "      <td>0.001509</td>\n",
       "      <td>0.120389</td>\n",
       "      <td>0.034852</td>\n",
       "      <td>0.023568</td>\n",
       "      <td>0.034715</td>\n",
       "      <td>0.002761</td>\n",
       "      <td>0.002761</td>\n",
       "      <td>0.015674</td>\n",
       "      <td>0.015674</td>\n",
       "      <td>0.081585</td>\n",
       "      <td>0.081164</td>\n",
       "      <td>0.036647</td>\n",
       "      <td>0.013798</td>\n",
       "      <td>1.000000</td>\n",
       "      <td>1.000000</td>\n",
       "      <td>0.051851</td>\n",
       "      <td>0.015604</td>\n",
       "      <td>0.034261</td>\n",
       "    </tr>\n",
       "    <tr>\n",
       "      <th>Self_Employed_Yes</th>\n",
       "      <td>0.005085</td>\n",
       "      <td>0.170785</td>\n",
       "      <td>0.001509</td>\n",
       "      <td>0.120389</td>\n",
       "      <td>0.034852</td>\n",
       "      <td>0.023568</td>\n",
       "      <td>0.034715</td>\n",
       "      <td>0.002761</td>\n",
       "      <td>0.002761</td>\n",
       "      <td>0.015674</td>\n",
       "      <td>0.015674</td>\n",
       "      <td>0.081585</td>\n",
       "      <td>0.081164</td>\n",
       "      <td>0.036647</td>\n",
       "      <td>0.013798</td>\n",
       "      <td>1.000000</td>\n",
       "      <td>1.000000</td>\n",
       "      <td>0.051851</td>\n",
       "      <td>0.015604</td>\n",
       "      <td>0.034261</td>\n",
       "    </tr>\n",
       "    <tr>\n",
       "      <th>Property_Area_Rural</th>\n",
       "      <td>0.067607</td>\n",
       "      <td>0.045154</td>\n",
       "      <td>0.001101</td>\n",
       "      <td>0.086569</td>\n",
       "      <td>0.033777</td>\n",
       "      <td>0.022504</td>\n",
       "      <td>0.110817</td>\n",
       "      <td>0.058739</td>\n",
       "      <td>0.058739</td>\n",
       "      <td>0.039048</td>\n",
       "      <td>0.039048</td>\n",
       "      <td>0.043191</td>\n",
       "      <td>0.100653</td>\n",
       "      <td>0.019427</td>\n",
       "      <td>0.084256</td>\n",
       "      <td>0.051851</td>\n",
       "      <td>0.051851</td>\n",
       "      <td>1.000000</td>\n",
       "      <td>0.519037</td>\n",
       "      <td>0.430446</td>\n",
       "    </tr>\n",
       "    <tr>\n",
       "      <th>Property_Area_Semiurban</th>\n",
       "      <td>0.038137</td>\n",
       "      <td>0.000551</td>\n",
       "      <td>0.008322</td>\n",
       "      <td>0.013365</td>\n",
       "      <td>0.030346</td>\n",
       "      <td>0.046480</td>\n",
       "      <td>0.155686</td>\n",
       "      <td>0.108538</td>\n",
       "      <td>0.108538</td>\n",
       "      <td>0.011121</td>\n",
       "      <td>0.011121</td>\n",
       "      <td>0.034147</td>\n",
       "      <td>0.001903</td>\n",
       "      <td>0.042625</td>\n",
       "      <td>0.004791</td>\n",
       "      <td>0.015604</td>\n",
       "      <td>0.015604</td>\n",
       "      <td>0.519037</td>\n",
       "      <td>1.000000</td>\n",
       "      <td>0.548096</td>\n",
       "    </tr>\n",
       "    <tr>\n",
       "      <th>Property_Area_Urban</th>\n",
       "      <td>0.025884</td>\n",
       "      <td>0.044767</td>\n",
       "      <td>0.009866</td>\n",
       "      <td>0.098826</td>\n",
       "      <td>0.065097</td>\n",
       "      <td>0.027062</td>\n",
       "      <td>0.055964</td>\n",
       "      <td>0.057137</td>\n",
       "      <td>0.057137</td>\n",
       "      <td>0.026467</td>\n",
       "      <td>0.026467</td>\n",
       "      <td>0.078323</td>\n",
       "      <td>0.096484</td>\n",
       "      <td>0.064022</td>\n",
       "      <td>0.077390</td>\n",
       "      <td>0.034261</td>\n",
       "      <td>0.034261</td>\n",
       "      <td>0.430446</td>\n",
       "      <td>0.548096</td>\n",
       "      <td>1.000000</td>\n",
       "    </tr>\n",
       "  </tbody>\n",
       "</table>\n",
       "</div>"
      ],
      "text/plain": [
       "                         Education  ApplicantIncome  CoapplicantIncome  \\\n",
       "Education                 1.000000         0.131172           0.074499   \n",
       "ApplicantIncome           0.131172         1.000000           0.112588   \n",
       "CoapplicantIncome         0.074499         0.112588           1.000000   \n",
       "LoanAmount                0.172780         0.495310           0.190740   \n",
       "Loan_Amount_Term          0.102168         0.010838           0.005775   \n",
       "Credit_History            0.056656         0.056152           0.008692   \n",
       "Loan_Status               0.068437         0.043152           0.049020   \n",
       "Gender_Female             0.059245         0.032644           0.156171   \n",
       "Gender_Male               0.059245         0.032644           0.156171   \n",
       "Married_No                0.001652         0.036717           0.102950   \n",
       "Married_Yes               0.001652         0.036717           0.102950   \n",
       "Dependents_0              0.014369         0.121405           0.000991   \n",
       "Dependents_1              0.016242         0.071367           0.016015   \n",
       "Dependents_2              0.011184         0.017426           0.028266   \n",
       "Dependents_3+             0.031827         0.143633           0.019006   \n",
       "Self_Employed_No          0.005085         0.170785           0.001509   \n",
       "Self_Employed_Yes         0.005085         0.170785           0.001509   \n",
       "Property_Area_Rural       0.067607         0.045154           0.001101   \n",
       "Property_Area_Semiurban   0.038137         0.000551           0.008322   \n",
       "Property_Area_Urban       0.025884         0.044767           0.009866   \n",
       "\n",
       "                         LoanAmount  Loan_Amount_Term  Credit_History  \\\n",
       "Education                  0.172780          0.102168        0.056656   \n",
       "ApplicantIncome            0.495310          0.010838        0.056152   \n",
       "CoapplicantIncome          0.190740          0.005775        0.008692   \n",
       "LoanAmount                 1.000000          0.050867        0.040773   \n",
       "Loan_Amount_Term           0.050867          1.000000        0.032937   \n",
       "Credit_History             0.040773          0.032937        1.000000   \n",
       "Loan_Status                0.071753          0.007798        0.529390   \n",
       "Gender_Female              0.098975          0.088704        0.022447   \n",
       "Gender_Male                0.098975          0.088704        0.022447   \n",
       "Married_No                 0.183442          0.107504        0.029095   \n",
       "Married_Yes                0.183442          0.107504        0.029095   \n",
       "Dependents_0               0.178494          0.118518        0.011429   \n",
       "Dependents_1               0.087870          0.101258        0.005280   \n",
       "Dependents_2               0.061174          0.005885        0.037047   \n",
       "Dependents_3+              0.115373          0.066826        0.063797   \n",
       "Self_Employed_No           0.120389          0.034852        0.023568   \n",
       "Self_Employed_Yes          0.120389          0.034852        0.023568   \n",
       "Property_Area_Rural        0.086569          0.033777        0.022504   \n",
       "Property_Area_Semiurban    0.013365          0.030346        0.046480   \n",
       "Property_Area_Urban        0.098826          0.065097        0.027062   \n",
       "\n",
       "                         Loan_Status  Gender_Female  Gender_Male  Married_No  \\\n",
       "Education                   0.068437       0.059245     0.059245    0.001652   \n",
       "ApplicantIncome             0.043152       0.032644     0.032644    0.036717   \n",
       "CoapplicantIncome           0.049020       0.156171     0.156171    0.102950   \n",
       "LoanAmount                  0.071753       0.098975     0.098975    0.183442   \n",
       "Loan_Amount_Term            0.007798       0.088704     0.088704    0.107504   \n",
       "Credit_History              0.529390       0.022447     0.022447    0.029095   \n",
       "Loan_Status                 1.000000       0.064504     0.064504    0.112321   \n",
       "Gender_Female               0.064504       1.000000     1.000000    0.349424   \n",
       "Gender_Male                 0.064504       1.000000     1.000000    0.349424   \n",
       "Married_No                  0.112321       0.349424     0.349424    1.000000   \n",
       "Married_Yes                 0.112321       0.349424     0.349424    1.000000   \n",
       "Dependents_0                0.022938       0.185582     0.185582    0.410047   \n",
       "Dependents_1                0.040350       0.009718     0.009718    0.154106   \n",
       "Dependents_2                0.073368       0.159802     0.159802    0.261974   \n",
       "Dependents_3+               0.005784       0.123341     0.123341    0.162856   \n",
       "Self_Employed_No            0.034715       0.002761     0.002761    0.015674   \n",
       "Self_Employed_Yes           0.034715       0.002761     0.002761    0.015674   \n",
       "Property_Area_Rural         0.110817       0.058739     0.058739    0.039048   \n",
       "Property_Area_Semiurban     0.155686       0.108538     0.108538    0.011121   \n",
       "Property_Area_Urban         0.055964       0.057137     0.057137    0.026467   \n",
       "\n",
       "                         Married_Yes  Dependents_0  Dependents_1  \\\n",
       "Education                   0.001652      0.014369      0.016242   \n",
       "ApplicantIncome             0.036717      0.121405      0.071367   \n",
       "CoapplicantIncome           0.102950      0.000991      0.016015   \n",
       "LoanAmount                  0.183442      0.178494      0.087870   \n",
       "Loan_Amount_Term            0.107504      0.118518      0.101258   \n",
       "Credit_History              0.029095      0.011429      0.005280   \n",
       "Loan_Status                 0.112321      0.022938      0.040350   \n",
       "Gender_Female               0.349424      0.185582      0.009718   \n",
       "Gender_Male                 0.349424      0.185582      0.009718   \n",
       "Married_No                  1.000000      0.410047      0.154106   \n",
       "Married_Yes                 1.000000      0.410047      0.154106   \n",
       "Dependents_0                0.410047      1.000000      0.515771   \n",
       "Dependents_1                0.154106      0.515771      1.000000   \n",
       "Dependents_2                0.261974      0.534999      0.207456   \n",
       "Dependents_3+               0.162856      0.352453      0.136670   \n",
       "Self_Employed_No            0.015674      0.081585      0.081164   \n",
       "Self_Employed_Yes           0.015674      0.081585      0.081164   \n",
       "Property_Area_Rural         0.039048      0.043191      0.100653   \n",
       "Property_Area_Semiurban     0.011121      0.034147      0.001903   \n",
       "Property_Area_Urban         0.026467      0.078323      0.096484   \n",
       "\n",
       "                         Dependents_2  Dependents_3+  Self_Employed_No  \\\n",
       "Education                    0.011184       0.031827          0.005085   \n",
       "ApplicantIncome              0.017426       0.143633          0.170785   \n",
       "CoapplicantIncome            0.028266       0.019006          0.001509   \n",
       "LoanAmount                   0.061174       0.115373          0.120389   \n",
       "Loan_Amount_Term             0.005885       0.066826          0.034852   \n",
       "Credit_History               0.037047       0.063797          0.023568   \n",
       "Loan_Status                  0.073368       0.005784          0.034715   \n",
       "Gender_Female                0.159802       0.123341          0.002761   \n",
       "Gender_Male                  0.159802       0.123341          0.002761   \n",
       "Married_No                   0.261974       0.162856          0.015674   \n",
       "Married_Yes                  0.261974       0.162856          0.015674   \n",
       "Dependents_0                 0.534999       0.352453          0.081585   \n",
       "Dependents_1                 0.207456       0.136670          0.081164   \n",
       "Dependents_2                 1.000000       0.141766          0.036647   \n",
       "Dependents_3+                0.141766       1.000000          0.013798   \n",
       "Self_Employed_No             0.036647       0.013798          1.000000   \n",
       "Self_Employed_Yes            0.036647       0.013798          1.000000   \n",
       "Property_Area_Rural          0.019427       0.084256          0.051851   \n",
       "Property_Area_Semiurban      0.042625       0.004791          0.015604   \n",
       "Property_Area_Urban          0.064022       0.077390          0.034261   \n",
       "\n",
       "                         Self_Employed_Yes  Property_Area_Rural  \\\n",
       "Education                         0.005085             0.067607   \n",
       "ApplicantIncome                   0.170785             0.045154   \n",
       "CoapplicantIncome                 0.001509             0.001101   \n",
       "LoanAmount                        0.120389             0.086569   \n",
       "Loan_Amount_Term                  0.034852             0.033777   \n",
       "Credit_History                    0.023568             0.022504   \n",
       "Loan_Status                       0.034715             0.110817   \n",
       "Gender_Female                     0.002761             0.058739   \n",
       "Gender_Male                       0.002761             0.058739   \n",
       "Married_No                        0.015674             0.039048   \n",
       "Married_Yes                       0.015674             0.039048   \n",
       "Dependents_0                      0.081585             0.043191   \n",
       "Dependents_1                      0.081164             0.100653   \n",
       "Dependents_2                      0.036647             0.019427   \n",
       "Dependents_3+                     0.013798             0.084256   \n",
       "Self_Employed_No                  1.000000             0.051851   \n",
       "Self_Employed_Yes                 1.000000             0.051851   \n",
       "Property_Area_Rural               0.051851             1.000000   \n",
       "Property_Area_Semiurban           0.015604             0.519037   \n",
       "Property_Area_Urban               0.034261             0.430446   \n",
       "\n",
       "                         Property_Area_Semiurban  Property_Area_Urban  \n",
       "Education                               0.038137             0.025884  \n",
       "ApplicantIncome                         0.000551             0.044767  \n",
       "CoapplicantIncome                       0.008322             0.009866  \n",
       "LoanAmount                              0.013365             0.098826  \n",
       "Loan_Amount_Term                        0.030346             0.065097  \n",
       "Credit_History                          0.046480             0.027062  \n",
       "Loan_Status                             0.155686             0.055964  \n",
       "Gender_Female                           0.108538             0.057137  \n",
       "Gender_Male                             0.108538             0.057137  \n",
       "Married_No                              0.011121             0.026467  \n",
       "Married_Yes                             0.011121             0.026467  \n",
       "Dependents_0                            0.034147             0.078323  \n",
       "Dependents_1                            0.001903             0.096484  \n",
       "Dependents_2                            0.042625             0.064022  \n",
       "Dependents_3+                           0.004791             0.077390  \n",
       "Self_Employed_No                        0.015604             0.034261  \n",
       "Self_Employed_Yes                       0.015604             0.034261  \n",
       "Property_Area_Rural                     0.519037             0.430446  \n",
       "Property_Area_Semiurban                 1.000000             0.548096  \n",
       "Property_Area_Urban                     0.548096             1.000000  "
      ]
     },
     "execution_count": 51,
     "metadata": {},
     "output_type": "execute_result"
    }
   ],
   "source": [
    "# Create correlation matrix\n",
    "corr_matrix = loan.corr().abs()\n",
    "corr_matrix"
   ]
  },
  {
   "cell_type": "code",
   "execution_count": 52,
   "id": "43e91acc-ec8d-44d3-8617-04e4fdaa82ba",
   "metadata": {},
   "outputs": [
    {
     "name": "stderr",
     "output_type": "stream",
     "text": [
      "/tmp/ipykernel_148/2797590206.py:2: DeprecationWarning: `np.bool` is a deprecated alias for the builtin `bool`. To silence this warning, use `bool` by itself. Doing this will not modify any behavior and is safe. If you specifically wanted the numpy scalar type, use `np.bool_` here.\n",
      "Deprecated in NumPy 1.20; for more details and guidance: https://numpy.org/devdocs/release/1.20.0-notes.html#deprecations\n",
      "  upper = corr_matrix.where(np.triu(np.ones(corr_matrix.shape), k=1).astype(np.bool))\n"
     ]
    },
    {
     "data": {
      "text/html": [
       "<div>\n",
       "<style scoped>\n",
       "    .dataframe tbody tr th:only-of-type {\n",
       "        vertical-align: middle;\n",
       "    }\n",
       "\n",
       "    .dataframe tbody tr th {\n",
       "        vertical-align: top;\n",
       "    }\n",
       "\n",
       "    .dataframe thead th {\n",
       "        text-align: right;\n",
       "    }\n",
       "</style>\n",
       "<table border=\"1\" class=\"dataframe\">\n",
       "  <thead>\n",
       "    <tr style=\"text-align: right;\">\n",
       "      <th></th>\n",
       "      <th>Education</th>\n",
       "      <th>ApplicantIncome</th>\n",
       "      <th>CoapplicantIncome</th>\n",
       "      <th>LoanAmount</th>\n",
       "      <th>Loan_Amount_Term</th>\n",
       "      <th>Credit_History</th>\n",
       "      <th>Loan_Status</th>\n",
       "      <th>Gender_Female</th>\n",
       "      <th>Gender_Male</th>\n",
       "      <th>Married_No</th>\n",
       "      <th>Married_Yes</th>\n",
       "      <th>Dependents_0</th>\n",
       "      <th>Dependents_1</th>\n",
       "      <th>Dependents_2</th>\n",
       "      <th>Dependents_3+</th>\n",
       "      <th>Self_Employed_No</th>\n",
       "      <th>Self_Employed_Yes</th>\n",
       "      <th>Property_Area_Rural</th>\n",
       "      <th>Property_Area_Semiurban</th>\n",
       "      <th>Property_Area_Urban</th>\n",
       "    </tr>\n",
       "  </thead>\n",
       "  <tbody>\n",
       "    <tr>\n",
       "      <th>Education</th>\n",
       "      <td>NaN</td>\n",
       "      <td>0.131172</td>\n",
       "      <td>0.074499</td>\n",
       "      <td>0.17278</td>\n",
       "      <td>0.102168</td>\n",
       "      <td>0.056656</td>\n",
       "      <td>0.068437</td>\n",
       "      <td>0.059245</td>\n",
       "      <td>0.059245</td>\n",
       "      <td>0.001652</td>\n",
       "      <td>0.001652</td>\n",
       "      <td>0.014369</td>\n",
       "      <td>0.016242</td>\n",
       "      <td>0.011184</td>\n",
       "      <td>0.031827</td>\n",
       "      <td>0.005085</td>\n",
       "      <td>0.005085</td>\n",
       "      <td>0.067607</td>\n",
       "      <td>0.038137</td>\n",
       "      <td>0.025884</td>\n",
       "    </tr>\n",
       "    <tr>\n",
       "      <th>ApplicantIncome</th>\n",
       "      <td>NaN</td>\n",
       "      <td>NaN</td>\n",
       "      <td>0.112588</td>\n",
       "      <td>0.49531</td>\n",
       "      <td>0.010838</td>\n",
       "      <td>0.056152</td>\n",
       "      <td>0.043152</td>\n",
       "      <td>0.032644</td>\n",
       "      <td>0.032644</td>\n",
       "      <td>0.036717</td>\n",
       "      <td>0.036717</td>\n",
       "      <td>0.121405</td>\n",
       "      <td>0.071367</td>\n",
       "      <td>0.017426</td>\n",
       "      <td>0.143633</td>\n",
       "      <td>0.170785</td>\n",
       "      <td>0.170785</td>\n",
       "      <td>0.045154</td>\n",
       "      <td>0.000551</td>\n",
       "      <td>0.044767</td>\n",
       "    </tr>\n",
       "    <tr>\n",
       "      <th>CoapplicantIncome</th>\n",
       "      <td>NaN</td>\n",
       "      <td>NaN</td>\n",
       "      <td>NaN</td>\n",
       "      <td>0.19074</td>\n",
       "      <td>0.005775</td>\n",
       "      <td>0.008692</td>\n",
       "      <td>0.049020</td>\n",
       "      <td>0.156171</td>\n",
       "      <td>0.156171</td>\n",
       "      <td>0.102950</td>\n",
       "      <td>0.102950</td>\n",
       "      <td>0.000991</td>\n",
       "      <td>0.016015</td>\n",
       "      <td>0.028266</td>\n",
       "      <td>0.019006</td>\n",
       "      <td>0.001509</td>\n",
       "      <td>0.001509</td>\n",
       "      <td>0.001101</td>\n",
       "      <td>0.008322</td>\n",
       "      <td>0.009866</td>\n",
       "    </tr>\n",
       "    <tr>\n",
       "      <th>LoanAmount</th>\n",
       "      <td>NaN</td>\n",
       "      <td>NaN</td>\n",
       "      <td>NaN</td>\n",
       "      <td>NaN</td>\n",
       "      <td>0.050867</td>\n",
       "      <td>0.040773</td>\n",
       "      <td>0.071753</td>\n",
       "      <td>0.098975</td>\n",
       "      <td>0.098975</td>\n",
       "      <td>0.183442</td>\n",
       "      <td>0.183442</td>\n",
       "      <td>0.178494</td>\n",
       "      <td>0.087870</td>\n",
       "      <td>0.061174</td>\n",
       "      <td>0.115373</td>\n",
       "      <td>0.120389</td>\n",
       "      <td>0.120389</td>\n",
       "      <td>0.086569</td>\n",
       "      <td>0.013365</td>\n",
       "      <td>0.098826</td>\n",
       "    </tr>\n",
       "    <tr>\n",
       "      <th>Loan_Amount_Term</th>\n",
       "      <td>NaN</td>\n",
       "      <td>NaN</td>\n",
       "      <td>NaN</td>\n",
       "      <td>NaN</td>\n",
       "      <td>NaN</td>\n",
       "      <td>0.032937</td>\n",
       "      <td>0.007798</td>\n",
       "      <td>0.088704</td>\n",
       "      <td>0.088704</td>\n",
       "      <td>0.107504</td>\n",
       "      <td>0.107504</td>\n",
       "      <td>0.118518</td>\n",
       "      <td>0.101258</td>\n",
       "      <td>0.005885</td>\n",
       "      <td>0.066826</td>\n",
       "      <td>0.034852</td>\n",
       "      <td>0.034852</td>\n",
       "      <td>0.033777</td>\n",
       "      <td>0.030346</td>\n",
       "      <td>0.065097</td>\n",
       "    </tr>\n",
       "    <tr>\n",
       "      <th>Credit_History</th>\n",
       "      <td>NaN</td>\n",
       "      <td>NaN</td>\n",
       "      <td>NaN</td>\n",
       "      <td>NaN</td>\n",
       "      <td>NaN</td>\n",
       "      <td>NaN</td>\n",
       "      <td>0.529390</td>\n",
       "      <td>0.022447</td>\n",
       "      <td>0.022447</td>\n",
       "      <td>0.029095</td>\n",
       "      <td>0.029095</td>\n",
       "      <td>0.011429</td>\n",
       "      <td>0.005280</td>\n",
       "      <td>0.037047</td>\n",
       "      <td>0.063797</td>\n",
       "      <td>0.023568</td>\n",
       "      <td>0.023568</td>\n",
       "      <td>0.022504</td>\n",
       "      <td>0.046480</td>\n",
       "      <td>0.027062</td>\n",
       "    </tr>\n",
       "    <tr>\n",
       "      <th>Loan_Status</th>\n",
       "      <td>NaN</td>\n",
       "      <td>NaN</td>\n",
       "      <td>NaN</td>\n",
       "      <td>NaN</td>\n",
       "      <td>NaN</td>\n",
       "      <td>NaN</td>\n",
       "      <td>NaN</td>\n",
       "      <td>0.064504</td>\n",
       "      <td>0.064504</td>\n",
       "      <td>0.112321</td>\n",
       "      <td>0.112321</td>\n",
       "      <td>0.022938</td>\n",
       "      <td>0.040350</td>\n",
       "      <td>0.073368</td>\n",
       "      <td>0.005784</td>\n",
       "      <td>0.034715</td>\n",
       "      <td>0.034715</td>\n",
       "      <td>0.110817</td>\n",
       "      <td>0.155686</td>\n",
       "      <td>0.055964</td>\n",
       "    </tr>\n",
       "    <tr>\n",
       "      <th>Gender_Female</th>\n",
       "      <td>NaN</td>\n",
       "      <td>NaN</td>\n",
       "      <td>NaN</td>\n",
       "      <td>NaN</td>\n",
       "      <td>NaN</td>\n",
       "      <td>NaN</td>\n",
       "      <td>NaN</td>\n",
       "      <td>NaN</td>\n",
       "      <td>1.000000</td>\n",
       "      <td>0.349424</td>\n",
       "      <td>0.349424</td>\n",
       "      <td>0.185582</td>\n",
       "      <td>0.009718</td>\n",
       "      <td>0.159802</td>\n",
       "      <td>0.123341</td>\n",
       "      <td>0.002761</td>\n",
       "      <td>0.002761</td>\n",
       "      <td>0.058739</td>\n",
       "      <td>0.108538</td>\n",
       "      <td>0.057137</td>\n",
       "    </tr>\n",
       "    <tr>\n",
       "      <th>Gender_Male</th>\n",
       "      <td>NaN</td>\n",
       "      <td>NaN</td>\n",
       "      <td>NaN</td>\n",
       "      <td>NaN</td>\n",
       "      <td>NaN</td>\n",
       "      <td>NaN</td>\n",
       "      <td>NaN</td>\n",
       "      <td>NaN</td>\n",
       "      <td>NaN</td>\n",
       "      <td>0.349424</td>\n",
       "      <td>0.349424</td>\n",
       "      <td>0.185582</td>\n",
       "      <td>0.009718</td>\n",
       "      <td>0.159802</td>\n",
       "      <td>0.123341</td>\n",
       "      <td>0.002761</td>\n",
       "      <td>0.002761</td>\n",
       "      <td>0.058739</td>\n",
       "      <td>0.108538</td>\n",
       "      <td>0.057137</td>\n",
       "    </tr>\n",
       "    <tr>\n",
       "      <th>Married_No</th>\n",
       "      <td>NaN</td>\n",
       "      <td>NaN</td>\n",
       "      <td>NaN</td>\n",
       "      <td>NaN</td>\n",
       "      <td>NaN</td>\n",
       "      <td>NaN</td>\n",
       "      <td>NaN</td>\n",
       "      <td>NaN</td>\n",
       "      <td>NaN</td>\n",
       "      <td>NaN</td>\n",
       "      <td>1.000000</td>\n",
       "      <td>0.410047</td>\n",
       "      <td>0.154106</td>\n",
       "      <td>0.261974</td>\n",
       "      <td>0.162856</td>\n",
       "      <td>0.015674</td>\n",
       "      <td>0.015674</td>\n",
       "      <td>0.039048</td>\n",
       "      <td>0.011121</td>\n",
       "      <td>0.026467</td>\n",
       "    </tr>\n",
       "    <tr>\n",
       "      <th>Married_Yes</th>\n",
       "      <td>NaN</td>\n",
       "      <td>NaN</td>\n",
       "      <td>NaN</td>\n",
       "      <td>NaN</td>\n",
       "      <td>NaN</td>\n",
       "      <td>NaN</td>\n",
       "      <td>NaN</td>\n",
       "      <td>NaN</td>\n",
       "      <td>NaN</td>\n",
       "      <td>NaN</td>\n",
       "      <td>NaN</td>\n",
       "      <td>0.410047</td>\n",
       "      <td>0.154106</td>\n",
       "      <td>0.261974</td>\n",
       "      <td>0.162856</td>\n",
       "      <td>0.015674</td>\n",
       "      <td>0.015674</td>\n",
       "      <td>0.039048</td>\n",
       "      <td>0.011121</td>\n",
       "      <td>0.026467</td>\n",
       "    </tr>\n",
       "    <tr>\n",
       "      <th>Dependents_0</th>\n",
       "      <td>NaN</td>\n",
       "      <td>NaN</td>\n",
       "      <td>NaN</td>\n",
       "      <td>NaN</td>\n",
       "      <td>NaN</td>\n",
       "      <td>NaN</td>\n",
       "      <td>NaN</td>\n",
       "      <td>NaN</td>\n",
       "      <td>NaN</td>\n",
       "      <td>NaN</td>\n",
       "      <td>NaN</td>\n",
       "      <td>NaN</td>\n",
       "      <td>0.515771</td>\n",
       "      <td>0.534999</td>\n",
       "      <td>0.352453</td>\n",
       "      <td>0.081585</td>\n",
       "      <td>0.081585</td>\n",
       "      <td>0.043191</td>\n",
       "      <td>0.034147</td>\n",
       "      <td>0.078323</td>\n",
       "    </tr>\n",
       "    <tr>\n",
       "      <th>Dependents_1</th>\n",
       "      <td>NaN</td>\n",
       "      <td>NaN</td>\n",
       "      <td>NaN</td>\n",
       "      <td>NaN</td>\n",
       "      <td>NaN</td>\n",
       "      <td>NaN</td>\n",
       "      <td>NaN</td>\n",
       "      <td>NaN</td>\n",
       "      <td>NaN</td>\n",
       "      <td>NaN</td>\n",
       "      <td>NaN</td>\n",
       "      <td>NaN</td>\n",
       "      <td>NaN</td>\n",
       "      <td>0.207456</td>\n",
       "      <td>0.136670</td>\n",
       "      <td>0.081164</td>\n",
       "      <td>0.081164</td>\n",
       "      <td>0.100653</td>\n",
       "      <td>0.001903</td>\n",
       "      <td>0.096484</td>\n",
       "    </tr>\n",
       "    <tr>\n",
       "      <th>Dependents_2</th>\n",
       "      <td>NaN</td>\n",
       "      <td>NaN</td>\n",
       "      <td>NaN</td>\n",
       "      <td>NaN</td>\n",
       "      <td>NaN</td>\n",
       "      <td>NaN</td>\n",
       "      <td>NaN</td>\n",
       "      <td>NaN</td>\n",
       "      <td>NaN</td>\n",
       "      <td>NaN</td>\n",
       "      <td>NaN</td>\n",
       "      <td>NaN</td>\n",
       "      <td>NaN</td>\n",
       "      <td>NaN</td>\n",
       "      <td>0.141766</td>\n",
       "      <td>0.036647</td>\n",
       "      <td>0.036647</td>\n",
       "      <td>0.019427</td>\n",
       "      <td>0.042625</td>\n",
       "      <td>0.064022</td>\n",
       "    </tr>\n",
       "    <tr>\n",
       "      <th>Dependents_3+</th>\n",
       "      <td>NaN</td>\n",
       "      <td>NaN</td>\n",
       "      <td>NaN</td>\n",
       "      <td>NaN</td>\n",
       "      <td>NaN</td>\n",
       "      <td>NaN</td>\n",
       "      <td>NaN</td>\n",
       "      <td>NaN</td>\n",
       "      <td>NaN</td>\n",
       "      <td>NaN</td>\n",
       "      <td>NaN</td>\n",
       "      <td>NaN</td>\n",
       "      <td>NaN</td>\n",
       "      <td>NaN</td>\n",
       "      <td>NaN</td>\n",
       "      <td>0.013798</td>\n",
       "      <td>0.013798</td>\n",
       "      <td>0.084256</td>\n",
       "      <td>0.004791</td>\n",
       "      <td>0.077390</td>\n",
       "    </tr>\n",
       "    <tr>\n",
       "      <th>Self_Employed_No</th>\n",
       "      <td>NaN</td>\n",
       "      <td>NaN</td>\n",
       "      <td>NaN</td>\n",
       "      <td>NaN</td>\n",
       "      <td>NaN</td>\n",
       "      <td>NaN</td>\n",
       "      <td>NaN</td>\n",
       "      <td>NaN</td>\n",
       "      <td>NaN</td>\n",
       "      <td>NaN</td>\n",
       "      <td>NaN</td>\n",
       "      <td>NaN</td>\n",
       "      <td>NaN</td>\n",
       "      <td>NaN</td>\n",
       "      <td>NaN</td>\n",
       "      <td>NaN</td>\n",
       "      <td>1.000000</td>\n",
       "      <td>0.051851</td>\n",
       "      <td>0.015604</td>\n",
       "      <td>0.034261</td>\n",
       "    </tr>\n",
       "    <tr>\n",
       "      <th>Self_Employed_Yes</th>\n",
       "      <td>NaN</td>\n",
       "      <td>NaN</td>\n",
       "      <td>NaN</td>\n",
       "      <td>NaN</td>\n",
       "      <td>NaN</td>\n",
       "      <td>NaN</td>\n",
       "      <td>NaN</td>\n",
       "      <td>NaN</td>\n",
       "      <td>NaN</td>\n",
       "      <td>NaN</td>\n",
       "      <td>NaN</td>\n",
       "      <td>NaN</td>\n",
       "      <td>NaN</td>\n",
       "      <td>NaN</td>\n",
       "      <td>NaN</td>\n",
       "      <td>NaN</td>\n",
       "      <td>NaN</td>\n",
       "      <td>0.051851</td>\n",
       "      <td>0.015604</td>\n",
       "      <td>0.034261</td>\n",
       "    </tr>\n",
       "    <tr>\n",
       "      <th>Property_Area_Rural</th>\n",
       "      <td>NaN</td>\n",
       "      <td>NaN</td>\n",
       "      <td>NaN</td>\n",
       "      <td>NaN</td>\n",
       "      <td>NaN</td>\n",
       "      <td>NaN</td>\n",
       "      <td>NaN</td>\n",
       "      <td>NaN</td>\n",
       "      <td>NaN</td>\n",
       "      <td>NaN</td>\n",
       "      <td>NaN</td>\n",
       "      <td>NaN</td>\n",
       "      <td>NaN</td>\n",
       "      <td>NaN</td>\n",
       "      <td>NaN</td>\n",
       "      <td>NaN</td>\n",
       "      <td>NaN</td>\n",
       "      <td>NaN</td>\n",
       "      <td>0.519037</td>\n",
       "      <td>0.430446</td>\n",
       "    </tr>\n",
       "    <tr>\n",
       "      <th>Property_Area_Semiurban</th>\n",
       "      <td>NaN</td>\n",
       "      <td>NaN</td>\n",
       "      <td>NaN</td>\n",
       "      <td>NaN</td>\n",
       "      <td>NaN</td>\n",
       "      <td>NaN</td>\n",
       "      <td>NaN</td>\n",
       "      <td>NaN</td>\n",
       "      <td>NaN</td>\n",
       "      <td>NaN</td>\n",
       "      <td>NaN</td>\n",
       "      <td>NaN</td>\n",
       "      <td>NaN</td>\n",
       "      <td>NaN</td>\n",
       "      <td>NaN</td>\n",
       "      <td>NaN</td>\n",
       "      <td>NaN</td>\n",
       "      <td>NaN</td>\n",
       "      <td>NaN</td>\n",
       "      <td>0.548096</td>\n",
       "    </tr>\n",
       "    <tr>\n",
       "      <th>Property_Area_Urban</th>\n",
       "      <td>NaN</td>\n",
       "      <td>NaN</td>\n",
       "      <td>NaN</td>\n",
       "      <td>NaN</td>\n",
       "      <td>NaN</td>\n",
       "      <td>NaN</td>\n",
       "      <td>NaN</td>\n",
       "      <td>NaN</td>\n",
       "      <td>NaN</td>\n",
       "      <td>NaN</td>\n",
       "      <td>NaN</td>\n",
       "      <td>NaN</td>\n",
       "      <td>NaN</td>\n",
       "      <td>NaN</td>\n",
       "      <td>NaN</td>\n",
       "      <td>NaN</td>\n",
       "      <td>NaN</td>\n",
       "      <td>NaN</td>\n",
       "      <td>NaN</td>\n",
       "      <td>NaN</td>\n",
       "    </tr>\n",
       "  </tbody>\n",
       "</table>\n",
       "</div>"
      ],
      "text/plain": [
       "                         Education  ApplicantIncome  CoapplicantIncome  \\\n",
       "Education                      NaN         0.131172           0.074499   \n",
       "ApplicantIncome                NaN              NaN           0.112588   \n",
       "CoapplicantIncome              NaN              NaN                NaN   \n",
       "LoanAmount                     NaN              NaN                NaN   \n",
       "Loan_Amount_Term               NaN              NaN                NaN   \n",
       "Credit_History                 NaN              NaN                NaN   \n",
       "Loan_Status                    NaN              NaN                NaN   \n",
       "Gender_Female                  NaN              NaN                NaN   \n",
       "Gender_Male                    NaN              NaN                NaN   \n",
       "Married_No                     NaN              NaN                NaN   \n",
       "Married_Yes                    NaN              NaN                NaN   \n",
       "Dependents_0                   NaN              NaN                NaN   \n",
       "Dependents_1                   NaN              NaN                NaN   \n",
       "Dependents_2                   NaN              NaN                NaN   \n",
       "Dependents_3+                  NaN              NaN                NaN   \n",
       "Self_Employed_No               NaN              NaN                NaN   \n",
       "Self_Employed_Yes              NaN              NaN                NaN   \n",
       "Property_Area_Rural            NaN              NaN                NaN   \n",
       "Property_Area_Semiurban        NaN              NaN                NaN   \n",
       "Property_Area_Urban            NaN              NaN                NaN   \n",
       "\n",
       "                         LoanAmount  Loan_Amount_Term  Credit_History  \\\n",
       "Education                   0.17278          0.102168        0.056656   \n",
       "ApplicantIncome             0.49531          0.010838        0.056152   \n",
       "CoapplicantIncome           0.19074          0.005775        0.008692   \n",
       "LoanAmount                      NaN          0.050867        0.040773   \n",
       "Loan_Amount_Term                NaN               NaN        0.032937   \n",
       "Credit_History                  NaN               NaN             NaN   \n",
       "Loan_Status                     NaN               NaN             NaN   \n",
       "Gender_Female                   NaN               NaN             NaN   \n",
       "Gender_Male                     NaN               NaN             NaN   \n",
       "Married_No                      NaN               NaN             NaN   \n",
       "Married_Yes                     NaN               NaN             NaN   \n",
       "Dependents_0                    NaN               NaN             NaN   \n",
       "Dependents_1                    NaN               NaN             NaN   \n",
       "Dependents_2                    NaN               NaN             NaN   \n",
       "Dependents_3+                   NaN               NaN             NaN   \n",
       "Self_Employed_No                NaN               NaN             NaN   \n",
       "Self_Employed_Yes               NaN               NaN             NaN   \n",
       "Property_Area_Rural             NaN               NaN             NaN   \n",
       "Property_Area_Semiurban         NaN               NaN             NaN   \n",
       "Property_Area_Urban             NaN               NaN             NaN   \n",
       "\n",
       "                         Loan_Status  Gender_Female  Gender_Male  Married_No  \\\n",
       "Education                   0.068437       0.059245     0.059245    0.001652   \n",
       "ApplicantIncome             0.043152       0.032644     0.032644    0.036717   \n",
       "CoapplicantIncome           0.049020       0.156171     0.156171    0.102950   \n",
       "LoanAmount                  0.071753       0.098975     0.098975    0.183442   \n",
       "Loan_Amount_Term            0.007798       0.088704     0.088704    0.107504   \n",
       "Credit_History              0.529390       0.022447     0.022447    0.029095   \n",
       "Loan_Status                      NaN       0.064504     0.064504    0.112321   \n",
       "Gender_Female                    NaN            NaN     1.000000    0.349424   \n",
       "Gender_Male                      NaN            NaN          NaN    0.349424   \n",
       "Married_No                       NaN            NaN          NaN         NaN   \n",
       "Married_Yes                      NaN            NaN          NaN         NaN   \n",
       "Dependents_0                     NaN            NaN          NaN         NaN   \n",
       "Dependents_1                     NaN            NaN          NaN         NaN   \n",
       "Dependents_2                     NaN            NaN          NaN         NaN   \n",
       "Dependents_3+                    NaN            NaN          NaN         NaN   \n",
       "Self_Employed_No                 NaN            NaN          NaN         NaN   \n",
       "Self_Employed_Yes                NaN            NaN          NaN         NaN   \n",
       "Property_Area_Rural              NaN            NaN          NaN         NaN   \n",
       "Property_Area_Semiurban          NaN            NaN          NaN         NaN   \n",
       "Property_Area_Urban              NaN            NaN          NaN         NaN   \n",
       "\n",
       "                         Married_Yes  Dependents_0  Dependents_1  \\\n",
       "Education                   0.001652      0.014369      0.016242   \n",
       "ApplicantIncome             0.036717      0.121405      0.071367   \n",
       "CoapplicantIncome           0.102950      0.000991      0.016015   \n",
       "LoanAmount                  0.183442      0.178494      0.087870   \n",
       "Loan_Amount_Term            0.107504      0.118518      0.101258   \n",
       "Credit_History              0.029095      0.011429      0.005280   \n",
       "Loan_Status                 0.112321      0.022938      0.040350   \n",
       "Gender_Female               0.349424      0.185582      0.009718   \n",
       "Gender_Male                 0.349424      0.185582      0.009718   \n",
       "Married_No                  1.000000      0.410047      0.154106   \n",
       "Married_Yes                      NaN      0.410047      0.154106   \n",
       "Dependents_0                     NaN           NaN      0.515771   \n",
       "Dependents_1                     NaN           NaN           NaN   \n",
       "Dependents_2                     NaN           NaN           NaN   \n",
       "Dependents_3+                    NaN           NaN           NaN   \n",
       "Self_Employed_No                 NaN           NaN           NaN   \n",
       "Self_Employed_Yes                NaN           NaN           NaN   \n",
       "Property_Area_Rural              NaN           NaN           NaN   \n",
       "Property_Area_Semiurban          NaN           NaN           NaN   \n",
       "Property_Area_Urban              NaN           NaN           NaN   \n",
       "\n",
       "                         Dependents_2  Dependents_3+  Self_Employed_No  \\\n",
       "Education                    0.011184       0.031827          0.005085   \n",
       "ApplicantIncome              0.017426       0.143633          0.170785   \n",
       "CoapplicantIncome            0.028266       0.019006          0.001509   \n",
       "LoanAmount                   0.061174       0.115373          0.120389   \n",
       "Loan_Amount_Term             0.005885       0.066826          0.034852   \n",
       "Credit_History               0.037047       0.063797          0.023568   \n",
       "Loan_Status                  0.073368       0.005784          0.034715   \n",
       "Gender_Female                0.159802       0.123341          0.002761   \n",
       "Gender_Male                  0.159802       0.123341          0.002761   \n",
       "Married_No                   0.261974       0.162856          0.015674   \n",
       "Married_Yes                  0.261974       0.162856          0.015674   \n",
       "Dependents_0                 0.534999       0.352453          0.081585   \n",
       "Dependents_1                 0.207456       0.136670          0.081164   \n",
       "Dependents_2                      NaN       0.141766          0.036647   \n",
       "Dependents_3+                     NaN            NaN          0.013798   \n",
       "Self_Employed_No                  NaN            NaN               NaN   \n",
       "Self_Employed_Yes                 NaN            NaN               NaN   \n",
       "Property_Area_Rural               NaN            NaN               NaN   \n",
       "Property_Area_Semiurban           NaN            NaN               NaN   \n",
       "Property_Area_Urban               NaN            NaN               NaN   \n",
       "\n",
       "                         Self_Employed_Yes  Property_Area_Rural  \\\n",
       "Education                         0.005085             0.067607   \n",
       "ApplicantIncome                   0.170785             0.045154   \n",
       "CoapplicantIncome                 0.001509             0.001101   \n",
       "LoanAmount                        0.120389             0.086569   \n",
       "Loan_Amount_Term                  0.034852             0.033777   \n",
       "Credit_History                    0.023568             0.022504   \n",
       "Loan_Status                       0.034715             0.110817   \n",
       "Gender_Female                     0.002761             0.058739   \n",
       "Gender_Male                       0.002761             0.058739   \n",
       "Married_No                        0.015674             0.039048   \n",
       "Married_Yes                       0.015674             0.039048   \n",
       "Dependents_0                      0.081585             0.043191   \n",
       "Dependents_1                      0.081164             0.100653   \n",
       "Dependents_2                      0.036647             0.019427   \n",
       "Dependents_3+                     0.013798             0.084256   \n",
       "Self_Employed_No                  1.000000             0.051851   \n",
       "Self_Employed_Yes                      NaN             0.051851   \n",
       "Property_Area_Rural                    NaN                  NaN   \n",
       "Property_Area_Semiurban                NaN                  NaN   \n",
       "Property_Area_Urban                    NaN                  NaN   \n",
       "\n",
       "                         Property_Area_Semiurban  Property_Area_Urban  \n",
       "Education                               0.038137             0.025884  \n",
       "ApplicantIncome                         0.000551             0.044767  \n",
       "CoapplicantIncome                       0.008322             0.009866  \n",
       "LoanAmount                              0.013365             0.098826  \n",
       "Loan_Amount_Term                        0.030346             0.065097  \n",
       "Credit_History                          0.046480             0.027062  \n",
       "Loan_Status                             0.155686             0.055964  \n",
       "Gender_Female                           0.108538             0.057137  \n",
       "Gender_Male                             0.108538             0.057137  \n",
       "Married_No                              0.011121             0.026467  \n",
       "Married_Yes                             0.011121             0.026467  \n",
       "Dependents_0                            0.034147             0.078323  \n",
       "Dependents_1                            0.001903             0.096484  \n",
       "Dependents_2                            0.042625             0.064022  \n",
       "Dependents_3+                           0.004791             0.077390  \n",
       "Self_Employed_No                        0.015604             0.034261  \n",
       "Self_Employed_Yes                       0.015604             0.034261  \n",
       "Property_Area_Rural                     0.519037             0.430446  \n",
       "Property_Area_Semiurban                      NaN             0.548096  \n",
       "Property_Area_Urban                          NaN                  NaN  "
      ]
     },
     "execution_count": 52,
     "metadata": {},
     "output_type": "execute_result"
    }
   ],
   "source": [
    "# Select upper triangle of correlation matrix\n",
    "upper = corr_matrix.where(np.triu(np.ones(corr_matrix.shape), k=1).astype(np.bool))\n",
    "upper"
   ]
  },
  {
   "cell_type": "code",
   "execution_count": 53,
   "id": "90bf7cfc-782e-44a9-9be9-c18e31028e25",
   "metadata": {},
   "outputs": [
    {
     "data": {
      "text/plain": [
       "['Gender_Male', 'Married_Yes', 'Self_Employed_Yes']"
      ]
     },
     "execution_count": 53,
     "metadata": {},
     "output_type": "execute_result"
    }
   ],
   "source": [
    "# Find index of feature columns with correlation greater than 0.50\n",
    "to_drop = [column for column in upper.columns if any(upper[column] > 0.60)]\n",
    "to_drop"
   ]
  },
  {
   "cell_type": "code",
   "execution_count": 138,
   "id": "87b8cc17-d27c-4cc7-9b22-289f9e082389",
   "metadata": {},
   "outputs": [],
   "source": [
    "#loan=loan.drop(['Gender_Male', 'Married_Yes','Self_Employed_Yes','Loan_Approval'], axis='columns')"
   ]
  },
  {
   "cell_type": "code",
   "execution_count": 137,
   "id": "4041f84b-5396-433c-8007-bf2b3f42d3c6",
   "metadata": {},
   "outputs": [],
   "source": [
    "loan=loan.drop(['Loan_Approval'], axis='columns')"
   ]
  },
  {
   "cell_type": "code",
   "execution_count": 58,
   "id": "d6916bef-8ece-4680-8cef-b95e41fb2245",
   "metadata": {},
   "outputs": [
    {
     "data": {
      "text/plain": [
       "<AxesSubplot:>"
      ]
     },
     "execution_count": 58,
     "metadata": {},
     "output_type": "execute_result"
    },
    {
     "data": {
      "image/png": "[encoded data removed]",
      "text/plain": [
       "<Figure size 1440x720 with 2 Axes>"
      ]
     },
     "metadata": {
      "needs_background": "light"
     },
     "output_type": "display_data"
    }
   ],
   "source": [
    "#### 4.2 Correlation heatmap of the numberic variables\n",
    "import seaborn as sns\n",
    "plt.rcParams['figure.figsize'] = 20,10  # control plot sizeimport seaborn as sns\n",
    "sns.heatmap(loan.corr())"
   ]
  },
  {
   "cell_type": "code",
   "execution_count": 59,
   "id": "2891827c-e44d-483e-8142-69306b874658",
   "metadata": {},
   "outputs": [
    {
     "data": {
      "text/plain": [
       "<AxesSubplot:>"
      ]
     },
     "execution_count": 59,
     "metadata": {},
     "output_type": "execute_result"
    },
    {
     "data": {
      "image/png": "[encoded data removed]",
      "text/plain": [
       "<Figure size 1440x720 with 2 Axes>"
      ]
     },
     "metadata": {
      "needs_background": "light"
     },
     "output_type": "display_data"
    }
   ],
   "source": [
    "plt.figure(figsize=(20,10)) \n",
    "sns.heatmap(loan.corr(), annot=True) \n"
   ]
  },
  {
   "cell_type": "code",
   "execution_count": 63,
   "id": "2ceacc2f-2d2c-4342-9a9a-17816e3d5a6e",
   "metadata": {},
   "outputs": [
    {
     "data": {
      "text/plain": [
       "<AxesSubplot:>"
      ]
     },
     "execution_count": 63,
     "metadata": {},
     "output_type": "execute_result"
    },
    {
     "data": {
      "image/png": "[encoded data removed]",
      "text/plain": [
       "<Figure size 1440x720 with 1 Axes>"
      ]
     },
     "metadata": {
      "needs_background": "light"
     },
     "output_type": "display_data"
    }
   ],
   "source": [
    "import matplotlib.pyplot as plt\n",
    "plt.rcParams['figure.figsize'] = 20,10  # control plot sizeimport seaborn as sns\n",
    "loan.corr()['Loan_Status'].plot()"
   ]
  },
  {
   "cell_type": "code",
   "execution_count": 123,
   "id": "cb343859-2ed0-42f3-a832-2634bf8d124b",
   "metadata": {},
   "outputs": [
    {
     "name": "stderr",
     "output_type": "stream",
     "text": [
      "/tmp/ipykernel_148/1155980165.py:6: DeprecationWarning:\n",
      "\n",
      "`np.bool` is a deprecated alias for the builtin `bool`. To silence this warning, use `bool` by itself. Doing this will not modify any behavior and is safe. If you specifically wanted the numpy scalar type, use `np.bool_` here.\n",
      "Deprecated in NumPy 1.20; for more details and guidance: https://numpy.org/devdocs/release/1.20.0-notes.html#deprecations\n",
      "\n"
     ]
    },
    {
     "data": {
      "text/plain": [
       "Credit_History           Loan_Status                0.529390\n",
       "ApplicantIncome          LoanAmount                 0.495310\n",
       "Married_No               Dependents_0               0.410047\n",
       "Gender_Female            Married_No                 0.349424\n",
       "CoapplicantIncome        LoanAmount                 0.190740\n",
       "                                                      ...   \n",
       "Property_Area_Rural      Property_Area_Urban       -0.430446\n",
       "Dependents_0             Dependents_1              -0.515771\n",
       "Property_Area_Rural      Property_Area_Semiurban   -0.519037\n",
       "Dependents_0             Dependents_2              -0.534999\n",
       "Property_Area_Semiurban  Property_Area_Urban       -0.548096\n",
       "Length: 136, dtype: float64"
      ]
     },
     "execution_count": 123,
     "metadata": {},
     "output_type": "execute_result"
    }
   ],
   "source": [
    "corr_matrix = loan.corr()\n",
    "c = corr_matrix.abs()\n",
    "\n",
    "#the matrix is symmetric so we need to extract upper triangle matrix without diagonal (k = 1)\n",
    "\n",
    "sol = (corr_matrix.where(np.triu(np.ones(corr_matrix.shape), k=1).astype(np.bool))\n",
    "                 .stack()\n",
    "                 .sort_values(ascending=False))\n",
    "\n",
    "#first element of sol series is the pair with the biggest correlation\n",
    "sol"
   ]
  },
  {
   "cell_type": "code",
   "execution_count": 124,
   "id": "571dc967-0f99-4e8a-9781-ae55fe9f61a4",
   "metadata": {},
   "outputs": [
    {
     "data": {
      "text/plain": [
       "<AxesSubplot:>"
      ]
     },
     "execution_count": 124,
     "metadata": {},
     "output_type": "execute_result"
    },
    {
     "data": {
      "image/png": "[encoded data removed]",
      "text/plain": [
       "<Figure size 864x576 with 2 Axes>"
      ]
     },
     "metadata": {
      "needs_background": "light"
     },
     "output_type": "display_data"
    }
   ],
   "source": [
    "corr = corr_matrix.abs()\n",
    "\n",
    "kot = corr[corr>=.6]\n",
    "plt.figure(figsize=(12,8))\n",
    "sns.heatmap(kot, cmap=\"Greens\")"
   ]
  },
  {
   "cell_type": "code",
   "execution_count": 126,
   "id": "eef77aa9-5823-4f21-a767-4fce17da61ea",
   "metadata": {},
   "outputs": [
    {
     "name": "stderr",
     "output_type": "stream",
     "text": [
      "/tmp/ipykernel_148/3315850850.py:5: DeprecationWarning:\n",
      "\n",
      "`np.bool` is a deprecated alias for the builtin `bool`. To silence this warning, use `bool` by itself. Doing this will not modify any behavior and is safe. If you specifically wanted the numpy scalar type, use `np.bool_` here.\n",
      "Deprecated in NumPy 1.20; for more details and guidance: https://numpy.org/devdocs/release/1.20.0-notes.html#deprecations\n",
      "\n"
     ]
    },
    {
     "data": {
      "text/plain": [
       "[]"
      ]
     },
     "execution_count": 126,
     "metadata": {},
     "output_type": "execute_result"
    }
   ],
   "source": [
    "# Create correlation matrix\n",
    "corr_matrix = loan.corr().abs()\n",
    "\n",
    "# Select upper triangle of correlation matrix\n",
    "upper = corr_matrix.where(np.triu(np.ones(corr_matrix.shape), k=1).astype(np.bool))\n",
    "\n",
    "# Find index of feature columns with correlation greater than 0.95\n",
    "to_drop = [column for column in upper.columns if any(upper[column] > 0.6)]\n",
    "to_drop\n",
    "#Not dropping any columns as the correlation is not greater than 0.6 for any of the input features. "
   ]
  },
  {
   "cell_type": "code",
   "execution_count": 159,
   "id": "c5da8966-4b5e-4efa-b4a2-833d95ee2d08",
   "metadata": {},
   "outputs": [
    {
     "data": {
      "text/plain": [
       "Loan_Status                1.000000\n",
       "Credit_History             0.529390\n",
       "Property_Area_Semiurban    0.155686\n",
       "Dependents_2               0.073368\n",
       "Education                  0.068437\n",
       "Self_Employed_No           0.034715\n",
       "Dependents_3+             -0.005784\n",
       "Loan_Amount_Term          -0.007798\n",
       "Dependents_0              -0.022938\n",
       "Dependents_1              -0.040350\n",
       "ApplicantIncome           -0.043152\n",
       "CoapplicantIncome         -0.049020\n",
       "Property_Area_Urban       -0.055964\n",
       "Gender_Female             -0.064504\n",
       "LoanAmount                -0.071753\n",
       "Property_Area_Rural       -0.110817\n",
       "Married_No                -0.112321\n",
       "Name: Loan_Status, dtype: float64"
      ]
     },
     "execution_count": 159,
     "metadata": {},
     "output_type": "execute_result"
    }
   ],
   "source": [
    "loan[loan.columns[0:]].corr()['Loan_Status'][:].sort_values(axis=0, ascending=False, inplace=False, kind='quicksort', na_position='last')"
   ]
  },
  {
   "cell_type": "code",
   "execution_count": 156,
   "id": "91e8ad50-e897-42ee-b403-a21db39092dc",
   "metadata": {},
   "outputs": [],
   "source": [
    "# Splitting the dataset into the Training set and Test set\n",
    "X = loan.drop('Loan_Status', axis = 1)\n",
    "y = loan.Loan_Status\n",
    "\n",
    "\n",
    "from sklearn.model_selection import train_test_split\n",
    "\n",
    "training_features, test_features, \\\n",
    "training_target, test_target, = train_test_split(X,y,\n",
    "                                               test_size = .3,\n",
    "                                               random_state= 21)"
   ]
  },
  {
   "cell_type": "code",
   "execution_count": 157,
   "id": "04223fec-215f-4637-8dce-fe5afa1c946c",
   "metadata": {},
   "outputs": [
    {
     "name": "stdout",
     "output_type": "stream",
     "text": [
      "[0.03423117 0.03719117 0.04457668 0.04048068 0.04766195 0.37857443\n",
      " 0.03528074 0.04496139 0.04728074 0.06720049 0.03780914 0.04332129\n",
      " 0.01998064 0.04183017 0.04818377 0.03143552]\n"
     ]
    },
    {
     "data": {
      "image/png": "[encoded data removed]",
      "text/plain": [
       "<Figure size 1440x720 with 1 Axes>"
      ]
     },
     "metadata": {
      "needs_background": "light"
     },
     "output_type": "display_data"
    }
   ],
   "source": [
    "from xgboost import XGBClassifier\n",
    "from matplotlib import pyplot\n",
    "\n",
    "plt.figure(figsize=(20,10))\n",
    "\n",
    "# fit model no training data\n",
    "model = XGBClassifier()\n",
    "model.fit(training_features, training_target)\n",
    "# feature importance\n",
    "print(model.feature_importances_)\n",
    "# plot\n",
    "pyplot.bar(range(len(model.feature_importances_)), model.feature_importances_)\n",
    "pyplot.show()"
   ]
  },
  {
   "cell_type": "code",
   "execution_count": 158,
   "id": "ec366d3e-6fa2-4652-86c0-39b45e208dd3",
   "metadata": {},
   "outputs": [
    {
     "data": {
      "text/html": [
       "<div>\n",
       "<style scoped>\n",
       "    .dataframe tbody tr th:only-of-type {\n",
       "        vertical-align: middle;\n",
       "    }\n",
       "\n",
       "    .dataframe tbody tr th {\n",
       "        vertical-align: top;\n",
       "    }\n",
       "\n",
       "    .dataframe thead th {\n",
       "        text-align: right;\n",
       "    }\n",
       "</style>\n",
       "<table border=\"1\" class=\"dataframe\">\n",
       "  <thead>\n",
       "    <tr style=\"text-align: right;\">\n",
       "      <th></th>\n",
       "      <th>Importance Coef</th>\n",
       "      <th>Features</th>\n",
       "    </tr>\n",
       "  </thead>\n",
       "  <tbody>\n",
       "    <tr>\n",
       "      <th>5</th>\n",
       "      <td>0.378574</td>\n",
       "      <td>Credit_History</td>\n",
       "    </tr>\n",
       "    <tr>\n",
       "      <th>9</th>\n",
       "      <td>0.067200</td>\n",
       "      <td>Dependents_1</td>\n",
       "    </tr>\n",
       "    <tr>\n",
       "      <th>14</th>\n",
       "      <td>0.048184</td>\n",
       "      <td>Property_Area_Semiurban</td>\n",
       "    </tr>\n",
       "    <tr>\n",
       "      <th>4</th>\n",
       "      <td>0.047662</td>\n",
       "      <td>Loan_Amount_Term</td>\n",
       "    </tr>\n",
       "    <tr>\n",
       "      <th>8</th>\n",
       "      <td>0.047281</td>\n",
       "      <td>Dependents_0</td>\n",
       "    </tr>\n",
       "    <tr>\n",
       "      <th>7</th>\n",
       "      <td>0.044961</td>\n",
       "      <td>Married_No</td>\n",
       "    </tr>\n",
       "    <tr>\n",
       "      <th>2</th>\n",
       "      <td>0.044577</td>\n",
       "      <td>CoapplicantIncome</td>\n",
       "    </tr>\n",
       "    <tr>\n",
       "      <th>11</th>\n",
       "      <td>0.043321</td>\n",
       "      <td>Dependents_3+</td>\n",
       "    </tr>\n",
       "    <tr>\n",
       "      <th>13</th>\n",
       "      <td>0.041830</td>\n",
       "      <td>Property_Area_Rural</td>\n",
       "    </tr>\n",
       "    <tr>\n",
       "      <th>3</th>\n",
       "      <td>0.040481</td>\n",
       "      <td>LoanAmount</td>\n",
       "    </tr>\n",
       "    <tr>\n",
       "      <th>10</th>\n",
       "      <td>0.037809</td>\n",
       "      <td>Dependents_2</td>\n",
       "    </tr>\n",
       "    <tr>\n",
       "      <th>1</th>\n",
       "      <td>0.037191</td>\n",
       "      <td>ApplicantIncome</td>\n",
       "    </tr>\n",
       "    <tr>\n",
       "      <th>6</th>\n",
       "      <td>0.035281</td>\n",
       "      <td>Gender_Female</td>\n",
       "    </tr>\n",
       "    <tr>\n",
       "      <th>0</th>\n",
       "      <td>0.034231</td>\n",
       "      <td>Education</td>\n",
       "    </tr>\n",
       "    <tr>\n",
       "      <th>15</th>\n",
       "      <td>0.031436</td>\n",
       "      <td>Property_Area_Urban</td>\n",
       "    </tr>\n",
       "    <tr>\n",
       "      <th>12</th>\n",
       "      <td>0.019981</td>\n",
       "      <td>Self_Employed_No</td>\n",
       "    </tr>\n",
       "  </tbody>\n",
       "</table>\n",
       "</div>"
      ],
      "text/plain": [
       "    Importance Coef                 Features\n",
       "5          0.378574           Credit_History\n",
       "9          0.067200             Dependents_1\n",
       "14         0.048184  Property_Area_Semiurban\n",
       "4          0.047662         Loan_Amount_Term\n",
       "8          0.047281             Dependents_0\n",
       "7          0.044961               Married_No\n",
       "2          0.044577        CoapplicantIncome\n",
       "11         0.043321            Dependents_3+\n",
       "13         0.041830      Property_Area_Rural\n",
       "3          0.040481               LoanAmount\n",
       "10         0.037809             Dependents_2\n",
       "1          0.037191          ApplicantIncome\n",
       "6          0.035281            Gender_Female\n",
       "0          0.034231                Education\n",
       "15         0.031436      Property_Area_Urban\n",
       "12         0.019981         Self_Employed_No"
      ]
     },
     "execution_count": 158,
     "metadata": {},
     "output_type": "execute_result"
    }
   ],
   "source": [
    "feature_importances = pd.DataFrame({'Importance Coef' :model.feature_importances_ , 'Features' : training_features.columns})\n",
    "feature_importances.nlargest(19, 'Importance Coef')"
   ]
  },
  {
   "cell_type": "code",
   "execution_count": 451,
   "id": "a3701f7f-98dc-4f7e-88bc-0feef4497d89",
   "metadata": {},
   "outputs": [
    {
     "data": {
      "text/plain": [
       "1    332\n",
       "0    148\n",
       "Name: Loan_Status, dtype: int64"
      ]
     },
     "execution_count": 451,
     "metadata": {},
     "output_type": "execute_result"
    }
   ],
   "source": [
    "loan.Loan_Status.value_counts()"
   ]
  },
  {
   "cell_type": "code",
   "execution_count": 76,
   "id": "a7cff465-0d42-47f0-8682-b8b862eda18a",
   "metadata": {},
   "outputs": [
    {
     "data": {
      "text/plain": [
       "1    383\n",
       "0     97\n",
       "Name: Education, dtype: int64"
      ]
     },
     "execution_count": 76,
     "metadata": {},
     "output_type": "execute_result"
    }
   ],
   "source": [
    "loan.Education.value_counts()"
   ]
  },
  {
   "cell_type": "code",
   "execution_count": 134,
   "id": "d8a07f6b-e676-4b1b-ace5-8bc632374528",
   "metadata": {},
   "outputs": [
    {
     "data": {
      "text/plain": [
       "Index(['Education', 'ApplicantIncome', 'CoapplicantIncome', 'LoanAmount',\n",
       "       'Loan_Amount_Term', 'Credit_History', 'Loan_Status', 'Gender_Female',\n",
       "       'Married_No', 'Dependents_0', 'Dependents_1', 'Dependents_2',\n",
       "       'Dependents_3+', 'Self_Employed_No', 'Property_Area_Rural',\n",
       "       'Property_Area_Semiurban', 'Property_Area_Urban', 'Loan_Approval'],\n",
       "      dtype='object')"
      ]
     },
     "execution_count": 134,
     "metadata": {},
     "output_type": "execute_result"
    }
   ],
   "source": [
    "loan.columns"
   ]
  },
  {
   "cell_type": "code",
   "execution_count": 95,
   "id": "f6e75006-0a9d-499e-9ab8-1fe48df8fbcd",
   "metadata": {},
   "outputs": [],
   "source": [
    "loan = loan.astype({\"Education\":\"int\"})"
   ]
  },
  {
   "cell_type": "markdown",
   "id": "cubic-advertiser",
   "metadata": {},
   "source": [
    "## Exploratory Data Analysis"
   ]
  },
  {
   "cell_type": "code",
   "execution_count": 176,
   "id": "spiritual-price",
   "metadata": {},
   "outputs": [],
   "source": [
    "# declare the list of features\n",
    "features = ['Credit_History','Dependents_1','Property_Area_Semiurban','Loan_Amount_Term','Married_No','CoapplicantIncome','LoanAmount','Gender_Female']\n",
    "df=loan"
   ]
  },
  {
   "cell_type": "code",
   "execution_count": 177,
   "id": "reported-essence",
   "metadata": {},
   "outputs": [
    {
     "name": "stdout",
     "output_type": "stream",
     "text": [
      "Credit_History             0\n",
      "Dependents_1               0\n",
      "Property_Area_Semiurban    0\n",
      "Loan_Amount_Term           0\n",
      "Married_No                 0\n",
      "CoapplicantIncome          0\n",
      "LoanAmount                 0\n",
      "Gender_Female              0\n",
      "dtype: int64\n",
      "Credit_History             0\n",
      "Dependents_1               0\n",
      "Property_Area_Semiurban    0\n",
      "Loan_Amount_Term           0\n",
      "Married_No                 0\n",
      "CoapplicantIncome          0\n",
      "LoanAmount                 0\n",
      "Gender_Female              0\n",
      "dtype: int64\n"
     ]
    }
   ],
   "source": [
    "# recode missing values\n",
    "print(df[features].isnull().sum())\n",
    "for feature in ['LoanAmount','Loan_Amount_Term','ApplicantIncome']:\n",
    "    df[feature].fillna(value=df[feature].mean(), inplace=True)\n",
    "print(df[features].isnull().sum())"
   ]
  },
  {
   "cell_type": "code",
   "execution_count": 178,
   "id": "stainless-version",
   "metadata": {},
   "outputs": [
    {
     "name": "stdout",
     "output_type": "stream",
     "text": [
      "mean      144.735417\n",
      "median    128.000000\n",
      "min         9.000000\n",
      "max       600.000000\n",
      "Name: LoanAmount, dtype: float64\n",
      "mean      342.05\n",
      "median    360.00\n",
      "min        36.00\n",
      "max       480.00\n",
      "Name: Loan_Amount_Term, dtype: float64\n",
      "mean       5364.23125\n",
      "median     3859.00000\n",
      "min         150.00000\n",
      "max       81000.00000\n",
      "Name: ApplicantIncome, dtype: float64\n"
     ]
    }
   ],
   "source": [
    "for feature in ['LoanAmount','Loan_Amount_Term','ApplicantIncome']:\n",
    "    print(df[feature].agg(['mean', 'median', 'min', 'max']))"
   ]
  },
  {
   "cell_type": "code",
   "execution_count": 179,
   "id": "worthy-yield",
   "metadata": {},
   "outputs": [
    {
     "name": "stdout",
     "output_type": "stream",
     "text": [
      "(480, 17)\n",
      "1.0    410\n",
      "0.0     70\n",
      "Name: Credit_History, dtype: int64\n",
      "(480, 17)\n"
     ]
    }
   ],
   "source": [
    "# credit: missing data\n",
    "print(df.shape)\n",
    "print(df['Credit_History'].value_counts(dropna=False))\n",
    "df.dropna(subset=['Credit_History'], inplace=True)\n",
    "print(df.shape)"
   ]
  },
  {
   "cell_type": "code",
   "execution_count": 85,
   "id": "victorian-optimization",
   "metadata": {},
   "outputs": [
    {
     "data": {
      "text/plain": [
       "0    480\n",
       "Name: Loan_Approval, dtype: int64"
      ]
     },
     "execution_count": 85,
     "metadata": {},
     "output_type": "execute_result"
    }
   ],
   "source": [
    "# recode the target variable as numeric\n",
    "df['Loan_Approval']=np.where(df['Loan_Status']==\"Y\", 1, 0)\n",
    "df['Loan_Approval'].value_counts(dropna=False)"
   ]
  },
  {
   "cell_type": "markdown",
   "id": "impressive-sacramento",
   "metadata": {},
   "source": [
    "## Model Building"
   ]
  },
  {
   "cell_type": "code",
   "execution_count": 272,
   "id": "bc825c36-2cb6-4a53-b6df-18cb1821000f",
   "metadata": {},
   "outputs": [
    {
     "data": {
      "text/html": [
       "<div>\n",
       "<style scoped>\n",
       "    .dataframe tbody tr th:only-of-type {\n",
       "        vertical-align: middle;\n",
       "    }\n",
       "\n",
       "    .dataframe tbody tr th {\n",
       "        vertical-align: top;\n",
       "    }\n",
       "\n",
       "    .dataframe thead th {\n",
       "        text-align: right;\n",
       "    }\n",
       "</style>\n",
       "<table border=\"1\" class=\"dataframe\">\n",
       "  <thead>\n",
       "    <tr style=\"text-align: right;\">\n",
       "      <th></th>\n",
       "      <th>Education</th>\n",
       "      <th>ApplicantIncome</th>\n",
       "      <th>CoapplicantIncome</th>\n",
       "      <th>LoanAmount</th>\n",
       "      <th>Loan_Amount_Term</th>\n",
       "      <th>Credit_History</th>\n",
       "      <th>Loan_Status</th>\n",
       "      <th>Gender_Female</th>\n",
       "      <th>Married_No</th>\n",
       "      <th>Dependents_0</th>\n",
       "      <th>Dependents_1</th>\n",
       "      <th>Dependents_2</th>\n",
       "      <th>Dependents_3+</th>\n",
       "      <th>Self_Employed_No</th>\n",
       "      <th>Property_Area_Rural</th>\n",
       "      <th>Property_Area_Semiurban</th>\n",
       "      <th>Property_Area_Urban</th>\n",
       "    </tr>\n",
       "  </thead>\n",
       "  <tbody>\n",
       "    <tr>\n",
       "      <th>1</th>\n",
       "      <td>1</td>\n",
       "      <td>4583</td>\n",
       "      <td>1508.0</td>\n",
       "      <td>128.0</td>\n",
       "      <td>360.0</td>\n",
       "      <td>1.0</td>\n",
       "      <td>0</td>\n",
       "      <td>0</td>\n",
       "      <td>0</td>\n",
       "      <td>0</td>\n",
       "      <td>1</td>\n",
       "      <td>0</td>\n",
       "      <td>0</td>\n",
       "      <td>1</td>\n",
       "      <td>1</td>\n",
       "      <td>0</td>\n",
       "      <td>0</td>\n",
       "    </tr>\n",
       "    <tr>\n",
       "      <th>2</th>\n",
       "      <td>1</td>\n",
       "      <td>3000</td>\n",
       "      <td>0.0</td>\n",
       "      <td>66.0</td>\n",
       "      <td>360.0</td>\n",
       "      <td>1.0</td>\n",
       "      <td>1</td>\n",
       "      <td>0</td>\n",
       "      <td>0</td>\n",
       "      <td>1</td>\n",
       "      <td>0</td>\n",
       "      <td>0</td>\n",
       "      <td>0</td>\n",
       "      <td>0</td>\n",
       "      <td>0</td>\n",
       "      <td>0</td>\n",
       "      <td>1</td>\n",
       "    </tr>\n",
       "    <tr>\n",
       "      <th>3</th>\n",
       "      <td>0</td>\n",
       "      <td>2583</td>\n",
       "      <td>2358.0</td>\n",
       "      <td>120.0</td>\n",
       "      <td>360.0</td>\n",
       "      <td>1.0</td>\n",
       "      <td>1</td>\n",
       "      <td>0</td>\n",
       "      <td>0</td>\n",
       "      <td>1</td>\n",
       "      <td>0</td>\n",
       "      <td>0</td>\n",
       "      <td>0</td>\n",
       "      <td>1</td>\n",
       "      <td>0</td>\n",
       "      <td>0</td>\n",
       "      <td>1</td>\n",
       "    </tr>\n",
       "    <tr>\n",
       "      <th>4</th>\n",
       "      <td>1</td>\n",
       "      <td>6000</td>\n",
       "      <td>0.0</td>\n",
       "      <td>141.0</td>\n",
       "      <td>360.0</td>\n",
       "      <td>1.0</td>\n",
       "      <td>1</td>\n",
       "      <td>0</td>\n",
       "      <td>1</td>\n",
       "      <td>1</td>\n",
       "      <td>0</td>\n",
       "      <td>0</td>\n",
       "      <td>0</td>\n",
       "      <td>1</td>\n",
       "      <td>0</td>\n",
       "      <td>0</td>\n",
       "      <td>1</td>\n",
       "    </tr>\n",
       "    <tr>\n",
       "      <th>5</th>\n",
       "      <td>1</td>\n",
       "      <td>5417</td>\n",
       "      <td>4196.0</td>\n",
       "      <td>267.0</td>\n",
       "      <td>360.0</td>\n",
       "      <td>1.0</td>\n",
       "      <td>1</td>\n",
       "      <td>0</td>\n",
       "      <td>0</td>\n",
       "      <td>0</td>\n",
       "      <td>0</td>\n",
       "      <td>1</td>\n",
       "      <td>0</td>\n",
       "      <td>0</td>\n",
       "      <td>0</td>\n",
       "      <td>0</td>\n",
       "      <td>1</td>\n",
       "    </tr>\n",
       "  </tbody>\n",
       "</table>\n",
       "</div>"
      ],
      "text/plain": [
       "   Education  ApplicantIncome  CoapplicantIncome  LoanAmount  \\\n",
       "1          1             4583             1508.0       128.0   \n",
       "2          1             3000                0.0        66.0   \n",
       "3          0             2583             2358.0       120.0   \n",
       "4          1             6000                0.0       141.0   \n",
       "5          1             5417             4196.0       267.0   \n",
       "\n",
       "   Loan_Amount_Term  Credit_History  Loan_Status  Gender_Female  Married_No  \\\n",
       "1             360.0             1.0            0              0           0   \n",
       "2             360.0             1.0            1              0           0   \n",
       "3             360.0             1.0            1              0           0   \n",
       "4             360.0             1.0            1              0           1   \n",
       "5             360.0             1.0            1              0           0   \n",
       "\n",
       "   Dependents_0  Dependents_1  Dependents_2  Dependents_3+  Self_Employed_No  \\\n",
       "1             0             1             0              0                 1   \n",
       "2             1             0             0              0                 0   \n",
       "3             1             0             0              0                 1   \n",
       "4             1             0             0              0                 1   \n",
       "5             0             0             1              0                 0   \n",
       "\n",
       "   Property_Area_Rural  Property_Area_Semiurban  Property_Area_Urban  \n",
       "1                    1                        0                    0  \n",
       "2                    0                        0                    1  \n",
       "3                    0                        0                    1  \n",
       "4                    0                        0                    1  \n",
       "5                    0                        0                    1  "
      ]
     },
     "execution_count": 272,
     "metadata": {},
     "output_type": "execute_result"
    }
   ],
   "source": [
    "loan.head(5)"
   ]
  },
  {
   "cell_type": "code",
   "execution_count": 454,
   "id": "3e653ac4-8f92-41f5-bf98-1c9c1d828d4f",
   "metadata": {},
   "outputs": [],
   "source": [
    "count_class_0, count_class_1 = loan.Loan_Status.value_counts()\n",
    "# Divide by class\n",
    "df_class_0 = loan[loan['Loan_Status'] == 0]\n",
    "df_class_1 = loan[loan['Loan_Status'] == 1]"
   ]
  },
  {
   "cell_type": "code",
   "execution_count": 456,
   "id": "8b62b847-9899-4146-ad51-624e4fda2090",
   "metadata": {},
   "outputs": [
    {
     "name": "stdout",
     "output_type": "stream",
     "text": [
      "Random over-sampling:\n"
     ]
    }
   ],
   "source": [
    "print('Random over-sampling:')\n",
    "loan_0_over = df_class_0.sample(count_class_0,random_state=21, replace=True)\n",
    "loan_0_over = pd.concat([df_class_1, loan_0_over], axis=0)"
   ]
  },
  {
   "cell_type": "code",
   "execution_count": 455,
   "id": "253c7692-1275-4d5b-aab1-bf659bf8556c",
   "metadata": {},
   "outputs": [
    {
     "name": "stdout",
     "output_type": "stream",
     "text": [
      "332\n",
      "148\n"
     ]
    }
   ],
   "source": [
    "print(count_class_0)\n",
    "print(count_class_1)"
   ]
  },
  {
   "cell_type": "code",
   "execution_count": 457,
   "id": "82b0ddf3-9753-4845-9f0c-34b8c3c85d84",
   "metadata": {},
   "outputs": [
    {
     "data": {
      "text/plain": [
       "Index(['Education', 'ApplicantIncome', 'CoapplicantIncome', 'LoanAmount',\n",
       "       'Loan_Amount_Term', 'Credit_History', 'Loan_Status', 'Gender_Female',\n",
       "       'Married_No', 'Dependents_0', 'Dependents_1', 'Dependents_2',\n",
       "       'Dependents_3+', 'Self_Employed_No', 'Property_Area_Rural',\n",
       "       'Property_Area_Semiurban', 'Property_Area_Urban'],\n",
       "      dtype='object')"
      ]
     },
     "execution_count": 457,
     "metadata": {},
     "output_type": "execute_result"
    }
   ],
   "source": [
    "loan_0_over.columns"
   ]
  },
  {
   "cell_type": "code",
   "execution_count": 458,
   "id": "2287f14f-7a46-4406-a993-225aa647aed9",
   "metadata": {},
   "outputs": [
    {
     "data": {
      "text/html": [
       "<div>\n",
       "<style scoped>\n",
       "    .dataframe tbody tr th:only-of-type {\n",
       "        vertical-align: middle;\n",
       "    }\n",
       "\n",
       "    .dataframe tbody tr th {\n",
       "        vertical-align: top;\n",
       "    }\n",
       "\n",
       "    .dataframe thead th {\n",
       "        text-align: right;\n",
       "    }\n",
       "</style>\n",
       "<table border=\"1\" class=\"dataframe\">\n",
       "  <thead>\n",
       "    <tr style=\"text-align: right;\">\n",
       "      <th></th>\n",
       "      <th>Education</th>\n",
       "      <th>ApplicantIncome</th>\n",
       "      <th>CoapplicantIncome</th>\n",
       "      <th>LoanAmount</th>\n",
       "      <th>Loan_Amount_Term</th>\n",
       "      <th>Credit_History</th>\n",
       "      <th>Loan_Status</th>\n",
       "      <th>Gender_Female</th>\n",
       "      <th>Married_No</th>\n",
       "      <th>Dependents_0</th>\n",
       "      <th>Dependents_1</th>\n",
       "      <th>Dependents_2</th>\n",
       "      <th>Dependents_3+</th>\n",
       "      <th>Self_Employed_No</th>\n",
       "      <th>Property_Area_Rural</th>\n",
       "      <th>Property_Area_Semiurban</th>\n",
       "      <th>Property_Area_Urban</th>\n",
       "    </tr>\n",
       "  </thead>\n",
       "  <tbody>\n",
       "    <tr>\n",
       "      <th>2</th>\n",
       "      <td>1</td>\n",
       "      <td>3000</td>\n",
       "      <td>0.0</td>\n",
       "      <td>66.0</td>\n",
       "      <td>360.0</td>\n",
       "      <td>1.0</td>\n",
       "      <td>1</td>\n",
       "      <td>0</td>\n",
       "      <td>0</td>\n",
       "      <td>1</td>\n",
       "      <td>0</td>\n",
       "      <td>0</td>\n",
       "      <td>0</td>\n",
       "      <td>0</td>\n",
       "      <td>0</td>\n",
       "      <td>0</td>\n",
       "      <td>1</td>\n",
       "    </tr>\n",
       "    <tr>\n",
       "      <th>3</th>\n",
       "      <td>0</td>\n",
       "      <td>2583</td>\n",
       "      <td>2358.0</td>\n",
       "      <td>120.0</td>\n",
       "      <td>360.0</td>\n",
       "      <td>1.0</td>\n",
       "      <td>1</td>\n",
       "      <td>0</td>\n",
       "      <td>0</td>\n",
       "      <td>1</td>\n",
       "      <td>0</td>\n",
       "      <td>0</td>\n",
       "      <td>0</td>\n",
       "      <td>1</td>\n",
       "      <td>0</td>\n",
       "      <td>0</td>\n",
       "      <td>1</td>\n",
       "    </tr>\n",
       "    <tr>\n",
       "      <th>4</th>\n",
       "      <td>1</td>\n",
       "      <td>6000</td>\n",
       "      <td>0.0</td>\n",
       "      <td>141.0</td>\n",
       "      <td>360.0</td>\n",
       "      <td>1.0</td>\n",
       "      <td>1</td>\n",
       "      <td>0</td>\n",
       "      <td>1</td>\n",
       "      <td>1</td>\n",
       "      <td>0</td>\n",
       "      <td>0</td>\n",
       "      <td>0</td>\n",
       "      <td>1</td>\n",
       "      <td>0</td>\n",
       "      <td>0</td>\n",
       "      <td>1</td>\n",
       "    </tr>\n",
       "    <tr>\n",
       "      <th>5</th>\n",
       "      <td>1</td>\n",
       "      <td>5417</td>\n",
       "      <td>4196.0</td>\n",
       "      <td>267.0</td>\n",
       "      <td>360.0</td>\n",
       "      <td>1.0</td>\n",
       "      <td>1</td>\n",
       "      <td>0</td>\n",
       "      <td>0</td>\n",
       "      <td>0</td>\n",
       "      <td>0</td>\n",
       "      <td>1</td>\n",
       "      <td>0</td>\n",
       "      <td>0</td>\n",
       "      <td>0</td>\n",
       "      <td>0</td>\n",
       "      <td>1</td>\n",
       "    </tr>\n",
       "    <tr>\n",
       "      <th>6</th>\n",
       "      <td>0</td>\n",
       "      <td>2333</td>\n",
       "      <td>1516.0</td>\n",
       "      <td>95.0</td>\n",
       "      <td>360.0</td>\n",
       "      <td>1.0</td>\n",
       "      <td>1</td>\n",
       "      <td>0</td>\n",
       "      <td>0</td>\n",
       "      <td>1</td>\n",
       "      <td>0</td>\n",
       "      <td>0</td>\n",
       "      <td>0</td>\n",
       "      <td>1</td>\n",
       "      <td>0</td>\n",
       "      <td>0</td>\n",
       "      <td>1</td>\n",
       "    </tr>\n",
       "  </tbody>\n",
       "</table>\n",
       "</div>"
      ],
      "text/plain": [
       "   Education  ApplicantIncome  CoapplicantIncome  LoanAmount  \\\n",
       "2          1             3000                0.0        66.0   \n",
       "3          0             2583             2358.0       120.0   \n",
       "4          1             6000                0.0       141.0   \n",
       "5          1             5417             4196.0       267.0   \n",
       "6          0             2333             1516.0        95.0   \n",
       "\n",
       "   Loan_Amount_Term  Credit_History  Loan_Status  Gender_Female  Married_No  \\\n",
       "2             360.0             1.0            1              0           0   \n",
       "3             360.0             1.0            1              0           0   \n",
       "4             360.0             1.0            1              0           1   \n",
       "5             360.0             1.0            1              0           0   \n",
       "6             360.0             1.0            1              0           0   \n",
       "\n",
       "   Dependents_0  Dependents_1  Dependents_2  Dependents_3+  Self_Employed_No  \\\n",
       "2             1             0             0              0                 0   \n",
       "3             1             0             0              0                 1   \n",
       "4             1             0             0              0                 1   \n",
       "5             0             0             1              0                 0   \n",
       "6             1             0             0              0                 1   \n",
       "\n",
       "   Property_Area_Rural  Property_Area_Semiurban  Property_Area_Urban  \n",
       "2                    0                        0                    1  \n",
       "3                    0                        0                    1  \n",
       "4                    0                        0                    1  \n",
       "5                    0                        0                    1  \n",
       "6                    0                        0                    1  "
      ]
     },
     "execution_count": 458,
     "metadata": {},
     "output_type": "execute_result"
    }
   ],
   "source": [
    "loan_0_over.head(5)"
   ]
  },
  {
   "cell_type": "code",
   "execution_count": 459,
   "id": "72b13dfb-6c46-4b8d-892d-7297dd24c090",
   "metadata": {},
   "outputs": [
    {
     "data": {
      "text/plain": [
       "Education                    int64\n",
       "ApplicantIncome              int64\n",
       "CoapplicantIncome          float64\n",
       "LoanAmount                 float64\n",
       "Loan_Amount_Term           float64\n",
       "Credit_History             float64\n",
       "Loan_Status                  int64\n",
       "Gender_Female                uint8\n",
       "Married_No                   uint8\n",
       "Dependents_0                 uint8\n",
       "Dependents_1                 uint8\n",
       "Dependents_2                 uint8\n",
       "Dependents_3+                uint8\n",
       "Self_Employed_No             uint8\n",
       "Property_Area_Rural          uint8\n",
       "Property_Area_Semiurban      uint8\n",
       "Property_Area_Urban          uint8\n",
       "dtype: object"
      ]
     },
     "execution_count": 459,
     "metadata": {},
     "output_type": "execute_result"
    }
   ],
   "source": [
    "loan_0_over.dtypes"
   ]
  },
  {
   "cell_type": "code",
   "execution_count": 460,
   "id": "f2af9b08-78d1-4596-8e90-d38e7d3d3c76",
   "metadata": {},
   "outputs": [
    {
     "data": {
      "text/plain": [
       "Index(['Education', 'ApplicantIncome', 'CoapplicantIncome', 'LoanAmount',\n",
       "       'Loan_Amount_Term', 'Credit_History', 'Loan_Status', 'Gender_Female',\n",
       "       'Married_No', 'Dependents_0', 'Dependents_1', 'Dependents_2',\n",
       "       'Dependents_3+', 'Self_Employed_No', 'Property_Area_Rural',\n",
       "       'Property_Area_Semiurban', 'Property_Area_Urban'],\n",
       "      dtype='object')"
      ]
     },
     "execution_count": 460,
     "metadata": {},
     "output_type": "execute_result"
    }
   ],
   "source": [
    "loan_0_over.columns"
   ]
  },
  {
   "cell_type": "code",
   "execution_count": 461,
   "id": "f3f6b04b-bb6b-491b-b320-70215554e0b2",
   "metadata": {},
   "outputs": [],
   "source": [
    "loan=loan_0_over"
   ]
  },
  {
   "cell_type": "code",
   "execution_count": 476,
   "id": "82b8e59c-8c5a-4bb9-ae1a-183f5d669dd4",
   "metadata": {},
   "outputs": [
    {
     "data": {
      "text/plain": [
       "Loan_Status                1.000000\n",
       "Credit_History             0.514136\n",
       "Property_Area_Semiurban    0.165419\n",
       "Dependents_2               0.068129\n",
       "Education                  0.062931\n",
       "Self_Employed_No           0.026155\n",
       "Dependents_0              -0.009120\n",
       "Loan_Amount_Term          -0.019486\n",
       "Dependents_1              -0.028254\n",
       "Property_Area_Urban       -0.035764\n",
       "Dependents_3+             -0.035974\n",
       "Gender_Female             -0.046967\n",
       "CoapplicantIncome         -0.050133\n",
       "ApplicantIncome           -0.064059\n",
       "LoanAmount                -0.070445\n",
       "Married_No                -0.087936\n",
       "Property_Area_Rural       -0.135679\n",
       "Name: Loan_Status, dtype: float64"
      ]
     },
     "execution_count": 476,
     "metadata": {},
     "output_type": "execute_result"
    }
   ],
   "source": [
    "loan[loan.columns[0:]].corr()['Loan_Status'][:].sort_values(axis=0, ascending=False, inplace=False, kind='quicksort', na_position='last')"
   ]
  },
  {
   "cell_type": "code",
   "execution_count": 477,
   "id": "ade9ce84-7bac-483d-bf0b-b2f8b855cb82",
   "metadata": {},
   "outputs": [],
   "source": [
    "# declare the list of features\n",
    "features = ['Credit_History', 'Property_Area_Semiurban', 'Dependents_2', 'Education',\n",
    "       'Self_Employed_No', 'Property_Area_Rural', 'Married_No',\n",
    "       'LoanAmount', 'ApplicantIncome', 'CoapplicantIncome', 'Gender_Female']\n",
    "df=loan"
   ]
  },
  {
   "cell_type": "code",
   "execution_count": 540,
   "id": "17c170f3-8262-4564-892f-fa3c0d075902",
   "metadata": {},
   "outputs": [],
   "source": [
    "# declare the list of features\n",
    "features = ['Education', 'ApplicantIncome', 'CoapplicantIncome', 'LoanAmount',\n",
    "       'Loan_Amount_Term', 'Credit_History', 'Gender_Female',\n",
    "       'Married_No', 'Dependents_0', 'Dependents_1', 'Dependents_2',\n",
    "       'Dependents_3+', 'Self_Employed_No', 'Property_Area_Rural',\n",
    "       'Property_Area_Semiurban', 'Property_Area_Urban']\n",
    "df=loan"
   ]
  },
  {
   "cell_type": "code",
   "execution_count": 541,
   "id": "operational-shopper",
   "metadata": {},
   "outputs": [],
   "source": [
    "# specify X and y\n",
    "y = loan['Loan_Status']\n",
    "X = loan[features]"
   ]
  },
  {
   "cell_type": "code",
   "execution_count": 542,
   "id": "34079623-9b42-4671-943f-34265f829275",
   "metadata": {},
   "outputs": [
    {
     "data": {
      "text/plain": [
       "1    332\n",
       "0    332\n",
       "Name: Loan_Status, dtype: int64"
      ]
     },
     "execution_count": 542,
     "metadata": {},
     "output_type": "execute_result"
    }
   ],
   "source": [
    "y.value_counts()"
   ]
  },
  {
   "cell_type": "code",
   "execution_count": 543,
   "id": "preceding-verse",
   "metadata": {},
   "outputs": [],
   "source": [
    "# train-test split\n",
    "X_train, X_test, y_train, y_test = train_test_split(X, y, test_size = .30, random_state=12)"
   ]
  },
  {
   "cell_type": "code",
   "execution_count": 544,
   "id": "ahead-outline",
   "metadata": {},
   "outputs": [
    {
     "data": {
      "text/plain": [
       "LogisticRegression()"
      ]
     },
     "execution_count": 544,
     "metadata": {},
     "output_type": "execute_result"
    }
   ],
   "source": [
    "# Fit the model to the training dataset\n",
    "mymodel = LogisticRegression()\n",
    "mymodel.fit(X_train, y_train)"
   ]
  },
  {
   "cell_type": "code",
   "execution_count": 545,
   "id": "appreciated-biodiversity",
   "metadata": {},
   "outputs": [
    {
     "data": {
      "text/plain": [
       "array([[ 4.19834331e-01, -2.43809153e-05, -1.00476196e-04,\n",
       "        -1.56108998e-03, -5.59319254e-03,  2.61572901e+00,\n",
       "        -6.75469801e-02, -4.76702597e-01,  9.08379430e-02,\n",
       "        -1.75760033e-01,  3.28919262e-01, -1.23811623e-01,\n",
       "         1.21364703e-01, -4.92689959e-01,  6.62144466e-01,\n",
       "        -4.92689587e-02]])"
      ]
     },
     "execution_count": 545,
     "metadata": {},
     "output_type": "execute_result"
    }
   ],
   "source": [
    "# coefficients and intercept\n",
    "mymodel.intercept_\n",
    "mymodel.coef_"
   ]
  },
  {
   "cell_type": "code",
   "execution_count": 546,
   "id": "943da58b-1c39-436a-8e52-30afffa4b07f",
   "metadata": {},
   "outputs": [],
   "source": [
    "# Predict the y-values on the testing dataset\n",
    "y_preds = mymodel.predict(X_test)\n",
    "y_probs = mymodel.predict_proba(X_test)\n",
    "y_pred_proba = mymodel.predict_proba(X_test)[::,1]"
   ]
  },
  {
   "cell_type": "code",
   "execution_count": 523,
   "id": "8c0a63a8-23cb-47fb-9336-f4c91f9449f7",
   "metadata": {},
   "outputs": [],
   "source": [
    "import sklearn\n",
    "from sklearn.preprocessing import StandardScaler\n",
    "std_scaler = StandardScaler()\n"
   ]
  },
  {
   "cell_type": "code",
   "execution_count": 528,
   "id": "740227f3-6f9d-44ca-ab28-22f78dc0e68c",
   "metadata": {},
   "outputs": [
    {
     "data": {
      "text/plain": [
       "array([ 0.51075392,  4.7220677 , -0.7128282 ,  1.5179389 ,  0.27367996,\n",
       "        0.53748385, -0.45643546, -0.73588602, -1.10457942,  2.15836433,\n",
       "       -0.45987852, -0.3317346 ,  0.40722125, -0.67082039,  1.28507921,\n",
       "       -0.67419986])"
      ]
     },
     "execution_count": 528,
     "metadata": {},
     "output_type": "execute_result"
    }
   ],
   "source": [
    "X_train_scaled = std_scaler.transform(X_train.values)\n",
    "X_train_scaled[0]"
   ]
  },
  {
   "cell_type": "code",
   "execution_count": 529,
   "id": "9e736049-dd8c-4e13-8a61-eb6d97438dd2",
   "metadata": {},
   "outputs": [
    {
     "data": {
      "text/plain": [
       "array([ 0.51075392, -0.10743335, -0.7128282 ,  0.26568955,  0.27367996,\n",
       "       -1.86052102, -0.45643546,  1.35890609, -1.10457942, -0.46331381,\n",
       "        2.17448731, -0.3317346 ,  0.40722125, -0.67082039,  1.28507921,\n",
       "       -0.67419986])"
      ]
     },
     "execution_count": 529,
     "metadata": {},
     "output_type": "execute_result"
    }
   ],
   "source": [
    "# Use the scaler to transform the dataset\n",
    "X_test_scaled = std_scaler.transform(X_test.values)\n",
    "X_test_scaled[0]"
   ]
  },
  {
   "cell_type": "code",
   "execution_count": 530,
   "id": "fce8f42f-8ea2-4fce-abb7-357f383c8ac7",
   "metadata": {},
   "outputs": [
    {
     "data": {
      "text/plain": [
       "StandardScaler()"
      ]
     },
     "execution_count": 530,
     "metadata": {},
     "output_type": "execute_result"
    }
   ],
   "source": [
    "# 'Fit' the scaler to our X_train data\n",
    "std_scaler = std_scaler.fit(X_train.values)\n",
    "std_scaler"
   ]
  },
  {
   "cell_type": "code",
   "execution_count": 531,
   "id": "absolute-border",
   "metadata": {},
   "outputs": [
    {
     "name": "stderr",
     "output_type": "stream",
     "text": [
      "/home/studio-lab-user/.conda/envs/d2l/lib/python3.9/site-packages/sklearn/base.py:450: UserWarning:\n",
      "\n",
      "X does not have valid feature names, but LogisticRegression was fitted with feature names\n",
      "\n",
      "/home/studio-lab-user/.conda/envs/d2l/lib/python3.9/site-packages/sklearn/base.py:450: UserWarning:\n",
      "\n",
      "X does not have valid feature names, but LogisticRegression was fitted with feature names\n",
      "\n"
     ]
    }
   ],
   "source": [
    "# Predict the y-values on the testing dataset\n",
    "y_preds = mymodel.predict(X_test_scaled)\n",
    "y_probs = mymodel.predict_proba(X_test_scaled)"
   ]
  },
  {
   "cell_type": "code",
   "execution_count": 362,
   "id": "6c35b8a4-59da-4313-997e-9cfaa97af849",
   "metadata": {},
   "outputs": [
    {
     "data": {
      "text/plain": [
       "LogisticRegression()"
      ]
     },
     "execution_count": 362,
     "metadata": {},
     "output_type": "execute_result"
    }
   ],
   "source": [
    "# Fit the model to the training dataset\n",
    "mymodel = LogisticRegression()\n",
    "mymodel.fit(X_train_scaled, y_train)"
   ]
  },
  {
   "cell_type": "markdown",
   "id": "clean-interface",
   "metadata": {},
   "source": [
    "## Model Evalution"
   ]
  },
  {
   "cell_type": "code",
   "execution_count": 547,
   "id": "bound-marketplace",
   "metadata": {},
   "outputs": [
    {
     "name": "stdout",
     "output_type": "stream",
     "text": [
      "              precision    recall  f1-score   support\n",
      "\n",
      "           0       0.85      0.67      0.75       114\n",
      "           1       0.66      0.85      0.74        86\n",
      "\n",
      "    accuracy                           0.74       200\n",
      "   macro avg       0.76      0.76      0.74       200\n",
      "weighted avg       0.77      0.74      0.75       200\n",
      "\n"
     ]
    }
   ],
   "source": [
    "# Evaluate the model\n",
    "print(metrics.classification_report(y_test, y_preds))"
   ]
  },
  {
   "cell_type": "code",
   "execution_count": 548,
   "id": "a857a8e2-6035-421f-a14e-53eb2c7de39d",
   "metadata": {},
   "outputs": [
    {
     "name": "stdout",
     "output_type": "stream",
     "text": [
      "Accuracy 0.745\n"
     ]
    }
   ],
   "source": [
    "print(\"Accuracy\", metrics.accuracy_score(y_test, y_preds))"
   ]
  },
  {
   "cell_type": "code",
   "execution_count": 549,
   "id": "stretch-trial",
   "metadata": {},
   "outputs": [
    {
     "data": {
      "text/html": [
       "<div>\n",
       "<style scoped>\n",
       "    .dataframe tbody tr th:only-of-type {\n",
       "        vertical-align: middle;\n",
       "    }\n",
       "\n",
       "    .dataframe tbody tr th {\n",
       "        vertical-align: top;\n",
       "    }\n",
       "\n",
       "    .dataframe thead th {\n",
       "        text-align: right;\n",
       "    }\n",
       "</style>\n",
       "<table border=\"1\" class=\"dataframe\">\n",
       "  <thead>\n",
       "    <tr style=\"text-align: right;\">\n",
       "      <th></th>\n",
       "      <th>precision</th>\n",
       "      <th>recall</th>\n",
       "      <th>f1-score</th>\n",
       "      <th>support</th>\n",
       "    </tr>\n",
       "  </thead>\n",
       "  <tbody>\n",
       "    <tr>\n",
       "      <th>0</th>\n",
       "      <td>0.853933</td>\n",
       "      <td>0.666667</td>\n",
       "      <td>0.748768</td>\n",
       "      <td>114.000</td>\n",
       "    </tr>\n",
       "    <tr>\n",
       "      <th>1</th>\n",
       "      <td>0.657658</td>\n",
       "      <td>0.848837</td>\n",
       "      <td>0.741117</td>\n",
       "      <td>86.000</td>\n",
       "    </tr>\n",
       "    <tr>\n",
       "      <th>accuracy</th>\n",
       "      <td>0.745000</td>\n",
       "      <td>0.745000</td>\n",
       "      <td>0.745000</td>\n",
       "      <td>0.745</td>\n",
       "    </tr>\n",
       "    <tr>\n",
       "      <th>macro avg</th>\n",
       "      <td>0.755795</td>\n",
       "      <td>0.757752</td>\n",
       "      <td>0.744943</td>\n",
       "      <td>200.000</td>\n",
       "    </tr>\n",
       "    <tr>\n",
       "      <th>weighted avg</th>\n",
       "      <td>0.769534</td>\n",
       "      <td>0.745000</td>\n",
       "      <td>0.745478</td>\n",
       "      <td>200.000</td>\n",
       "    </tr>\n",
       "  </tbody>\n",
       "</table>\n",
       "</div>"
      ],
      "text/plain": [
       "              precision    recall  f1-score  support\n",
       "0              0.853933  0.666667  0.748768  114.000\n",
       "1              0.657658  0.848837  0.741117   86.000\n",
       "accuracy       0.745000  0.745000  0.745000    0.745\n",
       "macro avg      0.755795  0.757752  0.744943  200.000\n",
       "weighted avg   0.769534  0.745000  0.745478  200.000"
      ]
     },
     "execution_count": 549,
     "metadata": {},
     "output_type": "execute_result"
    }
   ],
   "source": [
    "# save your eval report as an html file\n",
    "report = metrics.classification_report(y_test, y_preds, output_dict=True)\n",
    "evalreport = pd.DataFrame(report).transpose()\n",
    "evalreport.to_html('../assets/evalreport.html')\n",
    "evalreport"
   ]
  },
  {
   "cell_type": "code",
   "execution_count": 550,
   "id": "6375d159-8d2d-4b14-813c-ce84686311b7",
   "metadata": {},
   "outputs": [
    {
     "data": {
      "image/png": "[encoded data removed]",
      "text/plain": [
       "<Figure size 1440x720 with 1 Axes>"
      ]
     },
     "metadata": {
      "needs_background": "light"
     },
     "output_type": "display_data"
    }
   ],
   "source": [
    "import matplotlib.pyplot as plt\n",
    "auc = metrics.roc_auc_score(y_test, y_pred_proba)\n",
    "plt.plot(fpr,tpr,label=\"data 1, auc=\"+str(auc))\n",
    "plt.legend(loc=4)\n",
    "plt.show()"
   ]
  },
  {
   "cell_type": "code",
   "execution_count": 551,
   "id": "hungry-dictionary",
   "metadata": {},
   "outputs": [
    {
     "data": {
      "text/html": [
       "<div>\n",
       "<style scoped>\n",
       "    .dataframe tbody tr th:only-of-type {\n",
       "        vertical-align: middle;\n",
       "    }\n",
       "\n",
       "    .dataframe tbody tr th {\n",
       "        vertical-align: top;\n",
       "    }\n",
       "\n",
       "    .dataframe thead th {\n",
       "        text-align: right;\n",
       "    }\n",
       "</style>\n",
       "<table border=\"1\" class=\"dataframe\">\n",
       "  <thead>\n",
       "    <tr style=\"text-align: right;\">\n",
       "      <th></th>\n",
       "      <th>FPR</th>\n",
       "      <th>TPR</th>\n",
       "      <th>Threshold</th>\n",
       "    </tr>\n",
       "  </thead>\n",
       "  <tbody>\n",
       "    <tr>\n",
       "      <th>0</th>\n",
       "      <td>0.000000</td>\n",
       "      <td>0.000000</td>\n",
       "      <td>1.957474</td>\n",
       "    </tr>\n",
       "    <tr>\n",
       "      <th>1</th>\n",
       "      <td>0.000000</td>\n",
       "      <td>0.011628</td>\n",
       "      <td>0.957474</td>\n",
       "    </tr>\n",
       "    <tr>\n",
       "      <th>2</th>\n",
       "      <td>0.017544</td>\n",
       "      <td>0.011628</td>\n",
       "      <td>0.936497</td>\n",
       "    </tr>\n",
       "    <tr>\n",
       "      <th>3</th>\n",
       "      <td>0.017544</td>\n",
       "      <td>0.023256</td>\n",
       "      <td>0.920802</td>\n",
       "    </tr>\n",
       "    <tr>\n",
       "      <th>4</th>\n",
       "      <td>0.026316</td>\n",
       "      <td>0.023256</td>\n",
       "      <td>0.911987</td>\n",
       "    </tr>\n",
       "  </tbody>\n",
       "</table>\n",
       "</div>"
      ],
      "text/plain": [
       "        FPR       TPR  Threshold\n",
       "0  0.000000  0.000000   1.957474\n",
       "1  0.000000  0.011628   0.957474\n",
       "2  0.017544  0.011628   0.936497\n",
       "3  0.017544  0.023256   0.920802\n",
       "4  0.026316  0.023256   0.911987"
      ]
     },
     "execution_count": 551,
     "metadata": {},
     "output_type": "execute_result"
    }
   ],
   "source": [
    "# true positives, etc.\n",
    "y_score = mymodel.predict_proba(X_test)[:, 1]\n",
    "fpr, tpr, thresh=metrics.roc_curve(y_test, y_score)\n",
    "roc_df=pd.DataFrame(zip(fpr, tpr, thresh), columns=['FPR','TPR','Threshold'])\n",
    "roc_df.head()"
   ]
  },
  {
   "cell_type": "code",
   "execution_count": 552,
   "id": "immediate-installation",
   "metadata": {},
   "outputs": [],
   "source": [
    "# pickle dataframe\n",
    "\n",
    "filename = open('roc_df.pkl', 'wb')\n",
    "pickle.dump(roc_df, filename)\n",
    "filename.close()\n",
    "\n",
    "roc_df.to_csv('roc_df.csv', index=False)"
   ]
  },
  {
   "cell_type": "code",
   "execution_count": 553,
   "id": "resident-jenny",
   "metadata": {},
   "outputs": [
    {
     "name": "stdout",
     "output_type": "stream",
     "text": [
      "0.6028683958596941 30\n"
     ]
    },
    {
     "data": {
      "application/vnd.plotly.v1+json": {
       "config": {
        "plotlyServerURL": "https://plot.ly"
       },
       "data": [
        {
         "customdata": [
          [
           1.9574742012432087
          ],
          [
           0.9574742012432088
          ],
          [
           0.9364967580306675
          ],
          [
           0.9208024882674011
          ],
          [
           0.9119867401382561
          ],
          [
           0.9044299275390449
          ],
          [
           0.8995595164285733
          ],
          [
           0.8292658260841664
          ],
          [
           0.8268667801869007
          ],
          [
           0.7754193853309488
          ],
          [
           0.7723250779720457
          ],
          [
           0.732549100105549
          ],
          [
           0.7295564671804189
          ],
          [
           0.7271806472625836
          ],
          [
           0.7239419977446276
          ],
          [
           0.7098004734028198
          ],
          [
           0.6963550349040599
          ],
          [
           0.6860042125448939
          ],
          [
           0.6778987181680999
          ],
          [
           0.6712749700212349
          ],
          [
           0.657705544314212
          ],
          [
           0.6574569368291795
          ],
          [
           0.6527861256791785
          ],
          [
           0.6344363333211309
          ],
          [
           0.630129882034801
          ],
          [
           0.6268833453067615
          ],
          [
           0.6198779257717058
          ],
          [
           0.6160858453550159
          ],
          [
           0.6145434885762603
          ],
          [
           0.6077551432781358
          ],
          [
           0.6028683958596941
          ],
          [
           0.5828466824537653
          ],
          [
           0.5790321169985828
          ],
          [
           0.5767158356317628
          ],
          [
           0.5558826071544012
          ],
          [
           0.5557792939649122
          ],
          [
           0.5539009334929647
          ],
          [
           0.5532651496414829
          ],
          [
           0.5532486544676407
          ],
          [
           0.5467815754020935
          ],
          [
           0.5400064195484908
          ],
          [
           0.532983807598024
          ],
          [
           0.5158564372511836
          ],
          [
           0.5026428853039642
          ],
          [
           0.4962473106645789
          ],
          [
           0.4928968877675606
          ],
          [
           0.46949114875243836
          ],
          [
           0.447699644320515
          ],
          [
           0.43552151956476765
          ],
          [
           0.43368507031221065
          ],
          [
           0.42927403970999023
          ],
          [
           0.42845160531845744
          ],
          [
           0.4263165245861767
          ],
          [
           0.4027545363600116
          ],
          [
           0.4000469037727566
          ],
          [
           0.3993993211766394
          ],
          [
           0.39055389151053865
          ],
          [
           0.35192015708650864
          ],
          [
           0.34835925448976673
          ],
          [
           0.33371639531198855
          ],
          [
           0.2978384903685375
          ],
          [
           0.28579350037592305
          ],
          [
           0.2614874824492333
          ],
          [
           0.22846988689510708
          ],
          [
           0.20003166550001403
          ],
          [
           0.17012980563402724
          ],
          [
           0.14904979257825016
          ],
          [
           0.1471010317852767
          ],
          [
           0.14625073814830525
          ],
          [
           0.1387783401470361
          ],
          [
           0.11885216747576745
          ],
          [
           0.11473991473303193
          ],
          [
           0.11278298675328854
          ],
          [
           0.11110131308596133
          ],
          [
           0.09939151921111311
          ],
          [
           0.09613405662326818
          ],
          [
           0.09584996012926512
          ],
          [
           0.09519119989672811
          ],
          [
           0.09474738782393739
          ],
          [
           0.09424257050991365
          ],
          [
           0.09052605832023806
          ],
          [
           0.0900275434247021
          ],
          [
           0.06050140673031103
          ],
          [
           0.057418395183156536
          ],
          [
           0.03767998144006618
          ],
          [
           0.031041202335886413
          ],
          [
           0.01092720534880626
          ]
         ],
         "hovertemplate": "FPR=%{x:.2f}<br>TPR=%{y:.2f}<br>Threshold=%{customdata[0]:.2f}<extra></extra>",
         "legendgroup": "",
         "line": {
          "color": "#636efa"
         },
         "marker": {
          "symbol": "circle"
         },
         "mode": "lines",
         "name": "",
         "orientation": "v",
         "showlegend": false,
         "stackgroup": "1",
         "type": "scatter",
         "x": [
          0,
          0,
          0.017543859649122806,
          0.017543859649122806,
          0.02631578947368421,
          0.02631578947368421,
          0.043859649122807015,
          0.043859649122807015,
          0.05263157894736842,
          0.05263157894736842,
          0.07017543859649122,
          0.07017543859649122,
          0.07894736842105263,
          0.07894736842105263,
          0.09649122807017543,
          0.10526315789473684,
          0.10526315789473684,
          0.12280701754385964,
          0.12280701754385964,
          0.14912280701754385,
          0.14912280701754385,
          0.16666666666666666,
          0.16666666666666666,
          0.18421052631578946,
          0.18421052631578946,
          0.19298245614035087,
          0.19298245614035087,
          0.21929824561403508,
          0.22807017543859648,
          0.22807017543859648,
          0.23684210526315788,
          0.23684210526315788,
          0.24561403508771928,
          0.2719298245614035,
          0.2719298245614035,
          0.2894736842105263,
          0.2894736842105263,
          0.30701754385964913,
          0.30701754385964913,
          0.3157894736842105,
          0.3157894736842105,
          0.32456140350877194,
          0.32456140350877194,
          0.3333333333333333,
          0.3684210526315789,
          0.37719298245614036,
          0.37719298245614036,
          0.40350877192982454,
          0.40350877192982454,
          0.41228070175438597,
          0.41228070175438597,
          0.4298245614035088,
          0.4298245614035088,
          0.4473684210526316,
          0.4473684210526316,
          0.45614035087719296,
          0.47368421052631576,
          0.4824561403508772,
          0.5,
          0.5,
          0.5175438596491229,
          0.5175438596491229,
          0.5526315789473685,
          0.5526315789473685,
          0.5789473684210527,
          0.6140350877192983,
          0.6403508771929824,
          0.6578947368421053,
          0.6666666666666666,
          0.6842105263157895,
          0.7280701754385965,
          0.7543859649122807,
          0.7543859649122807,
          0.7631578947368421,
          0.7807017543859649,
          0.7982456140350878,
          0.8157894736842105,
          0.8421052631578947,
          0.8596491228070176,
          0.868421052631579,
          0.8859649122807017,
          0.8947368421052632,
          0.9298245614035088,
          0.9385964912280702,
          0.9736842105263158,
          0.9824561403508771,
          1
         ],
         "xaxis": "x",
         "y": [
          0,
          0.011627906976744186,
          0.011627906976744186,
          0.023255813953488372,
          0.023255813953488372,
          0.03488372093023256,
          0.03488372093023256,
          0.1511627906976744,
          0.1511627906976744,
          0.38372093023255816,
          0.38372093023255816,
          0.4883720930232558,
          0.4883720930232558,
          0.5,
          0.5,
          0.5,
          0.5348837209302325,
          0.5348837209302325,
          0.5697674418604651,
          0.5697674418604651,
          0.6162790697674418,
          0.6162790697674418,
          0.6395348837209303,
          0.6395348837209303,
          0.6511627906976745,
          0.6511627906976745,
          0.6627906976744186,
          0.6627906976744186,
          0.6627906976744186,
          0.686046511627907,
          0.686046511627907,
          0.7209302325581395,
          0.7209302325581395,
          0.7209302325581395,
          0.7674418604651163,
          0.7674418604651163,
          0.7790697674418605,
          0.7790697674418605,
          0.7906976744186046,
          0.7906976744186046,
          0.8255813953488372,
          0.8255813953488372,
          0.8488372093023255,
          0.8488372093023255,
          0.8488372093023255,
          0.8488372093023255,
          0.8604651162790697,
          0.8604651162790697,
          0.8953488372093024,
          0.8953488372093024,
          0.9069767441860465,
          0.9069767441860465,
          0.9302325581395349,
          0.9302325581395349,
          0.9418604651162791,
          0.9418604651162791,
          0.9418604651162791,
          0.9418604651162791,
          0.9418604651162791,
          0.9651162790697675,
          0.9651162790697675,
          0.9767441860465116,
          0.9767441860465116,
          0.9883720930232558,
          0.9883720930232558,
          0.9883720930232558,
          0.9883720930232558,
          0.9883720930232558,
          0.9883720930232558,
          0.9883720930232558,
          0.9883720930232558,
          0.9883720930232558,
          1,
          1,
          1,
          1,
          1,
          1,
          1,
          1,
          1,
          1,
          1,
          1,
          1,
          1,
          1
         ],
         "yaxis": "y"
        }
       ],
       "layout": {
        "annotations": [
         {
          "arrowhead": 1,
          "showarrow": true,
          "text": "Threshold nearest 60% = 0.60",
          "x": 0.23684210526315788,
          "y": 0.686046511627907
         }
        ],
        "height": 700,
        "legend": {
         "tracegroupgap": 0
        },
        "shapes": [
         {
          "line": {
           "dash": "dash"
          },
          "type": "line",
          "x0": 0,
          "x1": 1,
          "y0": 0,
          "y1": 1
         }
        ],
        "template": {
         "data": {
          "bar": [
           {
            "error_x": {
             "color": "#2a3f5f"
            },
            "error_y": {
             "color": "#2a3f5f"
            },
            "marker": {
             "line": {
              "color": "#E5ECF6",
              "width": 0.5
             },
             "pattern": {
              "fillmode": "overlay",
              "size": 10,
              "solidity": 0.2
             }
            },
            "type": "bar"
           }
          ],
          "barpolar": [
           {
            "marker": {
             "line": {
              "color": "#E5ECF6",
              "width": 0.5
             },
             "pattern": {
              "fillmode": "overlay",
              "size": 10,
              "solidity": 0.2
             }
            },
            "type": "barpolar"
           }
          ],
          "carpet": [
           {
            "aaxis": {
             "endlinecolor": "#2a3f5f",
             "gridcolor": "white",
             "linecolor": "white",
             "minorgridcolor": "white",
             "startlinecolor": "#2a3f5f"
            },
            "baxis": {
             "endlinecolor": "#2a3f5f",
             "gridcolor": "white",
             "linecolor": "white",
             "minorgridcolor": "white",
             "startlinecolor": "#2a3f5f"
            },
            "type": "carpet"
           }
          ],
          "choropleth": [
           {
            "colorbar": {
             "outlinewidth": 0,
             "ticks": ""
            },
            "type": "choropleth"
           }
          ],
          "contour": [
           {
            "colorbar": {
             "outlinewidth": 0,
             "ticks": ""
            },
            "colorscale": [
             [
              0,
              "#0d0887"
             ],
             [
              0.1111111111111111,
              "#46039f"
             ],
             [
              0.2222222222222222,
              "#7201a8"
             ],
             [
              0.3333333333333333,
              "#9c179e"
             ],
             [
              0.4444444444444444,
              "#bd3786"
             ],
             [
              0.5555555555555556,
              "#d8576b"
             ],
             [
              0.6666666666666666,
              "#ed7953"
             ],
             [
              0.7777777777777778,
              "#fb9f3a"
             ],
             [
              0.8888888888888888,
              "#fdca26"
             ],
             [
              1,
              "#f0f921"
             ]
            ],
            "type": "contour"
           }
          ],
          "contourcarpet": [
           {
            "colorbar": {
             "outlinewidth": 0,
             "ticks": ""
            },
            "type": "contourcarpet"
           }
          ],
          "heatmap": [
           {
            "colorbar": {
             "outlinewidth": 0,
             "ticks": ""
            },
            "colorscale": [
             [
              0,
              "#0d0887"
             ],
             [
              0.1111111111111111,
              "#46039f"
             ],
             [
              0.2222222222222222,
              "#7201a8"
             ],
             [
              0.3333333333333333,
              "#9c179e"
             ],
             [
              0.4444444444444444,
              "#bd3786"
             ],
             [
              0.5555555555555556,
              "#d8576b"
             ],
             [
              0.6666666666666666,
              "#ed7953"
             ],
             [
              0.7777777777777778,
              "#fb9f3a"
             ],
             [
              0.8888888888888888,
              "#fdca26"
             ],
             [
              1,
              "#f0f921"
             ]
            ],
            "type": "heatmap"
           }
          ],
          "heatmapgl": [
           {
            "colorbar": {
             "outlinewidth": 0,
             "ticks": ""
            },
            "colorscale": [
             [
              0,
              "#0d0887"
             ],
             [
              0.1111111111111111,
              "#46039f"
             ],
             [
              0.2222222222222222,
              "#7201a8"
             ],
             [
              0.3333333333333333,
              "#9c179e"
             ],
             [
              0.4444444444444444,
              "#bd3786"
             ],
             [
              0.5555555555555556,
              "#d8576b"
             ],
             [
              0.6666666666666666,
              "#ed7953"
             ],
             [
              0.7777777777777778,
              "#fb9f3a"
             ],
             [
              0.8888888888888888,
              "#fdca26"
             ],
             [
              1,
              "#f0f921"
             ]
            ],
            "type": "heatmapgl"
           }
          ],
          "histogram": [
           {
            "marker": {
             "pattern": {
              "fillmode": "overlay",
              "size": 10,
              "solidity": 0.2
             }
            },
            "type": "histogram"
           }
          ],
          "histogram2d": [
           {
            "colorbar": {
             "outlinewidth": 0,
             "ticks": ""
            },
            "colorscale": [
             [
              0,
              "#0d0887"
             ],
             [
              0.1111111111111111,
              "#46039f"
             ],
             [
              0.2222222222222222,
              "#7201a8"
             ],
             [
              0.3333333333333333,
              "#9c179e"
             ],
             [
              0.4444444444444444,
              "#bd3786"
             ],
             [
              0.5555555555555556,
              "#d8576b"
             ],
             [
              0.6666666666666666,
              "#ed7953"
             ],
             [
              0.7777777777777778,
              "#fb9f3a"
             ],
             [
              0.8888888888888888,
              "#fdca26"
             ],
             [
              1,
              "#f0f921"
             ]
            ],
            "type": "histogram2d"
           }
          ],
          "histogram2dcontour": [
           {
            "colorbar": {
             "outlinewidth": 0,
             "ticks": ""
            },
            "colorscale": [
             [
              0,
              "#0d0887"
             ],
             [
              0.1111111111111111,
              "#46039f"
             ],
             [
              0.2222222222222222,
              "#7201a8"
             ],
             [
              0.3333333333333333,
              "#9c179e"
             ],
             [
              0.4444444444444444,
              "#bd3786"
             ],
             [
              0.5555555555555556,
              "#d8576b"
             ],
             [
              0.6666666666666666,
              "#ed7953"
             ],
             [
              0.7777777777777778,
              "#fb9f3a"
             ],
             [
              0.8888888888888888,
              "#fdca26"
             ],
             [
              1,
              "#f0f921"
             ]
            ],
            "type": "histogram2dcontour"
           }
          ],
          "mesh3d": [
           {
            "colorbar": {
             "outlinewidth": 0,
             "ticks": ""
            },
            "type": "mesh3d"
           }
          ],
          "parcoords": [
           {
            "line": {
             "colorbar": {
              "outlinewidth": 0,
              "ticks": ""
             }
            },
            "type": "parcoords"
           }
          ],
          "pie": [
           {
            "automargin": true,
            "type": "pie"
           }
          ],
          "scatter": [
           {
            "marker": {
             "colorbar": {
              "outlinewidth": 0,
              "ticks": ""
             }
            },
            "type": "scatter"
           }
          ],
          "scatter3d": [
           {
            "line": {
             "colorbar": {
              "outlinewidth": 0,
              "ticks": ""
             }
            },
            "marker": {
             "colorbar": {
              "outlinewidth": 0,
              "ticks": ""
             }
            },
            "type": "scatter3d"
           }
          ],
          "scattercarpet": [
           {
            "marker": {
             "colorbar": {
              "outlinewidth": 0,
              "ticks": ""
             }
            },
            "type": "scattercarpet"
           }
          ],
          "scattergeo": [
           {
            "marker": {
             "colorbar": {
              "outlinewidth": 0,
              "ticks": ""
             }
            },
            "type": "scattergeo"
           }
          ],
          "scattergl": [
           {
            "marker": {
             "colorbar": {
              "outlinewidth": 0,
              "ticks": ""
             }
            },
            "type": "scattergl"
           }
          ],
          "scattermapbox": [
           {
            "marker": {
             "colorbar": {
              "outlinewidth": 0,
              "ticks": ""
             }
            },
            "type": "scattermapbox"
           }
          ],
          "scatterpolar": [
           {
            "marker": {
             "colorbar": {
              "outlinewidth": 0,
              "ticks": ""
             }
            },
            "type": "scatterpolar"
           }
          ],
          "scatterpolargl": [
           {
            "marker": {
             "colorbar": {
              "outlinewidth": 0,
              "ticks": ""
             }
            },
            "type": "scatterpolargl"
           }
          ],
          "scatterternary": [
           {
            "marker": {
             "colorbar": {
              "outlinewidth": 0,
              "ticks": ""
             }
            },
            "type": "scatterternary"
           }
          ],
          "surface": [
           {
            "colorbar": {
             "outlinewidth": 0,
             "ticks": ""
            },
            "colorscale": [
             [
              0,
              "#0d0887"
             ],
             [
              0.1111111111111111,
              "#46039f"
             ],
             [
              0.2222222222222222,
              "#7201a8"
             ],
             [
              0.3333333333333333,
              "#9c179e"
             ],
             [
              0.4444444444444444,
              "#bd3786"
             ],
             [
              0.5555555555555556,
              "#d8576b"
             ],
             [
              0.6666666666666666,
              "#ed7953"
             ],
             [
              0.7777777777777778,
              "#fb9f3a"
             ],
             [
              0.8888888888888888,
              "#fdca26"
             ],
             [
              1,
              "#f0f921"
             ]
            ],
            "type": "surface"
           }
          ],
          "table": [
           {
            "cells": {
             "fill": {
              "color": "#EBF0F8"
             },
             "line": {
              "color": "white"
             }
            },
            "header": {
             "fill": {
              "color": "#C8D4E3"
             },
             "line": {
              "color": "white"
             }
            },
            "type": "table"
           }
          ]
         },
         "layout": {
          "annotationdefaults": {
           "arrowcolor": "#2a3f5f",
           "arrowhead": 0,
           "arrowwidth": 1
          },
          "autotypenumbers": "strict",
          "coloraxis": {
           "colorbar": {
            "outlinewidth": 0,
            "ticks": ""
           }
          },
          "colorscale": {
           "diverging": [
            [
             0,
             "#8e0152"
            ],
            [
             0.1,
             "#c51b7d"
            ],
            [
             0.2,
             "#de77ae"
            ],
            [
             0.3,
             "#f1b6da"
            ],
            [
             0.4,
             "#fde0ef"
            ],
            [
             0.5,
             "#f7f7f7"
            ],
            [
             0.6,
             "#e6f5d0"
            ],
            [
             0.7,
             "#b8e186"
            ],
            [
             0.8,
             "#7fbc41"
            ],
            [
             0.9,
             "#4d9221"
            ],
            [
             1,
             "#276419"
            ]
           ],
           "sequential": [
            [
             0,
             "#0d0887"
            ],
            [
             0.1111111111111111,
             "#46039f"
            ],
            [
             0.2222222222222222,
             "#7201a8"
            ],
            [
             0.3333333333333333,
             "#9c179e"
            ],
            [
             0.4444444444444444,
             "#bd3786"
            ],
            [
             0.5555555555555556,
             "#d8576b"
            ],
            [
             0.6666666666666666,
             "#ed7953"
            ],
            [
             0.7777777777777778,
             "#fb9f3a"
            ],
            [
             0.8888888888888888,
             "#fdca26"
            ],
            [
             1,
             "#f0f921"
            ]
           ],
           "sequentialminus": [
            [
             0,
             "#0d0887"
            ],
            [
             0.1111111111111111,
             "#46039f"
            ],
            [
             0.2222222222222222,
             "#7201a8"
            ],
            [
             0.3333333333333333,
             "#9c179e"
            ],
            [
             0.4444444444444444,
             "#bd3786"
            ],
            [
             0.5555555555555556,
             "#d8576b"
            ],
            [
             0.6666666666666666,
             "#ed7953"
            ],
            [
             0.7777777777777778,
             "#fb9f3a"
            ],
            [
             0.8888888888888888,
             "#fdca26"
            ],
            [
             1,
             "#f0f921"
            ]
           ]
          },
          "colorway": [
           "#636efa",
           "#EF553B",
           "#00cc96",
           "#ab63fa",
           "#FFA15A",
           "#19d3f3",
           "#FF6692",
           "#B6E880",
           "#FF97FF",
           "#FECB52"
          ],
          "font": {
           "color": "#2a3f5f"
          },
          "geo": {
           "bgcolor": "white",
           "lakecolor": "white",
           "landcolor": "#E5ECF6",
           "showlakes": true,
           "showland": true,
           "subunitcolor": "white"
          },
          "hoverlabel": {
           "align": "left"
          },
          "hovermode": "closest",
          "mapbox": {
           "style": "light"
          },
          "paper_bgcolor": "white",
          "plot_bgcolor": "#E5ECF6",
          "polar": {
           "angularaxis": {
            "gridcolor": "white",
            "linecolor": "white",
            "ticks": ""
           },
           "bgcolor": "#E5ECF6",
           "radialaxis": {
            "gridcolor": "white",
            "linecolor": "white",
            "ticks": ""
           }
          },
          "scene": {
           "xaxis": {
            "backgroundcolor": "#E5ECF6",
            "gridcolor": "white",
            "gridwidth": 2,
            "linecolor": "white",
            "showbackground": true,
            "ticks": "",
            "zerolinecolor": "white"
           },
           "yaxis": {
            "backgroundcolor": "#E5ECF6",
            "gridcolor": "white",
            "gridwidth": 2,
            "linecolor": "white",
            "showbackground": true,
            "ticks": "",
            "zerolinecolor": "white"
           },
           "zaxis": {
            "backgroundcolor": "#E5ECF6",
            "gridcolor": "white",
            "gridwidth": 2,
            "linecolor": "white",
            "showbackground": true,
            "ticks": "",
            "zerolinecolor": "white"
           }
          },
          "shapedefaults": {
           "line": {
            "color": "#2a3f5f"
           }
          },
          "ternary": {
           "aaxis": {
            "gridcolor": "white",
            "linecolor": "white",
            "ticks": ""
           },
           "baxis": {
            "gridcolor": "white",
            "linecolor": "white",
            "ticks": ""
           },
           "bgcolor": "#E5ECF6",
           "caxis": {
            "gridcolor": "white",
            "linecolor": "white",
            "ticks": ""
           }
          },
          "title": {
           "x": 0.05
          },
          "xaxis": {
           "automargin": true,
           "gridcolor": "white",
           "linecolor": "white",
           "ticks": "",
           "title": {
            "standoff": 15
           },
           "zerolinecolor": "white",
           "zerolinewidth": 2
          },
          "yaxis": {
           "automargin": true,
           "gridcolor": "white",
           "linecolor": "white",
           "ticks": "",
           "title": {
            "standoff": 15
           },
           "zerolinecolor": "white",
           "zerolinewidth": 2
          }
         }
        },
        "title": {
         "text": "ROC Curve (AUC=0.828)"
        },
        "width": 800,
        "xaxis": {
         "anchor": "y",
         "autorange": true,
         "constrain": "domain",
         "domain": [
          0.11328125000000006,
          0.88671875
         ],
         "range": [
          -0.0020283975659229213,
          1.002028397565923
         ],
         "title": {
          "text": "FPR"
         },
         "type": "linear"
        },
        "yaxis": {
         "anchor": "x",
         "autorange": true,
         "domain": [
          0,
          1
         ],
         "range": [
          -0.002028397565922921,
          1.052738336713996
         ],
         "scaleanchor": "x",
         "scaleratio": 1,
         "title": {
          "text": "TPR"
         },
         "type": "linear"
        }
       }
      },
      "image/png": "[encoded data removed]",
      "text/html": [
       "<div>                            <div id=\"fc4ac8e3-64a9-4dd6-9776-fcc4597e86b8\" class=\"plotly-graph-div\" style=\"height:700px; width:800px;\"></div>            <script type=\"text/javascript\">                require([\"plotly\"], function(Plotly) {                    window.PLOTLYENV=window.PLOTLYENV || {};                                    if (document.getElementById(\"fc4ac8e3-64a9-4dd6-9776-fcc4597e86b8\")) {                    Plotly.newPlot(                        \"fc4ac8e3-64a9-4dd6-9776-fcc4597e86b8\",                        [{\"customdata\":[[1.9574742012432087],[0.9574742012432088],[0.9364967580306675],[0.9208024882674011],[0.9119867401382561],[0.9044299275390449],[0.8995595164285733],[0.8292658260841664],[0.8268667801869007],[0.7754193853309488],[0.7723250779720457],[0.732549100105549],[0.7295564671804189],[0.7271806472625836],[0.7239419977446276],[0.7098004734028198],[0.6963550349040599],[0.6860042125448939],[0.6778987181680999],[0.6712749700212349],[0.657705544314212],[0.6574569368291795],[0.6527861256791785],[0.6344363333211309],[0.630129882034801],[0.6268833453067615],[0.6198779257717058],[0.6160858453550159],[0.6145434885762603],[0.6077551432781358],[0.6028683958596941],[0.5828466824537653],[0.5790321169985828],[0.5767158356317628],[0.5558826071544012],[0.5557792939649122],[0.5539009334929647],[0.5532651496414829],[0.5532486544676407],[0.5467815754020935],[0.5400064195484908],[0.532983807598024],[0.5158564372511836],[0.5026428853039642],[0.4962473106645789],[0.4928968877675606],[0.46949114875243836],[0.447699644320515],[0.43552151956476765],[0.43368507031221065],[0.42927403970999023],[0.42845160531845744],[0.4263165245861767],[0.4027545363600116],[0.4000469037727566],[0.3993993211766394],[0.39055389151053865],[0.35192015708650864],[0.34835925448976673],[0.33371639531198855],[0.2978384903685375],[0.28579350037592305],[0.2614874824492333],[0.22846988689510708],[0.20003166550001403],[0.17012980563402724],[0.14904979257825016],[0.1471010317852767],[0.14625073814830525],[0.1387783401470361],[0.11885216747576745],[0.11473991473303193],[0.11278298675328854],[0.11110131308596133],[0.09939151921111311],[0.09613405662326818],[0.09584996012926512],[0.09519119989672811],[0.09474738782393739],[0.09424257050991365],[0.09052605832023806],[0.0900275434247021],[0.06050140673031103],[0.057418395183156536],[0.03767998144006618],[0.031041202335886413],[0.01092720534880626]],\"hovertemplate\":\"FPR=%{x:.2f}<br>TPR=%{y:.2f}<br>Threshold=%{customdata[0]:.2f}<extra></extra>\",\"legendgroup\":\"\",\"line\":{\"color\":\"#636efa\"},\"marker\":{\"symbol\":\"circle\"},\"mode\":\"lines\",\"name\":\"\",\"orientation\":\"v\",\"showlegend\":false,\"stackgroup\":\"1\",\"x\":[0.0,0.0,0.017543859649122806,0.017543859649122806,0.02631578947368421,0.02631578947368421,0.043859649122807015,0.043859649122807015,0.05263157894736842,0.05263157894736842,0.07017543859649122,0.07017543859649122,0.07894736842105263,0.07894736842105263,0.09649122807017543,0.10526315789473684,0.10526315789473684,0.12280701754385964,0.12280701754385964,0.14912280701754385,0.14912280701754385,0.16666666666666666,0.16666666666666666,0.18421052631578946,0.18421052631578946,0.19298245614035087,0.19298245614035087,0.21929824561403508,0.22807017543859648,0.22807017543859648,0.23684210526315788,0.23684210526315788,0.24561403508771928,0.2719298245614035,0.2719298245614035,0.2894736842105263,0.2894736842105263,0.30701754385964913,0.30701754385964913,0.3157894736842105,0.3157894736842105,0.32456140350877194,0.32456140350877194,0.3333333333333333,0.3684210526315789,0.37719298245614036,0.37719298245614036,0.40350877192982454,0.40350877192982454,0.41228070175438597,0.41228070175438597,0.4298245614035088,0.4298245614035088,0.4473684210526316,0.4473684210526316,0.45614035087719296,0.47368421052631576,0.4824561403508772,0.5,0.5,0.5175438596491229,0.5175438596491229,0.5526315789473685,0.5526315789473685,0.5789473684210527,0.6140350877192983,0.6403508771929824,0.6578947368421053,0.6666666666666666,0.6842105263157895,0.7280701754385965,0.7543859649122807,0.7543859649122807,0.7631578947368421,0.7807017543859649,0.7982456140350878,0.8157894736842105,0.8421052631578947,0.8596491228070176,0.868421052631579,0.8859649122807017,0.8947368421052632,0.9298245614035088,0.9385964912280702,0.9736842105263158,0.9824561403508771,1.0],\"xaxis\":\"x\",\"y\":[0.0,0.011627906976744186,0.011627906976744186,0.023255813953488372,0.023255813953488372,0.03488372093023256,0.03488372093023256,0.1511627906976744,0.1511627906976744,0.38372093023255816,0.38372093023255816,0.4883720930232558,0.4883720930232558,0.5,0.5,0.5,0.5348837209302325,0.5348837209302325,0.5697674418604651,0.5697674418604651,0.6162790697674418,0.6162790697674418,0.6395348837209303,0.6395348837209303,0.6511627906976745,0.6511627906976745,0.6627906976744186,0.6627906976744186,0.6627906976744186,0.686046511627907,0.686046511627907,0.7209302325581395,0.7209302325581395,0.7209302325581395,0.7674418604651163,0.7674418604651163,0.7790697674418605,0.7790697674418605,0.7906976744186046,0.7906976744186046,0.8255813953488372,0.8255813953488372,0.8488372093023255,0.8488372093023255,0.8488372093023255,0.8488372093023255,0.8604651162790697,0.8604651162790697,0.8953488372093024,0.8953488372093024,0.9069767441860465,0.9069767441860465,0.9302325581395349,0.9302325581395349,0.9418604651162791,0.9418604651162791,0.9418604651162791,0.9418604651162791,0.9418604651162791,0.9651162790697675,0.9651162790697675,0.9767441860465116,0.9767441860465116,0.9883720930232558,0.9883720930232558,0.9883720930232558,0.9883720930232558,0.9883720930232558,0.9883720930232558,0.9883720930232558,0.9883720930232558,0.9883720930232558,1.0,1.0,1.0,1.0,1.0,1.0,1.0,1.0,1.0,1.0,1.0,1.0,1.0,1.0,1.0],\"yaxis\":\"y\",\"type\":\"scatter\"}],                        {\"template\":{\"data\":{\"bar\":[{\"error_x\":{\"color\":\"#2a3f5f\"},\"error_y\":{\"color\":\"#2a3f5f\"},\"marker\":{\"line\":{\"color\":\"#E5ECF6\",\"width\":0.5},\"pattern\":{\"fillmode\":\"overlay\",\"size\":10,\"solidity\":0.2}},\"type\":\"bar\"}],\"barpolar\":[{\"marker\":{\"line\":{\"color\":\"#E5ECF6\",\"width\":0.5},\"pattern\":{\"fillmode\":\"overlay\",\"size\":10,\"solidity\":0.2}},\"type\":\"barpolar\"}],\"carpet\":[{\"aaxis\":{\"endlinecolor\":\"#2a3f5f\",\"gridcolor\":\"white\",\"linecolor\":\"white\",\"minorgridcolor\":\"white\",\"startlinecolor\":\"#2a3f5f\"},\"baxis\":{\"endlinecolor\":\"#2a3f5f\",\"gridcolor\":\"white\",\"linecolor\":\"white\",\"minorgridcolor\":\"white\",\"startlinecolor\":\"#2a3f5f\"},\"type\":\"carpet\"}],\"choropleth\":[{\"colorbar\":{\"outlinewidth\":0,\"ticks\":\"\"},\"type\":\"choropleth\"}],\"contour\":[{\"colorbar\":{\"outlinewidth\":0,\"ticks\":\"\"},\"colorscale\":[[0.0,\"#0d0887\"],[0.1111111111111111,\"#46039f\"],[0.2222222222222222,\"#7201a8\"],[0.3333333333333333,\"#9c179e\"],[0.4444444444444444,\"#bd3786\"],[0.5555555555555556,\"#d8576b\"],[0.6666666666666666,\"#ed7953\"],[0.7777777777777778,\"#fb9f3a\"],[0.8888888888888888,\"#fdca26\"],[1.0,\"#f0f921\"]],\"type\":\"contour\"}],\"contourcarpet\":[{\"colorbar\":{\"outlinewidth\":0,\"ticks\":\"\"},\"type\":\"contourcarpet\"}],\"heatmap\":[{\"colorbar\":{\"outlinewidth\":0,\"ticks\":\"\"},\"colorscale\":[[0.0,\"#0d0887\"],[0.1111111111111111,\"#46039f\"],[0.2222222222222222,\"#7201a8\"],[0.3333333333333333,\"#9c179e\"],[0.4444444444444444,\"#bd3786\"],[0.5555555555555556,\"#d8576b\"],[0.6666666666666666,\"#ed7953\"],[0.7777777777777778,\"#fb9f3a\"],[0.8888888888888888,\"#fdca26\"],[1.0,\"#f0f921\"]],\"type\":\"heatmap\"}],\"heatmapgl\":[{\"colorbar\":{\"outlinewidth\":0,\"ticks\":\"\"},\"colorscale\":[[0.0,\"#0d0887\"],[0.1111111111111111,\"#46039f\"],[0.2222222222222222,\"#7201a8\"],[0.3333333333333333,\"#9c179e\"],[0.4444444444444444,\"#bd3786\"],[0.5555555555555556,\"#d8576b\"],[0.6666666666666666,\"#ed7953\"],[0.7777777777777778,\"#fb9f3a\"],[0.8888888888888888,\"#fdca26\"],[1.0,\"#f0f921\"]],\"type\":\"heatmapgl\"}],\"histogram\":[{\"marker\":{\"pattern\":{\"fillmode\":\"overlay\",\"size\":10,\"solidity\":0.2}},\"type\":\"histogram\"}],\"histogram2d\":[{\"colorbar\":{\"outlinewidth\":0,\"ticks\":\"\"},\"colorscale\":[[0.0,\"#0d0887\"],[0.1111111111111111,\"#46039f\"],[0.2222222222222222,\"#7201a8\"],[0.3333333333333333,\"#9c179e\"],[0.4444444444444444,\"#bd3786\"],[0.5555555555555556,\"#d8576b\"],[0.6666666666666666,\"#ed7953\"],[0.7777777777777778,\"#fb9f3a\"],[0.8888888888888888,\"#fdca26\"],[1.0,\"#f0f921\"]],\"type\":\"histogram2d\"}],\"histogram2dcontour\":[{\"colorbar\":{\"outlinewidth\":0,\"ticks\":\"\"},\"colorscale\":[[0.0,\"#0d0887\"],[0.1111111111111111,\"#46039f\"],[0.2222222222222222,\"#7201a8\"],[0.3333333333333333,\"#9c179e\"],[0.4444444444444444,\"#bd3786\"],[0.5555555555555556,\"#d8576b\"],[0.6666666666666666,\"#ed7953\"],[0.7777777777777778,\"#fb9f3a\"],[0.8888888888888888,\"#fdca26\"],[1.0,\"#f0f921\"]],\"type\":\"histogram2dcontour\"}],\"mesh3d\":[{\"colorbar\":{\"outlinewidth\":0,\"ticks\":\"\"},\"type\":\"mesh3d\"}],\"parcoords\":[{\"line\":{\"colorbar\":{\"outlinewidth\":0,\"ticks\":\"\"}},\"type\":\"parcoords\"}],\"pie\":[{\"automargin\":true,\"type\":\"pie\"}],\"scatter\":[{\"marker\":{\"colorbar\":{\"outlinewidth\":0,\"ticks\":\"\"}},\"type\":\"scatter\"}],\"scatter3d\":[{\"line\":{\"colorbar\":{\"outlinewidth\":0,\"ticks\":\"\"}},\"marker\":{\"colorbar\":{\"outlinewidth\":0,\"ticks\":\"\"}},\"type\":\"scatter3d\"}],\"scattercarpet\":[{\"marker\":{\"colorbar\":{\"outlinewidth\":0,\"ticks\":\"\"}},\"type\":\"scattercarpet\"}],\"scattergeo\":[{\"marker\":{\"colorbar\":{\"outlinewidth\":0,\"ticks\":\"\"}},\"type\":\"scattergeo\"}],\"scattergl\":[{\"marker\":{\"colorbar\":{\"outlinewidth\":0,\"ticks\":\"\"}},\"type\":\"scattergl\"}],\"scattermapbox\":[{\"marker\":{\"colorbar\":{\"outlinewidth\":0,\"ticks\":\"\"}},\"type\":\"scattermapbox\"}],\"scatterpolar\":[{\"marker\":{\"colorbar\":{\"outlinewidth\":0,\"ticks\":\"\"}},\"type\":\"scatterpolar\"}],\"scatterpolargl\":[{\"marker\":{\"colorbar\":{\"outlinewidth\":0,\"ticks\":\"\"}},\"type\":\"scatterpolargl\"}],\"scatterternary\":[{\"marker\":{\"colorbar\":{\"outlinewidth\":0,\"ticks\":\"\"}},\"type\":\"scatterternary\"}],\"surface\":[{\"colorbar\":{\"outlinewidth\":0,\"ticks\":\"\"},\"colorscale\":[[0.0,\"#0d0887\"],[0.1111111111111111,\"#46039f\"],[0.2222222222222222,\"#7201a8\"],[0.3333333333333333,\"#9c179e\"],[0.4444444444444444,\"#bd3786\"],[0.5555555555555556,\"#d8576b\"],[0.6666666666666666,\"#ed7953\"],[0.7777777777777778,\"#fb9f3a\"],[0.8888888888888888,\"#fdca26\"],[1.0,\"#f0f921\"]],\"type\":\"surface\"}],\"table\":[{\"cells\":{\"fill\":{\"color\":\"#EBF0F8\"},\"line\":{\"color\":\"white\"}},\"header\":{\"fill\":{\"color\":\"#C8D4E3\"},\"line\":{\"color\":\"white\"}},\"type\":\"table\"}]},\"layout\":{\"annotationdefaults\":{\"arrowcolor\":\"#2a3f5f\",\"arrowhead\":0,\"arrowwidth\":1},\"autotypenumbers\":\"strict\",\"coloraxis\":{\"colorbar\":{\"outlinewidth\":0,\"ticks\":\"\"}},\"colorscale\":{\"diverging\":[[0,\"#8e0152\"],[0.1,\"#c51b7d\"],[0.2,\"#de77ae\"],[0.3,\"#f1b6da\"],[0.4,\"#fde0ef\"],[0.5,\"#f7f7f7\"],[0.6,\"#e6f5d0\"],[0.7,\"#b8e186\"],[0.8,\"#7fbc41\"],[0.9,\"#4d9221\"],[1,\"#276419\"]],\"sequential\":[[0.0,\"#0d0887\"],[0.1111111111111111,\"#46039f\"],[0.2222222222222222,\"#7201a8\"],[0.3333333333333333,\"#9c179e\"],[0.4444444444444444,\"#bd3786\"],[0.5555555555555556,\"#d8576b\"],[0.6666666666666666,\"#ed7953\"],[0.7777777777777778,\"#fb9f3a\"],[0.8888888888888888,\"#fdca26\"],[1.0,\"#f0f921\"]],\"sequentialminus\":[[0.0,\"#0d0887\"],[0.1111111111111111,\"#46039f\"],[0.2222222222222222,\"#7201a8\"],[0.3333333333333333,\"#9c179e\"],[0.4444444444444444,\"#bd3786\"],[0.5555555555555556,\"#d8576b\"],[0.6666666666666666,\"#ed7953\"],[0.7777777777777778,\"#fb9f3a\"],[0.8888888888888888,\"#fdca26\"],[1.0,\"#f0f921\"]]},\"colorway\":[\"#636efa\",\"#EF553B\",\"#00cc96\",\"#ab63fa\",\"#FFA15A\",\"#19d3f3\",\"#FF6692\",\"#B6E880\",\"#FF97FF\",\"#FECB52\"],\"font\":{\"color\":\"#2a3f5f\"},\"geo\":{\"bgcolor\":\"white\",\"lakecolor\":\"white\",\"landcolor\":\"#E5ECF6\",\"showlakes\":true,\"showland\":true,\"subunitcolor\":\"white\"},\"hoverlabel\":{\"align\":\"left\"},\"hovermode\":\"closest\",\"mapbox\":{\"style\":\"light\"},\"paper_bgcolor\":\"white\",\"plot_bgcolor\":\"#E5ECF6\",\"polar\":{\"angularaxis\":{\"gridcolor\":\"white\",\"linecolor\":\"white\",\"ticks\":\"\"},\"bgcolor\":\"#E5ECF6\",\"radialaxis\":{\"gridcolor\":\"white\",\"linecolor\":\"white\",\"ticks\":\"\"}},\"scene\":{\"xaxis\":{\"backgroundcolor\":\"#E5ECF6\",\"gridcolor\":\"white\",\"gridwidth\":2,\"linecolor\":\"white\",\"showbackground\":true,\"ticks\":\"\",\"zerolinecolor\":\"white\"},\"yaxis\":{\"backgroundcolor\":\"#E5ECF6\",\"gridcolor\":\"white\",\"gridwidth\":2,\"linecolor\":\"white\",\"showbackground\":true,\"ticks\":\"\",\"zerolinecolor\":\"white\"},\"zaxis\":{\"backgroundcolor\":\"#E5ECF6\",\"gridcolor\":\"white\",\"gridwidth\":2,\"linecolor\":\"white\",\"showbackground\":true,\"ticks\":\"\",\"zerolinecolor\":\"white\"}},\"shapedefaults\":{\"line\":{\"color\":\"#2a3f5f\"}},\"ternary\":{\"aaxis\":{\"gridcolor\":\"white\",\"linecolor\":\"white\",\"ticks\":\"\"},\"baxis\":{\"gridcolor\":\"white\",\"linecolor\":\"white\",\"ticks\":\"\"},\"bgcolor\":\"#E5ECF6\",\"caxis\":{\"gridcolor\":\"white\",\"linecolor\":\"white\",\"ticks\":\"\"}},\"title\":{\"x\":0.05},\"xaxis\":{\"automargin\":true,\"gridcolor\":\"white\",\"linecolor\":\"white\",\"ticks\":\"\",\"title\":{\"standoff\":15},\"zerolinecolor\":\"white\",\"zerolinewidth\":2},\"yaxis\":{\"automargin\":true,\"gridcolor\":\"white\",\"linecolor\":\"white\",\"ticks\":\"\",\"title\":{\"standoff\":15},\"zerolinecolor\":\"white\",\"zerolinewidth\":2}}},\"xaxis\":{\"anchor\":\"y\",\"domain\":[0.0,1.0],\"title\":{\"text\":\"FPR\"},\"constrain\":\"domain\"},\"yaxis\":{\"anchor\":\"x\",\"domain\":[0.0,1.0],\"title\":{\"text\":\"TPR\"},\"scaleanchor\":\"x\",\"scaleratio\":1},\"legend\":{\"tracegroupgap\":0},\"title\":{\"text\":\"ROC Curve (AUC=0.828)\"},\"height\":700,\"width\":800,\"annotations\":[{\"arrowhead\":1,\"showarrow\":true,\"text\":\"Threshold nearest 60% = 0.60\",\"x\":0.23684210526315788,\"y\":0.686046511627907}],\"shapes\":[{\"line\":{\"dash\":\"dash\"},\"type\":\"line\",\"x0\":0,\"x1\":1,\"y0\":0,\"y1\":1}]},                        {\"responsive\": true}                    ).then(function(){\n",
       "                            \n",
       "var gd = document.getElementById('fc4ac8e3-64a9-4dd6-9776-fcc4597e86b8');\n",
       "var x = new MutationObserver(function (mutations, observer) {{\n",
       "        var display = window.getComputedStyle(gd).display;\n",
       "        if (!display || display === 'none') {{\n",
       "            console.log([gd, 'removed!']);\n",
       "            Plotly.purge(gd);\n",
       "            observer.disconnect();\n",
       "        }}\n",
       "}});\n",
       "\n",
       "// Listen for the removal of the full notebook cells\n",
       "var notebookContainer = gd.closest('#notebook-container');\n",
       "if (notebookContainer) {{\n",
       "    x.observe(notebookContainer, {childList: true});\n",
       "}}\n",
       "\n",
       "// Listen for the clearing of the current output cell\n",
       "var outputEl = gd.closest('.output');\n",
       "if (outputEl) {{\n",
       "    x.observe(outputEl, {childList: true});\n",
       "}}\n",
       "\n",
       "                        })                };                });            </script>        </div>"
      ]
     },
     "metadata": {},
     "output_type": "display_data"
    }
   ],
   "source": [
    "import plotly.express as px\n",
    "\n",
    "def make_rocauc(i):\n",
    "    nearest=roc_df.iloc[(roc_df['Threshold']-i).abs().argsort()[:1]]['Threshold'].values[0]\n",
    "    q=roc_df[roc_df['Threshold']==nearest].index[0]\n",
    "    print(nearest, q)\n",
    "    fig = px.area(roc_df, x=\"FPR\", y=\"TPR\",\n",
    "                  title=f'ROC Curve (AUC={metrics.auc(fpr, tpr):.3f})',\n",
    "                  hover_data={'Threshold':':.2f',\n",
    "                              'FPR':':.2f',\n",
    "                              'TPR':':.2f',\n",
    "                             },width=800, height=700)\n",
    "\n",
    "    fig.add_annotation(x=roc_df.iloc[q][0], y=roc_df.iloc[q][1],\n",
    "            text=f\"Threshold nearest {i*100:.0f}% = {roc_df.iloc[q][2]:.2f}\",\n",
    "                showarrow=True,\n",
    "                arrowhead=1)\n",
    "\n",
    "    fig.add_shape(\n",
    "        type='line', line=dict(dash='dash'),\n",
    "        x0=0, x1=1, y0=0, y1=1\n",
    "    )\n",
    "    fig.update_yaxes(scaleanchor=\"x\", scaleratio=1)\n",
    "    fig.update_xaxes(constrain='domain')\n",
    "    return fig\n",
    "make_rocauc(.60)"
   ]
  },
  {
   "cell_type": "code",
   "execution_count": 554,
   "id": "signal-heath",
   "metadata": {},
   "outputs": [
    {
     "data": {
      "application/vnd.plotly.v1+json": {
       "config": {
        "plotlyServerURL": "https://plot.ly"
       },
       "data": [
        {
         "hovertemplate": "False Positive Rate=%{x}<br>True Positive Rate=%{y}<extra></extra>",
         "legendgroup": "",
         "line": {
          "color": "#636efa"
         },
         "marker": {
          "symbol": "circle"
         },
         "mode": "lines",
         "name": "",
         "orientation": "v",
         "showlegend": false,
         "stackgroup": "1",
         "type": "scatter",
         "x": [
          0,
          0,
          0.017543859649122806,
          0.017543859649122806,
          0.02631578947368421,
          0.02631578947368421,
          0.043859649122807015,
          0.043859649122807015,
          0.05263157894736842,
          0.05263157894736842,
          0.07017543859649122,
          0.07017543859649122,
          0.07894736842105263,
          0.07894736842105263,
          0.09649122807017543,
          0.10526315789473684,
          0.10526315789473684,
          0.12280701754385964,
          0.12280701754385964,
          0.14912280701754385,
          0.14912280701754385,
          0.16666666666666666,
          0.16666666666666666,
          0.18421052631578946,
          0.18421052631578946,
          0.19298245614035087,
          0.19298245614035087,
          0.21929824561403508,
          0.22807017543859648,
          0.22807017543859648,
          0.23684210526315788,
          0.23684210526315788,
          0.24561403508771928,
          0.2719298245614035,
          0.2719298245614035,
          0.2894736842105263,
          0.2894736842105263,
          0.30701754385964913,
          0.30701754385964913,
          0.3157894736842105,
          0.3157894736842105,
          0.32456140350877194,
          0.32456140350877194,
          0.3333333333333333,
          0.3684210526315789,
          0.37719298245614036,
          0.37719298245614036,
          0.40350877192982454,
          0.40350877192982454,
          0.41228070175438597,
          0.41228070175438597,
          0.4298245614035088,
          0.4298245614035088,
          0.4473684210526316,
          0.4473684210526316,
          0.45614035087719296,
          0.47368421052631576,
          0.4824561403508772,
          0.5,
          0.5,
          0.5175438596491229,
          0.5175438596491229,
          0.5526315789473685,
          0.5526315789473685,
          0.5789473684210527,
          0.6140350877192983,
          0.6403508771929824,
          0.6578947368421053,
          0.6666666666666666,
          0.6842105263157895,
          0.7280701754385965,
          0.7543859649122807,
          0.7543859649122807,
          0.7631578947368421,
          0.7807017543859649,
          0.7982456140350878,
          0.8157894736842105,
          0.8421052631578947,
          0.8596491228070176,
          0.868421052631579,
          0.8859649122807017,
          0.8947368421052632,
          0.9298245614035088,
          0.9385964912280702,
          0.9736842105263158,
          0.9824561403508771,
          1
         ],
         "xaxis": "x",
         "y": [
          0,
          0.011627906976744186,
          0.011627906976744186,
          0.023255813953488372,
          0.023255813953488372,
          0.03488372093023256,
          0.03488372093023256,
          0.1511627906976744,
          0.1511627906976744,
          0.38372093023255816,
          0.38372093023255816,
          0.4883720930232558,
          0.4883720930232558,
          0.5,
          0.5,
          0.5,
          0.5348837209302325,
          0.5348837209302325,
          0.5697674418604651,
          0.5697674418604651,
          0.6162790697674418,
          0.6162790697674418,
          0.6395348837209303,
          0.6395348837209303,
          0.6511627906976745,
          0.6511627906976745,
          0.6627906976744186,
          0.6627906976744186,
          0.6627906976744186,
          0.686046511627907,
          0.686046511627907,
          0.7209302325581395,
          0.7209302325581395,
          0.7209302325581395,
          0.7674418604651163,
          0.7674418604651163,
          0.7790697674418605,
          0.7790697674418605,
          0.7906976744186046,
          0.7906976744186046,
          0.8255813953488372,
          0.8255813953488372,
          0.8488372093023255,
          0.8488372093023255,
          0.8488372093023255,
          0.8488372093023255,
          0.8604651162790697,
          0.8604651162790697,
          0.8953488372093024,
          0.8953488372093024,
          0.9069767441860465,
          0.9069767441860465,
          0.9302325581395349,
          0.9302325581395349,
          0.9418604651162791,
          0.9418604651162791,
          0.9418604651162791,
          0.9418604651162791,
          0.9418604651162791,
          0.9651162790697675,
          0.9651162790697675,
          0.9767441860465116,
          0.9767441860465116,
          0.9883720930232558,
          0.9883720930232558,
          0.9883720930232558,
          0.9883720930232558,
          0.9883720930232558,
          0.9883720930232558,
          0.9883720930232558,
          0.9883720930232558,
          0.9883720930232558,
          1,
          1,
          1,
          1,
          1,
          1,
          1,
          1,
          1,
          1,
          1,
          1,
          1,
          1,
          1
         ],
         "yaxis": "y"
        }
       ],
       "layout": {
        "height": 500,
        "legend": {
         "tracegroupgap": 0
        },
        "shapes": [
         {
          "line": {
           "dash": "dash"
          },
          "type": "line",
          "x0": 0,
          "x1": 1,
          "y0": 0,
          "y1": 1
         }
        ],
        "template": {
         "data": {
          "bar": [
           {
            "error_x": {
             "color": "#2a3f5f"
            },
            "error_y": {
             "color": "#2a3f5f"
            },
            "marker": {
             "line": {
              "color": "#E5ECF6",
              "width": 0.5
             },
             "pattern": {
              "fillmode": "overlay",
              "size": 10,
              "solidity": 0.2
             }
            },
            "type": "bar"
           }
          ],
          "barpolar": [
           {
            "marker": {
             "line": {
              "color": "#E5ECF6",
              "width": 0.5
             },
             "pattern": {
              "fillmode": "overlay",
              "size": 10,
              "solidity": 0.2
             }
            },
            "type": "barpolar"
           }
          ],
          "carpet": [
           {
            "aaxis": {
             "endlinecolor": "#2a3f5f",
             "gridcolor": "white",
             "linecolor": "white",
             "minorgridcolor": "white",
             "startlinecolor": "#2a3f5f"
            },
            "baxis": {
             "endlinecolor": "#2a3f5f",
             "gridcolor": "white",
             "linecolor": "white",
             "minorgridcolor": "white",
             "startlinecolor": "#2a3f5f"
            },
            "type": "carpet"
           }
          ],
          "choropleth": [
           {
            "colorbar": {
             "outlinewidth": 0,
             "ticks": ""
            },
            "type": "choropleth"
           }
          ],
          "contour": [
           {
            "colorbar": {
             "outlinewidth": 0,
             "ticks": ""
            },
            "colorscale": [
             [
              0,
              "#0d0887"
             ],
             [
              0.1111111111111111,
              "#46039f"
             ],
             [
              0.2222222222222222,
              "#7201a8"
             ],
             [
              0.3333333333333333,
              "#9c179e"
             ],
             [
              0.4444444444444444,
              "#bd3786"
             ],
             [
              0.5555555555555556,
              "#d8576b"
             ],
             [
              0.6666666666666666,
              "#ed7953"
             ],
             [
              0.7777777777777778,
              "#fb9f3a"
             ],
             [
              0.8888888888888888,
              "#fdca26"
             ],
             [
              1,
              "#f0f921"
             ]
            ],
            "type": "contour"
           }
          ],
          "contourcarpet": [
           {
            "colorbar": {
             "outlinewidth": 0,
             "ticks": ""
            },
            "type": "contourcarpet"
           }
          ],
          "heatmap": [
           {
            "colorbar": {
             "outlinewidth": 0,
             "ticks": ""
            },
            "colorscale": [
             [
              0,
              "#0d0887"
             ],
             [
              0.1111111111111111,
              "#46039f"
             ],
             [
              0.2222222222222222,
              "#7201a8"
             ],
             [
              0.3333333333333333,
              "#9c179e"
             ],
             [
              0.4444444444444444,
              "#bd3786"
             ],
             [
              0.5555555555555556,
              "#d8576b"
             ],
             [
              0.6666666666666666,
              "#ed7953"
             ],
             [
              0.7777777777777778,
              "#fb9f3a"
             ],
             [
              0.8888888888888888,
              "#fdca26"
             ],
             [
              1,
              "#f0f921"
             ]
            ],
            "type": "heatmap"
           }
          ],
          "heatmapgl": [
           {
            "colorbar": {
             "outlinewidth": 0,
             "ticks": ""
            },
            "colorscale": [
             [
              0,
              "#0d0887"
             ],
             [
              0.1111111111111111,
              "#46039f"
             ],
             [
              0.2222222222222222,
              "#7201a8"
             ],
             [
              0.3333333333333333,
              "#9c179e"
             ],
             [
              0.4444444444444444,
              "#bd3786"
             ],
             [
              0.5555555555555556,
              "#d8576b"
             ],
             [
              0.6666666666666666,
              "#ed7953"
             ],
             [
              0.7777777777777778,
              "#fb9f3a"
             ],
             [
              0.8888888888888888,
              "#fdca26"
             ],
             [
              1,
              "#f0f921"
             ]
            ],
            "type": "heatmapgl"
           }
          ],
          "histogram": [
           {
            "marker": {
             "pattern": {
              "fillmode": "overlay",
              "size": 10,
              "solidity": 0.2
             }
            },
            "type": "histogram"
           }
          ],
          "histogram2d": [
           {
            "colorbar": {
             "outlinewidth": 0,
             "ticks": ""
            },
            "colorscale": [
             [
              0,
              "#0d0887"
             ],
             [
              0.1111111111111111,
              "#46039f"
             ],
             [
              0.2222222222222222,
              "#7201a8"
             ],
             [
              0.3333333333333333,
              "#9c179e"
             ],
             [
              0.4444444444444444,
              "#bd3786"
             ],
             [
              0.5555555555555556,
              "#d8576b"
             ],
             [
              0.6666666666666666,
              "#ed7953"
             ],
             [
              0.7777777777777778,
              "#fb9f3a"
             ],
             [
              0.8888888888888888,
              "#fdca26"
             ],
             [
              1,
              "#f0f921"
             ]
            ],
            "type": "histogram2d"
           }
          ],
          "histogram2dcontour": [
           {
            "colorbar": {
             "outlinewidth": 0,
             "ticks": ""
            },
            "colorscale": [
             [
              0,
              "#0d0887"
             ],
             [
              0.1111111111111111,
              "#46039f"
             ],
             [
              0.2222222222222222,
              "#7201a8"
             ],
             [
              0.3333333333333333,
              "#9c179e"
             ],
             [
              0.4444444444444444,
              "#bd3786"
             ],
             [
              0.5555555555555556,
              "#d8576b"
             ],
             [
              0.6666666666666666,
              "#ed7953"
             ],
             [
              0.7777777777777778,
              "#fb9f3a"
             ],
             [
              0.8888888888888888,
              "#fdca26"
             ],
             [
              1,
              "#f0f921"
             ]
            ],
            "type": "histogram2dcontour"
           }
          ],
          "mesh3d": [
           {
            "colorbar": {
             "outlinewidth": 0,
             "ticks": ""
            },
            "type": "mesh3d"
           }
          ],
          "parcoords": [
           {
            "line": {
             "colorbar": {
              "outlinewidth": 0,
              "ticks": ""
             }
            },
            "type": "parcoords"
           }
          ],
          "pie": [
           {
            "automargin": true,
            "type": "pie"
           }
          ],
          "scatter": [
           {
            "marker": {
             "colorbar": {
              "outlinewidth": 0,
              "ticks": ""
             }
            },
            "type": "scatter"
           }
          ],
          "scatter3d": [
           {
            "line": {
             "colorbar": {
              "outlinewidth": 0,
              "ticks": ""
             }
            },
            "marker": {
             "colorbar": {
              "outlinewidth": 0,
              "ticks": ""
             }
            },
            "type": "scatter3d"
           }
          ],
          "scattercarpet": [
           {
            "marker": {
             "colorbar": {
              "outlinewidth": 0,
              "ticks": ""
             }
            },
            "type": "scattercarpet"
           }
          ],
          "scattergeo": [
           {
            "marker": {
             "colorbar": {
              "outlinewidth": 0,
              "ticks": ""
             }
            },
            "type": "scattergeo"
           }
          ],
          "scattergl": [
           {
            "marker": {
             "colorbar": {
              "outlinewidth": 0,
              "ticks": ""
             }
            },
            "type": "scattergl"
           }
          ],
          "scattermapbox": [
           {
            "marker": {
             "colorbar": {
              "outlinewidth": 0,
              "ticks": ""
             }
            },
            "type": "scattermapbox"
           }
          ],
          "scatterpolar": [
           {
            "marker": {
             "colorbar": {
              "outlinewidth": 0,
              "ticks": ""
             }
            },
            "type": "scatterpolar"
           }
          ],
          "scatterpolargl": [
           {
            "marker": {
             "colorbar": {
              "outlinewidth": 0,
              "ticks": ""
             }
            },
            "type": "scatterpolargl"
           }
          ],
          "scatterternary": [
           {
            "marker": {
             "colorbar": {
              "outlinewidth": 0,
              "ticks": ""
             }
            },
            "type": "scatterternary"
           }
          ],
          "surface": [
           {
            "colorbar": {
             "outlinewidth": 0,
             "ticks": ""
            },
            "colorscale": [
             [
              0,
              "#0d0887"
             ],
             [
              0.1111111111111111,
              "#46039f"
             ],
             [
              0.2222222222222222,
              "#7201a8"
             ],
             [
              0.3333333333333333,
              "#9c179e"
             ],
             [
              0.4444444444444444,
              "#bd3786"
             ],
             [
              0.5555555555555556,
              "#d8576b"
             ],
             [
              0.6666666666666666,
              "#ed7953"
             ],
             [
              0.7777777777777778,
              "#fb9f3a"
             ],
             [
              0.8888888888888888,
              "#fdca26"
             ],
             [
              1,
              "#f0f921"
             ]
            ],
            "type": "surface"
           }
          ],
          "table": [
           {
            "cells": {
             "fill": {
              "color": "#EBF0F8"
             },
             "line": {
              "color": "white"
             }
            },
            "header": {
             "fill": {
              "color": "#C8D4E3"
             },
             "line": {
              "color": "white"
             }
            },
            "type": "table"
           }
          ]
         },
         "layout": {
          "annotationdefaults": {
           "arrowcolor": "#2a3f5f",
           "arrowhead": 0,
           "arrowwidth": 1
          },
          "autotypenumbers": "strict",
          "coloraxis": {
           "colorbar": {
            "outlinewidth": 0,
            "ticks": ""
           }
          },
          "colorscale": {
           "diverging": [
            [
             0,
             "#8e0152"
            ],
            [
             0.1,
             "#c51b7d"
            ],
            [
             0.2,
             "#de77ae"
            ],
            [
             0.3,
             "#f1b6da"
            ],
            [
             0.4,
             "#fde0ef"
            ],
            [
             0.5,
             "#f7f7f7"
            ],
            [
             0.6,
             "#e6f5d0"
            ],
            [
             0.7,
             "#b8e186"
            ],
            [
             0.8,
             "#7fbc41"
            ],
            [
             0.9,
             "#4d9221"
            ],
            [
             1,
             "#276419"
            ]
           ],
           "sequential": [
            [
             0,
             "#0d0887"
            ],
            [
             0.1111111111111111,
             "#46039f"
            ],
            [
             0.2222222222222222,
             "#7201a8"
            ],
            [
             0.3333333333333333,
             "#9c179e"
            ],
            [
             0.4444444444444444,
             "#bd3786"
            ],
            [
             0.5555555555555556,
             "#d8576b"
            ],
            [
             0.6666666666666666,
             "#ed7953"
            ],
            [
             0.7777777777777778,
             "#fb9f3a"
            ],
            [
             0.8888888888888888,
             "#fdca26"
            ],
            [
             1,
             "#f0f921"
            ]
           ],
           "sequentialminus": [
            [
             0,
             "#0d0887"
            ],
            [
             0.1111111111111111,
             "#46039f"
            ],
            [
             0.2222222222222222,
             "#7201a8"
            ],
            [
             0.3333333333333333,
             "#9c179e"
            ],
            [
             0.4444444444444444,
             "#bd3786"
            ],
            [
             0.5555555555555556,
             "#d8576b"
            ],
            [
             0.6666666666666666,
             "#ed7953"
            ],
            [
             0.7777777777777778,
             "#fb9f3a"
            ],
            [
             0.8888888888888888,
             "#fdca26"
            ],
            [
             1,
             "#f0f921"
            ]
           ]
          },
          "colorway": [
           "#636efa",
           "#EF553B",
           "#00cc96",
           "#ab63fa",
           "#FFA15A",
           "#19d3f3",
           "#FF6692",
           "#B6E880",
           "#FF97FF",
           "#FECB52"
          ],
          "font": {
           "color": "#2a3f5f"
          },
          "geo": {
           "bgcolor": "white",
           "lakecolor": "white",
           "landcolor": "#E5ECF6",
           "showlakes": true,
           "showland": true,
           "subunitcolor": "white"
          },
          "hoverlabel": {
           "align": "left"
          },
          "hovermode": "closest",
          "mapbox": {
           "style": "light"
          },
          "paper_bgcolor": "white",
          "plot_bgcolor": "#E5ECF6",
          "polar": {
           "angularaxis": {
            "gridcolor": "white",
            "linecolor": "white",
            "ticks": ""
           },
           "bgcolor": "#E5ECF6",
           "radialaxis": {
            "gridcolor": "white",
            "linecolor": "white",
            "ticks": ""
           }
          },
          "scene": {
           "xaxis": {
            "backgroundcolor": "#E5ECF6",
            "gridcolor": "white",
            "gridwidth": 2,
            "linecolor": "white",
            "showbackground": true,
            "ticks": "",
            "zerolinecolor": "white"
           },
           "yaxis": {
            "backgroundcolor": "#E5ECF6",
            "gridcolor": "white",
            "gridwidth": 2,
            "linecolor": "white",
            "showbackground": true,
            "ticks": "",
            "zerolinecolor": "white"
           },
           "zaxis": {
            "backgroundcolor": "#E5ECF6",
            "gridcolor": "white",
            "gridwidth": 2,
            "linecolor": "white",
            "showbackground": true,
            "ticks": "",
            "zerolinecolor": "white"
           }
          },
          "shapedefaults": {
           "line": {
            "color": "#2a3f5f"
           }
          },
          "ternary": {
           "aaxis": {
            "gridcolor": "white",
            "linecolor": "white",
            "ticks": ""
           },
           "baxis": {
            "gridcolor": "white",
            "linecolor": "white",
            "ticks": ""
           },
           "bgcolor": "#E5ECF6",
           "caxis": {
            "gridcolor": "white",
            "linecolor": "white",
            "ticks": ""
           }
          },
          "title": {
           "x": 0.05
          },
          "xaxis": {
           "automargin": true,
           "gridcolor": "white",
           "linecolor": "white",
           "ticks": "",
           "title": {
            "standoff": 15
           },
           "zerolinecolor": "white",
           "zerolinewidth": 2
          },
          "yaxis": {
           "automargin": true,
           "gridcolor": "white",
           "linecolor": "white",
           "ticks": "",
           "title": {
            "standoff": 15
           },
           "zerolinecolor": "white",
           "zerolinewidth": 2
          }
         }
        },
        "title": {
         "text": "ROC Curve (AUC=0.828)"
        },
        "width": 700,
        "xaxis": {
         "anchor": "y",
         "autorange": true,
         "constrain": "domain",
         "domain": [
          0.21759259259259262,
          0.7824074074074074
         ],
         "range": [
          -0.003300330033003299,
          1.0033003300330032
         ],
         "title": {
          "text": "False Positive Rate"
         },
         "type": "linear"
        },
        "yaxis": {
         "anchor": "x",
         "autorange": true,
         "domain": [
          0,
          1
         ],
         "range": [
          -0.0033003300330033004,
          1.0528052805280528
         ],
         "scaleanchor": "x",
         "scaleratio": 1,
         "title": {
          "text": "True Positive Rate"
         },
         "type": "linear"
        }
       }
      },
      "image/png": "[encoded data removed]",
      "text/html": [
       "<div>                            <div id=\"ee9ee596-2ca3-4b2c-9432-2159d326e827\" class=\"plotly-graph-div\" style=\"height:500px; width:700px;\"></div>            <script type=\"text/javascript\">                require([\"plotly\"], function(Plotly) {                    window.PLOTLYENV=window.PLOTLYENV || {};                                    if (document.getElementById(\"ee9ee596-2ca3-4b2c-9432-2159d326e827\")) {                    Plotly.newPlot(                        \"ee9ee596-2ca3-4b2c-9432-2159d326e827\",                        [{\"hovertemplate\":\"False Positive Rate=%{x}<br>True Positive Rate=%{y}<extra></extra>\",\"legendgroup\":\"\",\"line\":{\"color\":\"#636efa\"},\"marker\":{\"symbol\":\"circle\"},\"mode\":\"lines\",\"name\":\"\",\"orientation\":\"v\",\"showlegend\":false,\"stackgroup\":\"1\",\"x\":[0.0,0.0,0.017543859649122806,0.017543859649122806,0.02631578947368421,0.02631578947368421,0.043859649122807015,0.043859649122807015,0.05263157894736842,0.05263157894736842,0.07017543859649122,0.07017543859649122,0.07894736842105263,0.07894736842105263,0.09649122807017543,0.10526315789473684,0.10526315789473684,0.12280701754385964,0.12280701754385964,0.14912280701754385,0.14912280701754385,0.16666666666666666,0.16666666666666666,0.18421052631578946,0.18421052631578946,0.19298245614035087,0.19298245614035087,0.21929824561403508,0.22807017543859648,0.22807017543859648,0.23684210526315788,0.23684210526315788,0.24561403508771928,0.2719298245614035,0.2719298245614035,0.2894736842105263,0.2894736842105263,0.30701754385964913,0.30701754385964913,0.3157894736842105,0.3157894736842105,0.32456140350877194,0.32456140350877194,0.3333333333333333,0.3684210526315789,0.37719298245614036,0.37719298245614036,0.40350877192982454,0.40350877192982454,0.41228070175438597,0.41228070175438597,0.4298245614035088,0.4298245614035088,0.4473684210526316,0.4473684210526316,0.45614035087719296,0.47368421052631576,0.4824561403508772,0.5,0.5,0.5175438596491229,0.5175438596491229,0.5526315789473685,0.5526315789473685,0.5789473684210527,0.6140350877192983,0.6403508771929824,0.6578947368421053,0.6666666666666666,0.6842105263157895,0.7280701754385965,0.7543859649122807,0.7543859649122807,0.7631578947368421,0.7807017543859649,0.7982456140350878,0.8157894736842105,0.8421052631578947,0.8596491228070176,0.868421052631579,0.8859649122807017,0.8947368421052632,0.9298245614035088,0.9385964912280702,0.9736842105263158,0.9824561403508771,1.0],\"xaxis\":\"x\",\"y\":[0.0,0.011627906976744186,0.011627906976744186,0.023255813953488372,0.023255813953488372,0.03488372093023256,0.03488372093023256,0.1511627906976744,0.1511627906976744,0.38372093023255816,0.38372093023255816,0.4883720930232558,0.4883720930232558,0.5,0.5,0.5,0.5348837209302325,0.5348837209302325,0.5697674418604651,0.5697674418604651,0.6162790697674418,0.6162790697674418,0.6395348837209303,0.6395348837209303,0.6511627906976745,0.6511627906976745,0.6627906976744186,0.6627906976744186,0.6627906976744186,0.686046511627907,0.686046511627907,0.7209302325581395,0.7209302325581395,0.7209302325581395,0.7674418604651163,0.7674418604651163,0.7790697674418605,0.7790697674418605,0.7906976744186046,0.7906976744186046,0.8255813953488372,0.8255813953488372,0.8488372093023255,0.8488372093023255,0.8488372093023255,0.8488372093023255,0.8604651162790697,0.8604651162790697,0.8953488372093024,0.8953488372093024,0.9069767441860465,0.9069767441860465,0.9302325581395349,0.9302325581395349,0.9418604651162791,0.9418604651162791,0.9418604651162791,0.9418604651162791,0.9418604651162791,0.9651162790697675,0.9651162790697675,0.9767441860465116,0.9767441860465116,0.9883720930232558,0.9883720930232558,0.9883720930232558,0.9883720930232558,0.9883720930232558,0.9883720930232558,0.9883720930232558,0.9883720930232558,0.9883720930232558,1.0,1.0,1.0,1.0,1.0,1.0,1.0,1.0,1.0,1.0,1.0,1.0,1.0,1.0,1.0],\"yaxis\":\"y\",\"type\":\"scatter\"}],                        {\"template\":{\"data\":{\"bar\":[{\"error_x\":{\"color\":\"#2a3f5f\"},\"error_y\":{\"color\":\"#2a3f5f\"},\"marker\":{\"line\":{\"color\":\"#E5ECF6\",\"width\":0.5},\"pattern\":{\"fillmode\":\"overlay\",\"size\":10,\"solidity\":0.2}},\"type\":\"bar\"}],\"barpolar\":[{\"marker\":{\"line\":{\"color\":\"#E5ECF6\",\"width\":0.5},\"pattern\":{\"fillmode\":\"overlay\",\"size\":10,\"solidity\":0.2}},\"type\":\"barpolar\"}],\"carpet\":[{\"aaxis\":{\"endlinecolor\":\"#2a3f5f\",\"gridcolor\":\"white\",\"linecolor\":\"white\",\"minorgridcolor\":\"white\",\"startlinecolor\":\"#2a3f5f\"},\"baxis\":{\"endlinecolor\":\"#2a3f5f\",\"gridcolor\":\"white\",\"linecolor\":\"white\",\"minorgridcolor\":\"white\",\"startlinecolor\":\"#2a3f5f\"},\"type\":\"carpet\"}],\"choropleth\":[{\"colorbar\":{\"outlinewidth\":0,\"ticks\":\"\"},\"type\":\"choropleth\"}],\"contour\":[{\"colorbar\":{\"outlinewidth\":0,\"ticks\":\"\"},\"colorscale\":[[0.0,\"#0d0887\"],[0.1111111111111111,\"#46039f\"],[0.2222222222222222,\"#7201a8\"],[0.3333333333333333,\"#9c179e\"],[0.4444444444444444,\"#bd3786\"],[0.5555555555555556,\"#d8576b\"],[0.6666666666666666,\"#ed7953\"],[0.7777777777777778,\"#fb9f3a\"],[0.8888888888888888,\"#fdca26\"],[1.0,\"#f0f921\"]],\"type\":\"contour\"}],\"contourcarpet\":[{\"colorbar\":{\"outlinewidth\":0,\"ticks\":\"\"},\"type\":\"contourcarpet\"}],\"heatmap\":[{\"colorbar\":{\"outlinewidth\":0,\"ticks\":\"\"},\"colorscale\":[[0.0,\"#0d0887\"],[0.1111111111111111,\"#46039f\"],[0.2222222222222222,\"#7201a8\"],[0.3333333333333333,\"#9c179e\"],[0.4444444444444444,\"#bd3786\"],[0.5555555555555556,\"#d8576b\"],[0.6666666666666666,\"#ed7953\"],[0.7777777777777778,\"#fb9f3a\"],[0.8888888888888888,\"#fdca26\"],[1.0,\"#f0f921\"]],\"type\":\"heatmap\"}],\"heatmapgl\":[{\"colorbar\":{\"outlinewidth\":0,\"ticks\":\"\"},\"colorscale\":[[0.0,\"#0d0887\"],[0.1111111111111111,\"#46039f\"],[0.2222222222222222,\"#7201a8\"],[0.3333333333333333,\"#9c179e\"],[0.4444444444444444,\"#bd3786\"],[0.5555555555555556,\"#d8576b\"],[0.6666666666666666,\"#ed7953\"],[0.7777777777777778,\"#fb9f3a\"],[0.8888888888888888,\"#fdca26\"],[1.0,\"#f0f921\"]],\"type\":\"heatmapgl\"}],\"histogram\":[{\"marker\":{\"pattern\":{\"fillmode\":\"overlay\",\"size\":10,\"solidity\":0.2}},\"type\":\"histogram\"}],\"histogram2d\":[{\"colorbar\":{\"outlinewidth\":0,\"ticks\":\"\"},\"colorscale\":[[0.0,\"#0d0887\"],[0.1111111111111111,\"#46039f\"],[0.2222222222222222,\"#7201a8\"],[0.3333333333333333,\"#9c179e\"],[0.4444444444444444,\"#bd3786\"],[0.5555555555555556,\"#d8576b\"],[0.6666666666666666,\"#ed7953\"],[0.7777777777777778,\"#fb9f3a\"],[0.8888888888888888,\"#fdca26\"],[1.0,\"#f0f921\"]],\"type\":\"histogram2d\"}],\"histogram2dcontour\":[{\"colorbar\":{\"outlinewidth\":0,\"ticks\":\"\"},\"colorscale\":[[0.0,\"#0d0887\"],[0.1111111111111111,\"#46039f\"],[0.2222222222222222,\"#7201a8\"],[0.3333333333333333,\"#9c179e\"],[0.4444444444444444,\"#bd3786\"],[0.5555555555555556,\"#d8576b\"],[0.6666666666666666,\"#ed7953\"],[0.7777777777777778,\"#fb9f3a\"],[0.8888888888888888,\"#fdca26\"],[1.0,\"#f0f921\"]],\"type\":\"histogram2dcontour\"}],\"mesh3d\":[{\"colorbar\":{\"outlinewidth\":0,\"ticks\":\"\"},\"type\":\"mesh3d\"}],\"parcoords\":[{\"line\":{\"colorbar\":{\"outlinewidth\":0,\"ticks\":\"\"}},\"type\":\"parcoords\"}],\"pie\":[{\"automargin\":true,\"type\":\"pie\"}],\"scatter\":[{\"marker\":{\"colorbar\":{\"outlinewidth\":0,\"ticks\":\"\"}},\"type\":\"scatter\"}],\"scatter3d\":[{\"line\":{\"colorbar\":{\"outlinewidth\":0,\"ticks\":\"\"}},\"marker\":{\"colorbar\":{\"outlinewidth\":0,\"ticks\":\"\"}},\"type\":\"scatter3d\"}],\"scattercarpet\":[{\"marker\":{\"colorbar\":{\"outlinewidth\":0,\"ticks\":\"\"}},\"type\":\"scattercarpet\"}],\"scattergeo\":[{\"marker\":{\"colorbar\":{\"outlinewidth\":0,\"ticks\":\"\"}},\"type\":\"scattergeo\"}],\"scattergl\":[{\"marker\":{\"colorbar\":{\"outlinewidth\":0,\"ticks\":\"\"}},\"type\":\"scattergl\"}],\"scattermapbox\":[{\"marker\":{\"colorbar\":{\"outlinewidth\":0,\"ticks\":\"\"}},\"type\":\"scattermapbox\"}],\"scatterpolar\":[{\"marker\":{\"colorbar\":{\"outlinewidth\":0,\"ticks\":\"\"}},\"type\":\"scatterpolar\"}],\"scatterpolargl\":[{\"marker\":{\"colorbar\":{\"outlinewidth\":0,\"ticks\":\"\"}},\"type\":\"scatterpolargl\"}],\"scatterternary\":[{\"marker\":{\"colorbar\":{\"outlinewidth\":0,\"ticks\":\"\"}},\"type\":\"scatterternary\"}],\"surface\":[{\"colorbar\":{\"outlinewidth\":0,\"ticks\":\"\"},\"colorscale\":[[0.0,\"#0d0887\"],[0.1111111111111111,\"#46039f\"],[0.2222222222222222,\"#7201a8\"],[0.3333333333333333,\"#9c179e\"],[0.4444444444444444,\"#bd3786\"],[0.5555555555555556,\"#d8576b\"],[0.6666666666666666,\"#ed7953\"],[0.7777777777777778,\"#fb9f3a\"],[0.8888888888888888,\"#fdca26\"],[1.0,\"#f0f921\"]],\"type\":\"surface\"}],\"table\":[{\"cells\":{\"fill\":{\"color\":\"#EBF0F8\"},\"line\":{\"color\":\"white\"}},\"header\":{\"fill\":{\"color\":\"#C8D4E3\"},\"line\":{\"color\":\"white\"}},\"type\":\"table\"}]},\"layout\":{\"annotationdefaults\":{\"arrowcolor\":\"#2a3f5f\",\"arrowhead\":0,\"arrowwidth\":1},\"autotypenumbers\":\"strict\",\"coloraxis\":{\"colorbar\":{\"outlinewidth\":0,\"ticks\":\"\"}},\"colorscale\":{\"diverging\":[[0,\"#8e0152\"],[0.1,\"#c51b7d\"],[0.2,\"#de77ae\"],[0.3,\"#f1b6da\"],[0.4,\"#fde0ef\"],[0.5,\"#f7f7f7\"],[0.6,\"#e6f5d0\"],[0.7,\"#b8e186\"],[0.8,\"#7fbc41\"],[0.9,\"#4d9221\"],[1,\"#276419\"]],\"sequential\":[[0.0,\"#0d0887\"],[0.1111111111111111,\"#46039f\"],[0.2222222222222222,\"#7201a8\"],[0.3333333333333333,\"#9c179e\"],[0.4444444444444444,\"#bd3786\"],[0.5555555555555556,\"#d8576b\"],[0.6666666666666666,\"#ed7953\"],[0.7777777777777778,\"#fb9f3a\"],[0.8888888888888888,\"#fdca26\"],[1.0,\"#f0f921\"]],\"sequentialminus\":[[0.0,\"#0d0887\"],[0.1111111111111111,\"#46039f\"],[0.2222222222222222,\"#7201a8\"],[0.3333333333333333,\"#9c179e\"],[0.4444444444444444,\"#bd3786\"],[0.5555555555555556,\"#d8576b\"],[0.6666666666666666,\"#ed7953\"],[0.7777777777777778,\"#fb9f3a\"],[0.8888888888888888,\"#fdca26\"],[1.0,\"#f0f921\"]]},\"colorway\":[\"#636efa\",\"#EF553B\",\"#00cc96\",\"#ab63fa\",\"#FFA15A\",\"#19d3f3\",\"#FF6692\",\"#B6E880\",\"#FF97FF\",\"#FECB52\"],\"font\":{\"color\":\"#2a3f5f\"},\"geo\":{\"bgcolor\":\"white\",\"lakecolor\":\"white\",\"landcolor\":\"#E5ECF6\",\"showlakes\":true,\"showland\":true,\"subunitcolor\":\"white\"},\"hoverlabel\":{\"align\":\"left\"},\"hovermode\":\"closest\",\"mapbox\":{\"style\":\"light\"},\"paper_bgcolor\":\"white\",\"plot_bgcolor\":\"#E5ECF6\",\"polar\":{\"angularaxis\":{\"gridcolor\":\"white\",\"linecolor\":\"white\",\"ticks\":\"\"},\"bgcolor\":\"#E5ECF6\",\"radialaxis\":{\"gridcolor\":\"white\",\"linecolor\":\"white\",\"ticks\":\"\"}},\"scene\":{\"xaxis\":{\"backgroundcolor\":\"#E5ECF6\",\"gridcolor\":\"white\",\"gridwidth\":2,\"linecolor\":\"white\",\"showbackground\":true,\"ticks\":\"\",\"zerolinecolor\":\"white\"},\"yaxis\":{\"backgroundcolor\":\"#E5ECF6\",\"gridcolor\":\"white\",\"gridwidth\":2,\"linecolor\":\"white\",\"showbackground\":true,\"ticks\":\"\",\"zerolinecolor\":\"white\"},\"zaxis\":{\"backgroundcolor\":\"#E5ECF6\",\"gridcolor\":\"white\",\"gridwidth\":2,\"linecolor\":\"white\",\"showbackground\":true,\"ticks\":\"\",\"zerolinecolor\":\"white\"}},\"shapedefaults\":{\"line\":{\"color\":\"#2a3f5f\"}},\"ternary\":{\"aaxis\":{\"gridcolor\":\"white\",\"linecolor\":\"white\",\"ticks\":\"\"},\"baxis\":{\"gridcolor\":\"white\",\"linecolor\":\"white\",\"ticks\":\"\"},\"bgcolor\":\"#E5ECF6\",\"caxis\":{\"gridcolor\":\"white\",\"linecolor\":\"white\",\"ticks\":\"\"}},\"title\":{\"x\":0.05},\"xaxis\":{\"automargin\":true,\"gridcolor\":\"white\",\"linecolor\":\"white\",\"ticks\":\"\",\"title\":{\"standoff\":15},\"zerolinecolor\":\"white\",\"zerolinewidth\":2},\"yaxis\":{\"automargin\":true,\"gridcolor\":\"white\",\"linecolor\":\"white\",\"ticks\":\"\",\"title\":{\"standoff\":15},\"zerolinecolor\":\"white\",\"zerolinewidth\":2}}},\"xaxis\":{\"anchor\":\"y\",\"domain\":[0.0,1.0],\"title\":{\"text\":\"False Positive Rate\"},\"constrain\":\"domain\"},\"yaxis\":{\"anchor\":\"x\",\"domain\":[0.0,1.0],\"title\":{\"text\":\"True Positive Rate\"},\"scaleanchor\":\"x\",\"scaleratio\":1},\"legend\":{\"tracegroupgap\":0},\"title\":{\"text\":\"ROC Curve (AUC=0.828)\"},\"height\":500,\"width\":700,\"shapes\":[{\"line\":{\"dash\":\"dash\"},\"type\":\"line\",\"x0\":0,\"x1\":1,\"y0\":0,\"y1\":1}]},                        {\"responsive\": true}                    ).then(function(){\n",
       "                            \n",
       "var gd = document.getElementById('ee9ee596-2ca3-4b2c-9432-2159d326e827');\n",
       "var x = new MutationObserver(function (mutations, observer) {{\n",
       "        var display = window.getComputedStyle(gd).display;\n",
       "        if (!display || display === 'none') {{\n",
       "            console.log([gd, 'removed!']);\n",
       "            Plotly.purge(gd);\n",
       "            observer.disconnect();\n",
       "        }}\n",
       "}});\n",
       "\n",
       "// Listen for the removal of the full notebook cells\n",
       "var notebookContainer = gd.closest('#notebook-container');\n",
       "if (notebookContainer) {{\n",
       "    x.observe(notebookContainer, {childList: true});\n",
       "}}\n",
       "\n",
       "// Listen for the clearing of the current output cell\n",
       "var outputEl = gd.closest('.output');\n",
       "if (outputEl) {{\n",
       "    x.observe(outputEl, {childList: true});\n",
       "}}\n",
       "\n",
       "                        })                };                });            </script>        </div>"
      ]
     },
     "metadata": {},
     "output_type": "display_data"
    }
   ],
   "source": [
    "# display with plotly\n",
    "import plotly.express as px\n",
    "fig = px.area(\n",
    "    x=fpr, y=tpr,\n",
    "    title=f'ROC Curve (AUC={metrics.auc(fpr, tpr):.3f})',\n",
    "    labels=dict(x='False Positive Rate', y='True Positive Rate'),\n",
    "    width=700, height=500\n",
    ")\n",
    "fig.add_shape(\n",
    "    type='line', line=dict(dash='dash'),\n",
    "    x0=0, x1=1, y0=0, y1=1\n",
    ")\n",
    "\n",
    "fig.update_yaxes(scaleanchor=\"x\", scaleratio=1)\n",
    "fig.update_xaxes(constrain='domain')\n",
    "fig.write_json('../assets/rocauc.json')\n",
    "fig.show()"
   ]
  },
  {
   "cell_type": "code",
   "execution_count": 230,
   "id": "0f41f9ed-5f8e-4477-9a59-fd7d45d4c32d",
   "metadata": {},
   "outputs": [],
   "source": [
    "from sklearn.tree import DecisionTreeClassifier\n",
    "from sklearn.neighbors import KNeighborsClassifier\n",
    "from sklearn.naive_bayes import GaussianNB\n",
    "from sklearn.linear_model import LogisticRegression  # Class\n",
    "from sklearn.svm import SVC\n",
    "from sklearn.ensemble import RandomForestClassifier\n",
    "from sklearn.ensemble import BaggingClassifier\n",
    "from sklearn import tree\n",
    "from sklearn.ensemble import AdaBoostClassifier #For Classification\n",
    "from sklearn.ensemble import ExtraTreesClassifier\n",
    "from sklearn.linear_model import RidgeClassifier\n",
    "from sklearn.ensemble import GradientBoostingClassifier\n",
    "from xgboost import XGBClassifier\n",
    "import xgboost as xgb"
   ]
  },
  {
   "cell_type": "code",
   "execution_count": 231,
   "id": "6d43388c-5c09-4ffe-9731-cd44a176ff6c",
   "metadata": {},
   "outputs": [
    {
     "name": "stderr",
     "output_type": "stream",
     "text": [
      "/home/studio-lab-user/.conda/envs/d2l/lib/python3.9/site-packages/scipy/optimize/_linesearch.py:456: LineSearchWarning:\n",
      "\n",
      "The line search algorithm did not converge\n",
      "\n",
      "/home/studio-lab-user/.conda/envs/d2l/lib/python3.9/site-packages/scipy/optimize/_linesearch.py:305: LineSearchWarning:\n",
      "\n",
      "The line search algorithm did not converge\n",
      "\n"
     ]
    },
    {
     "name": "stdout",
     "output_type": "stream",
     "text": [
      "LRM    :roc_auc  : 0.744529 (0.026959)\n",
      "CART   :roc_auc  : 0.647149 (0.039298)\n",
      "GNB    :roc_auc  : 0.738860 (0.018380)\n",
      "ABM    :roc_auc  : 0.691190 (0.039524)\n",
      "GBM    :roc_auc  : 0.736694 (0.040797)\n",
      "RFM    :roc_auc  : 0.771212 (0.056120)\n",
      "ExT    :roc_auc  : 0.750148 (0.046040)\n"
     ]
    }
   ],
   "source": [
    "#from sklearn.model_selection import KFold\n",
    "from sklearn import model_selection\n",
    "\n",
    "# Spot Check Algorithms\n",
    "scoring = 'roc_auc'\n",
    "models = []\n",
    "models.append(('LRM  ', LogisticRegression(random_state = 21, solver='newton-cg', max_iter=1000)))\n",
    "#models.append(('LDA  ', LinearDiscriminantAnalysis()))\n",
    "#models.append(('KNN  ', KNeighborsClassifier(n_neighbors = 21  , metric = 'minkowski', p = 2)))\n",
    "models.append(('CART ', DecisionTreeClassifier(criterion = 'entropy', random_state = 21)))\n",
    "models.append(('GNB  ', GaussianNB()))\n",
    "#models.append(('SVM  ', SVC(kernel = 'linear', random_state = 21)))\n",
    "#models.append(('KSVM ', SVC(kernel = 'rbf', random_state = 21)))\n",
    "models.append(('ABM  ', AdaBoostClassifier(random_state=21 , n_estimators=  53, learning_rate = .7, algorithm = 'SAMME.R')))\n",
    "models.append(('GBM  ', GradientBoostingClassifier()))\n",
    "models.append(('RFM  ', RandomForestClassifier(n_estimators=80, max_features=7, oob_score= True, random_state= 21)))\n",
    "models.append(('ExT  ', ExtraTreesClassifier()))\n",
    "results = []\n",
    "names = []\n",
    "for name, model in models:\n",
    "    cv_results = model_selection.cross_val_score(model, training_features, training_target,  scoring=scoring)\n",
    "    results.append(cv_results)\n",
    "    names.append(name)\n",
    "    msg = \"%s  :%s  : %f (%f)\" % (name, scoring,cv_results.mean(), cv_results.std())\n",
    "    print(msg)"
   ]
  },
  {
   "cell_type": "code",
   "execution_count": 229,
   "id": "22471cea-8753-4d81-8484-11bbf43bbe0d",
   "metadata": {},
   "outputs": [
    {
     "name": "stdout",
     "output_type": "stream",
     "text": [
      "\u001b[31mERROR: Could not find a version that satisfies the requirement GaussianNB (from versions: none)\u001b[0m\u001b[31m\n",
      "\u001b[0m\u001b[31mERROR: No matching distribution found for GaussianNB\u001b[0m\u001b[31m\n",
      "\u001b[0m"
     ]
    }
   ],
   "source": [
    "!pip install GaussianNB"
   ]
  },
  {
   "cell_type": "markdown",
   "id": "disciplinary-symbol",
   "metadata": {},
   "source": [
    "## Make predictions on new data"
   ]
  },
  {
   "cell_type": "code",
   "execution_count": 19,
   "id": "suited-preparation",
   "metadata": {},
   "outputs": [
    {
     "data": {
      "text/plain": [
       "Credit_History         1.0\n",
       "LoanAmount            17.0\n",
       "Loan_Amount_Term     120.0\n",
       "ApplicantIncome     1299.0\n",
       "Name: 14, dtype: float64"
      ]
     },
     "execution_count": 19,
     "metadata": {},
     "output_type": "execute_result"
    }
   ],
   "source": [
    "# check out one row of the test data\n",
    "X_test.iloc[0]"
   ]
  },
  {
   "cell_type": "code",
   "execution_count": 20,
   "id": "endangered-structure",
   "metadata": {},
   "outputs": [
    {
     "name": "stdout",
     "output_type": "stream",
     "text": [
      "1\n",
      "0.8397937895393283\n"
     ]
    }
   ],
   "source": [
    "# show a prediction & probability for that value\n",
    "print(mymodel.predict([X_test.iloc[0].values])[0])\n",
    "print(mymodel.predict_proba([X_test.iloc[0].values]).max())"
   ]
  },
  {
   "cell_type": "code",
   "execution_count": 21,
   "id": "revolutionary-element",
   "metadata": {},
   "outputs": [],
   "source": [
    "# pickle your model\n",
    "import pickle\n",
    "filename = open('loan_approval_logistic_model.pkl', 'wb')\n",
    "pickle.dump(mymodel, filename)\n",
    "filename.close()"
   ]
  },
  {
   "cell_type": "code",
   "execution_count": 22,
   "id": "prepared-leone",
   "metadata": {},
   "outputs": [],
   "source": [
    "# read in our pickle file\n",
    "filename = open('loan_approval_logistic_model.pkl', 'rb')\n",
    "unpickled_model = pickle.load(filename)\n",
    "filename.close()"
   ]
  },
  {
   "cell_type": "code",
   "execution_count": 23,
   "id": "extended-possible",
   "metadata": {},
   "outputs": [],
   "source": [
    "# make predictions on new data\n",
    "fake1=[[1, 1000, 180, 100]]\n",
    "fake2=[[1, 300, 360, 4500]]\n",
    "fake3=[[0, 100, 360, 1000]]"
   ]
  },
  {
   "cell_type": "code",
   "execution_count": 24,
   "id": "radio-google",
   "metadata": {},
   "outputs": [
    {
     "name": "stdout",
     "output_type": "stream",
     "text": [
      "False\n",
      "denied\n",
      "74.67%\n",
      "True\n",
      "approved\n",
      "70.24%\n",
      "False\n",
      "denied\n",
      "84.74%\n"
     ]
    }
   ],
   "source": [
    "# make predictions\n",
    "for data in [fake1, fake2, fake3]:\n",
    "    y = unpickled_model.predict(data)\n",
    "    func = lambda y: 'approved' if y[0]==1 else 'denied'\n",
    "    formatted_y = func(y)\n",
    "    prob=unpickled_model.predict_proba(data).max()*100\n",
    "    formatted_prob = \"{:,.2f}%\".format(prob)\n",
    "    print(y[0]==1)\n",
    "    print(formatted_y)\n",
    "    print(formatted_prob)"
   ]
  },
  {
   "cell_type": "code",
   "execution_count": 25,
   "id": "experimental-pantyhose",
   "metadata": {},
   "outputs": [
    {
     "name": "stdout",
     "output_type": "stream",
     "text": [
      "74.67430567693\n",
      "Denied\n",
      "29.760936281141092\n",
      "Approved\n",
      "84.74455826644059\n",
      "Denied\n"
     ]
    }
   ],
   "source": [
    "# change the threshold\n",
    "Threshold=50\n",
    "for data in [fake1, fake2, fake3]:\n",
    "        rawprob=100*unpickled_model.predict_proba(data)[0][0]\n",
    "        func = lambda y: 'Denied' if int(rawprob)>Threshold else 'Approved'\n",
    "        formatted_y = func(y)\n",
    "        print(rawprob)\n",
    "        print(formatted_y)"
   ]
  },
  {
   "cell_type": "code",
   "execution_count": 26,
   "id": "guilty-transformation",
   "metadata": {},
   "outputs": [
    {
     "name": "stdout",
     "output_type": "stream",
     "text": [
      "0.847445582664406\n"
     ]
    },
    {
     "data": {
      "text/plain": [
       "0.15255441733559405"
      ]
     },
     "execution_count": 26,
     "metadata": {},
     "output_type": "execute_result"
    }
   ],
   "source": [
    "# probability of 'denied'\n",
    "print(unpickled_model.predict_proba(data)[0][0])\n",
    "# probability of 'denied'\n",
    "unpickled_model.predict_proba(data)[0][1]"
   ]
  }
 ],
 "metadata": {
  "kernelspec": {
   "display_name": "d2l:Python",
   "language": "python",
   "name": "conda-env-d2l-py"
  },
  "language_info": {
   "codemirror_mode": {
    "name": "ipython",
    "version": 3
   },
   "file_extension": ".py",
   "mimetype": "text/x-python",
   "name": "python",
   "nbconvert_exporter": "python",
   "pygments_lexer": "ipython3",
   "version": "3.9.10"
  },
  "widgets": {
   "application/vnd.jupyter.widget-state+json": {
    "state": {},
    "version_major": 2,
    "version_minor": 0
   }
  }
 },
 "nbformat": 4,
 "nbformat_minor": 5
}
